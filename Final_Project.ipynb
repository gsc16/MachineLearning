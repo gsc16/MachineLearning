{
  "nbformat": 4,
  "nbformat_minor": 0,
  "metadata": {
    "colab": {
      "name": "Final_Project.ipynb",
      "provenance": [],
      "collapsed_sections": [],
      "include_colab_link": true
    },
    "kernelspec": {
      "name": "python3",
      "display_name": "Python 3"
    },
    "accelerator": "GPU"
  },
  "cells": [
    {
      "cell_type": "markdown",
      "metadata": {
        "id": "view-in-github",
        "colab_type": "text"
      },
      "source": [
        "<a href=\"https://colab.research.google.com/github/gsc16/MachineLearning/blob/master/Final_Project.ipynb\" target=\"_parent\"><img src=\"https://colab.research.google.com/assets/colab-badge.svg\" alt=\"Open In Colab\"/></a>"
      ]
    },
    {
      "cell_type": "code",
      "metadata": {
        "id": "aru7XTY011g4",
        "colab": {
          "base_uri": "https://localhost:8080/",
          "height": 581
        },
        "outputId": "d6e6f26e-d7c0-421d-9411-30fc3b8d300b"
      },
      "source": [
        "import csv \n",
        "import pandas as pd\n",
        "import string\n",
        "import numpy as np\n",
        "import re\n",
        "import sys\n",
        "import time\n",
        "\n",
        "import nltk\n",
        "nltk.download('punkt')\n",
        "nltk.download('stopwords')\n",
        "nltk.download('averaged_perceptron_tagger')\n",
        "nltk.download('wordnet')\n",
        "from nltk.tokenize import sent_tokenize, word_tokenize \n",
        "from nltk.corpus import stopwords\n",
        "from nltk.corpus import wordnet\n",
        "from nltk.stem import WordNetLemmatizer \n",
        "\n",
        "import warnings \n",
        "warnings.filterwarnings(action = 'ignore') \n",
        "\n",
        "import gensim \n",
        "from gensim.models import Word2Vec \n",
        "\n",
        "from keras.layers import Dense, Input, LSTM,GRU, Embedding, Dropout, Activation\n",
        "from keras.layers import Bidirectional\n",
        "from keras.models import Sequential\n",
        "from keras.preprocessing.sequence import pad_sequences\n",
        "from keras.preprocessing.text import Tokenizer\n",
        "from keras.optimizers import Adam\n",
        "\n",
        "!pip install symspellpy\n",
        "from symspellpy.symspellpy import SymSpell\n",
        "import os\n",
        "!wget https://github.com/mammothb/symspellpy/blob/master/symspellpy/frequency_dictionary_en_82_765.txt?raw=true \\\n",
        "  -O freq_dict.txt\n",
        "  \n",
        "%matplotlib inline\n",
        "import matplotlib.pyplot as plt"
      ],
      "execution_count": null,
      "outputs": [
        {
          "output_type": "stream",
          "text": [
            "[nltk_data] Downloading package punkt to /root/nltk_data...\n",
            "[nltk_data]   Package punkt is already up-to-date!\n",
            "[nltk_data] Downloading package stopwords to /root/nltk_data...\n",
            "[nltk_data]   Package stopwords is already up-to-date!\n",
            "[nltk_data] Downloading package averaged_perceptron_tagger to\n",
            "[nltk_data]     /root/nltk_data...\n",
            "[nltk_data]   Package averaged_perceptron_tagger is already up-to-\n",
            "[nltk_data]       date!\n",
            "[nltk_data] Downloading package wordnet to /root/nltk_data...\n",
            "[nltk_data]   Package wordnet is already up-to-date!\n",
            "Requirement already satisfied: symspellpy in /usr/local/lib/python3.6/dist-packages (6.3.8)\n",
            "Requirement already satisfied: numpy>=1.13.1 in /usr/local/lib/python3.6/dist-packages (from symspellpy) (1.16.3)\n",
            "--2019-04-25 16:12:14--  https://github.com/mammothb/symspellpy/blob/master/symspellpy/frequency_dictionary_en_82_765.txt?raw=true\n",
            "Resolving github.com (github.com)... 192.30.253.112, 192.30.253.113\n",
            "Connecting to github.com (github.com)|192.30.253.112|:443... connected.\n",
            "HTTP request sent, awaiting response... 302 Found\n",
            "Location: https://github.com/mammothb/symspellpy/raw/master/symspellpy/frequency_dictionary_en_82_765.txt [following]\n",
            "--2019-04-25 16:12:14--  https://github.com/mammothb/symspellpy/raw/master/symspellpy/frequency_dictionary_en_82_765.txt\n",
            "Reusing existing connection to github.com:443.\n",
            "HTTP request sent, awaiting response... 302 Found\n",
            "Location: https://raw.githubusercontent.com/mammothb/symspellpy/master/symspellpy/frequency_dictionary_en_82_765.txt [following]\n",
            "--2019-04-25 16:12:14--  https://raw.githubusercontent.com/mammothb/symspellpy/master/symspellpy/frequency_dictionary_en_82_765.txt\n",
            "Resolving raw.githubusercontent.com (raw.githubusercontent.com)... 151.101.0.133, 151.101.64.133, 151.101.128.133, ...\n",
            "Connecting to raw.githubusercontent.com (raw.githubusercontent.com)|151.101.0.133|:443... connected.\n",
            "HTTP request sent, awaiting response... 200 OK\n",
            "Length: 1331886 (1.3M) [text/plain]\n",
            "Saving to: ‘freq_dict.txt’\n",
            "\n",
            "freq_dict.txt       100%[===================>]   1.27M  6.91MB/s    in 0.2s    \n",
            "\n",
            "2019-04-25 16:12:14 (6.91 MB/s) - ‘freq_dict.txt’ saved [1331886/1331886]\n",
            "\n"
          ],
          "name": "stdout"
        }
      ]
    },
    {
      "cell_type": "code",
      "metadata": {
        "id": "d9EpiUXc14JG"
      },
      "source": [
        "TRAIN_DATA_FILE = 'train.csv'\n",
        "TEST_DATA_FILE = 'test.csv'\n",
        "\n",
        "train_df = pd.read_csv(TRAIN_DATA_FILE)\n",
        "test_df = pd.read_csv(TEST_DATA_FILE)\n",
        "\n",
        "list_classes = [\"toxic\", \"severe_toxic\", \"obscene\", \"threat\", \"insult\", \"identity_hate\"]\n",
        "y_train = train_df[list_classes].values\n",
        "y_test = test_df[list_classes].values\n",
        "\n",
        "sentences_train = train_df[\"comment_text\"].fillna(\"\").values\n",
        "sentences_test = test_df[\"comment_text\"].fillna(\"\").values"
      ],
      "execution_count": null,
      "outputs": []
    },
    {
      "cell_type": "code",
      "metadata": {
        "id": "U0E1DbdK2A1B",
        "colab": {
          "base_uri": "https://localhost:8080/",
          "height": 51
        },
        "outputId": "ad3be045-0b46-4f86-d110-489364b602ad"
      },
      "source": [
        "def basic_preprocess(sentences, labels, min_len=5, max_len=200):\n",
        "  data_sentences = [re.sub(r'[^a-zA-Z ]', '', sentence).lower() for \n",
        "                    sentence in sentences]\n",
        "  \n",
        "  data_sentences = [sentence.split() for sentence in data_sentences]\n",
        "  \n",
        "  small_len = 10000000\n",
        "  large_len = -1\n",
        "\n",
        "  remove_index = [i for i in range(len(data_sentences)) if \n",
        "                  (len(data_sentences[i]) < min_len or \n",
        "                   len(data_sentences[i]) > max_len)]\n",
        "\n",
        "  data_sentences = np.delete(data_sentences, remove_index, 0)\n",
        "  data_labels = np.delete(labels, remove_index, 0)\n",
        "\n",
        "  for sentence in data_sentences:\n",
        "    sent_len = len(sentence)\n",
        "\n",
        "    small_len = small_len if sent_len > small_len else sent_len\n",
        "    large_len = large_len if sent_len < large_len else sent_len\n",
        "\n",
        "  print(len(data_sentences))\n",
        "\n",
        "  return data_sentences, data_labels\n",
        "\n",
        "sentences_train, y_train = basic_preprocess(sentences_train, y_train)\n",
        "sentences_test, y_test = basic_preprocess(sentences_test, y_test)\n",
        "\n",
        "data_words = np.concatenate((sentences_train, sentences_test))\n",
        "data = [' '.join(sentence) for sentence in data_words]\n",
        "data_spell = data"
      ],
      "execution_count": null,
      "outputs": [
        {
          "output_type": "stream",
          "text": [
            "36268\n",
            "18007\n"
          ],
          "name": "stdout"
        }
      ]
    },
    {
      "cell_type": "code",
      "metadata": {
        "id": "pD8-f3E1budC",
        "colab": {
          "base_uri": "https://localhost:8080/",
          "height": 1955
        },
        "outputId": "92a6a710-e720-4305-e142-fc358b6eb24b"
      },
      "source": [
        "max_ed = 2\n",
        "# create object\n",
        "sym_spell = SymSpell(max_ed, 7)\n",
        "\n",
        "if not sym_spell.load_dictionary(\"freq_dict.txt\", 0, 1):\n",
        "  print(\"Dictionary file not loaded.\")\n",
        "\n",
        "start = time.time()\n",
        "\n",
        "for i in range(len(data)):\n",
        "  data[i] = sym_spell.lookup_compound(data[i], max_ed)[0].term\n",
        "  end = time.time()\n",
        "  if(i%1000 == 0):\n",
        "    print(\"Spell-checked %d sentences. %.2f minutes passed so far.\" % (i+1, (end - start)/60))\n",
        "\n",
        "end = time.time()\n",
        "\n",
        "print(\"\\nSpell-checking of %d words finished in %.2f minutes\" % (i+1, (end - start)/60))\n"
      ],
      "execution_count": null,
      "outputs": [
        {
          "output_type": "stream",
          "text": [
            "Spell-checked 1 sentences. 0.00 minutes passed so far.\n",
            "Spell-checked 1001 sentences. 1.43 minutes passed so far.\n",
            "Spell-checked 2001 sentences. 2.65 minutes passed so far.\n",
            "Spell-checked 3001 sentences. 3.71 minutes passed so far.\n",
            "Spell-checked 4001 sentences. 4.83 minutes passed so far.\n",
            "Spell-checked 5001 sentences. 5.97 minutes passed so far.\n",
            "Spell-checked 6001 sentences. 7.12 minutes passed so far.\n",
            "Spell-checked 7001 sentences. 8.15 minutes passed so far.\n",
            "Spell-checked 8001 sentences. 9.28 minutes passed so far.\n",
            "Spell-checked 9001 sentences. 10.58 minutes passed so far.\n",
            "Spell-checked 10001 sentences. 11.90 minutes passed so far.\n",
            "Spell-checked 11001 sentences. 13.58 minutes passed so far.\n",
            "Spell-checked 12001 sentences. 15.30 minutes passed so far.\n",
            "Spell-checked 13001 sentences. 17.14 minutes passed so far.\n",
            "Spell-checked 14001 sentences. 18.75 minutes passed so far.\n",
            "Spell-checked 15001 sentences. 20.33 minutes passed so far.\n",
            "Spell-checked 16001 sentences. 21.96 minutes passed so far.\n",
            "Spell-checked 17001 sentences. 23.83 minutes passed so far.\n",
            "Spell-checked 18001 sentences. 25.59 minutes passed so far.\n",
            "Spell-checked 19001 sentences. 27.33 minutes passed so far.\n",
            "Spell-checked 20001 sentences. 29.13 minutes passed so far.\n",
            "Spell-checked 21001 sentences. 30.86 minutes passed so far.\n",
            "Spell-checked 22001 sentences. 32.68 minutes passed so far.\n",
            "Spell-checked 23001 sentences. 34.36 minutes passed so far.\n",
            "Spell-checked 24001 sentences. 36.16 minutes passed so far.\n",
            "Spell-checked 25001 sentences. 37.98 minutes passed so far.\n",
            "Spell-checked 26001 sentences. 39.95 minutes passed so far.\n",
            "Spell-checked 27001 sentences. 41.63 minutes passed so far.\n",
            "Spell-checked 28001 sentences. 43.42 minutes passed so far.\n",
            "Spell-checked 29001 sentences. 45.26 minutes passed so far.\n",
            "Spell-checked 30001 sentences. 47.07 minutes passed so far.\n",
            "Spell-checked 31001 sentences. 48.77 minutes passed so far.\n",
            "Spell-checked 32001 sentences. 50.50 minutes passed so far.\n",
            "Spell-checked 33001 sentences. 52.39 minutes passed so far.\n",
            "Spell-checked 34001 sentences. 54.31 minutes passed so far.\n",
            "Spell-checked 35001 sentences. 56.20 minutes passed so far.\n",
            "Spell-checked 36001 sentences. 58.04 minutes passed so far.\n",
            "Spell-checked 37001 sentences. 59.67 minutes passed so far.\n",
            "Spell-checked 38001 sentences. 61.42 minutes passed so far.\n",
            "Spell-checked 39001 sentences. 63.08 minutes passed so far.\n",
            "Spell-checked 40001 sentences. 64.79 minutes passed so far.\n",
            "Spell-checked 41001 sentences. 66.87 minutes passed so far.\n",
            "Spell-checked 42001 sentences. 68.88 minutes passed so far.\n",
            "Spell-checked 43001 sentences. 70.79 minutes passed so far.\n",
            "Spell-checked 44001 sentences. 72.63 minutes passed so far.\n",
            "Spell-checked 45001 sentences. 74.52 minutes passed so far.\n",
            "Spell-checked 46001 sentences. 76.30 minutes passed so far.\n",
            "Spell-checked 47001 sentences. 78.04 minutes passed so far.\n",
            "Spell-checked 48001 sentences. 79.93 minutes passed so far.\n",
            "Spell-checked 49001 sentences. 81.63 minutes passed so far.\n",
            "Spell-checked 50001 sentences. 83.44 minutes passed so far.\n",
            "Spell-checked 51001 sentences. 85.26 minutes passed so far.\n",
            "Spell-checked 52001 sentences. 87.11 minutes passed so far.\n",
            "Spell-checked 53001 sentences. 88.94 minutes passed so far.\n",
            "Spell-checked 54001 sentences. 90.68 minutes passed so far.\n",
            "\n",
            "Spell-checking of 54275 words finished in 91.13 minutes\n",
            "Spell-checked 1 sentences. 0.00 minutes passed so far.\n",
            "Spell-checked 1001 sentences. 1.43 minutes passed so far.\n",
            "Spell-checked 2001 sentences. 2.65 minutes passed so far.\n",
            "Spell-checked 3001 sentences. 3.71 minutes passed so far.\n",
            "Spell-checked 4001 sentences. 4.83 minutes passed so far.\n",
            "Spell-checked 5001 sentences. 5.97 minutes passed so far.\n",
            "Spell-checked 6001 sentences. 7.12 minutes passed so far.\n",
            "Spell-checked 7001 sentences. 8.15 minutes passed so far.\n",
            "Spell-checked 8001 sentences. 9.28 minutes passed so far.\n",
            "Spell-checked 9001 sentences. 10.58 minutes passed so far.\n",
            "Spell-checked 10001 sentences. 11.90 minutes passed so far.\n",
            "Spell-checked 11001 sentences. 13.58 minutes passed so far.\n",
            "Spell-checked 12001 sentences. 15.30 minutes passed so far.\n",
            "Spell-checked 13001 sentences. 17.14 minutes passed so far.\n",
            "Spell-checked 14001 sentences. 18.75 minutes passed so far.\n",
            "Spell-checked 15001 sentences. 20.33 minutes passed so far.\n",
            "Spell-checked 16001 sentences. 21.96 minutes passed so far.\n",
            "Spell-checked 17001 sentences. 23.83 minutes passed so far.\n",
            "Spell-checked 18001 sentences. 25.59 minutes passed so far.\n",
            "Spell-checked 19001 sentences. 27.33 minutes passed so far.\n",
            "Spell-checked 20001 sentences. 29.13 minutes passed so far.\n",
            "Spell-checked 21001 sentences. 30.86 minutes passed so far.\n",
            "Spell-checked 22001 sentences. 32.68 minutes passed so far.\n",
            "Spell-checked 23001 sentences. 34.36 minutes passed so far.\n",
            "Spell-checked 24001 sentences. 36.16 minutes passed so far.\n",
            "Spell-checked 25001 sentences. 37.98 minutes passed so far.\n",
            "Spell-checked 26001 sentences. 39.95 minutes passed so far.\n",
            "Spell-checked 27001 sentences. 41.63 minutes passed so far.\n",
            "Spell-checked 28001 sentences. 43.42 minutes passed so far.\n",
            "Spell-checked 29001 sentences. 45.26 minutes passed so far.\n",
            "Spell-checked 30001 sentences. 47.07 minutes passed so far.\n",
            "Spell-checked 31001 sentences. 48.77 minutes passed so far.\n",
            "Spell-checked 32001 sentences. 50.50 minutes passed so far.\n",
            "Spell-checked 33001 sentences. 52.39 minutes passed so far.\n",
            "Spell-checked 34001 sentences. 54.31 minutes passed so far.\n",
            "Spell-checked 35001 sentences. 56.20 minutes passed so far.\n",
            "Spell-checked 36001 sentences. 58.04 minutes passed so far.\n",
            "Spell-checked 37001 sentences. 59.67 minutes passed so far.\n",
            "Spell-checked 38001 sentences. 61.42 minutes passed so far.\n",
            "Spell-checked 39001 sentences. 63.08 minutes passed so far.\n",
            "Spell-checked 40001 sentences. 64.79 minutes passed so far.\n",
            "Spell-checked 41001 sentences. 66.87 minutes passed so far.\n",
            "Spell-checked 42001 sentences. 68.88 minutes passed so far.\n",
            "Spell-checked 43001 sentences. 70.79 minutes passed so far.\n",
            "Spell-checked 44001 sentences. 72.63 minutes passed so far.\n",
            "Spell-checked 45001 sentences. 74.52 minutes passed so far.\n",
            "Spell-checked 46001 sentences. 76.30 minutes passed so far.\n",
            "Spell-checked 47001 sentences. 78.04 minutes passed so far.\n",
            "Spell-checked 48001 sentences. 79.93 minutes passed so far.\n",
            "Spell-checked 49001 sentences. 81.63 minutes passed so far.\n",
            "Spell-checked 50001 sentences. 83.44 minutes passed so far.\n",
            "Spell-checked 51001 sentences. 85.26 minutes passed so far.\n",
            "Spell-checked 52001 sentences. 87.11 minutes passed so far.\n",
            "Spell-checked 53001 sentences. 88.94 minutes passed so far.\n",
            "Spell-checked 54001 sentences. 90.68 minutes passed so far.\n",
            "\n",
            "Spell-checking of 54275 words finished in 91.13 minutes\n"
          ],
          "name": "stdout"
        }
      ]
    },
    {
      "cell_type": "code",
      "metadata": {
        "id": "HJfPE5QYwuRF"
      },
      "source": [
        "data_words = [sentence.split() for sentence in data]"
      ],
      "execution_count": null,
      "outputs": []
    },
    {
      "cell_type": "code",
      "metadata": {
        "id": "tu2tLG0n8qGK",
        "colab": {
          "base_uri": "https://localhost:8080/",
          "height": 289
        },
        "outputId": "dc61f2ed-94e8-4f37-e80e-dcd9fc8252b8"
      },
      "source": [
        "def get_pos(part):\n",
        "    tag = part[0].upper()\n",
        "    tag_dict = {\"J\": wordnet.ADJ,\n",
        "                \"N\": wordnet.NOUN,\n",
        "                \"V\": wordnet.VERB,\n",
        "                \"R\": wordnet.ADV}\n",
        "\n",
        "    return tag_dict.get(tag, wordnet.NOUN)\n",
        "\n",
        "start = time.time()\n",
        "lem = WordNetLemmatizer()\n",
        "\n",
        "for i in range(len(data_words)):\n",
        "  data_pos = nltk.pos_tag(data_words[i])\n",
        "  data_words[i] = [lem.lemmatize(w[0], get_pos(w[1])) for w in data_pos]\n",
        "  \n",
        "  if i%10000 == 0:\n",
        "    print(\"Lemmatized %d sentences so far.\"%(i+1))\n",
        "\n",
        "print(\"\\nLemmatizing of %d sentences finished in %.2f minutes\" % \n",
        "      (i+1, (time.time() - start)/60))\n",
        "\n",
        "data = [' '.join(sentence) for sentence in data_words]"
      ],
      "execution_count": null,
      "outputs": [
        {
          "output_type": "stream",
          "text": [
            "Lemmatized 1 sentences so far.\n",
            "Lemmatized 10001 sentences so far.\n",
            "Lemmatized 20001 sentences so far.\n",
            "Lemmatized 30001 sentences so far.\n",
            "Lemmatized 40001 sentences so far.\n",
            "Lemmatized 50001 sentences so far.\n",
            "\n",
            "Lemmatizing of 54275 sentences finished in 2.12 minutes\n",
            "Lemmatized 1 sentences so far.\n",
            "Lemmatized 10001 sentences so far.\n",
            "Lemmatized 20001 sentences so far.\n",
            "Lemmatized 30001 sentences so far.\n",
            "Lemmatized 40001 sentences so far.\n",
            "Lemmatized 50001 sentences so far.\n",
            "\n",
            "Lemmatizing of 54275 sentences finished in 2.12 minutes\n"
          ],
          "name": "stdout"
        }
      ]
    },
    {
      "cell_type": "code",
      "metadata": {
        "id": "lqiQRzF0Mr5A"
      },
      "source": [
        "# Fpr Running this program over and over\n",
        "df = pd.DataFrame(data = data, columns=['comment_text'])\n",
        "df.to_csv('processed_input.csv', index=False,header=True)\n",
        "\n",
        "df = pd.DataFrame(data = y_test, columns=list_classes)\n",
        "df.to_csv('test_labels.csv',index=False,header=True)\n",
        "\n",
        "df = pd.DataFrame(data = y_train, columns=list_classes)\n",
        "df.to_csv('train_labels.csv',index=False,header=True)"
      ],
      "execution_count": null,
      "outputs": []
    },
    {
      "cell_type": "code",
      "metadata": {
        "id": "Ckz_15zJIbi6"
      },
      "source": [
        "test_load = pd.read_csv('test_labels.csv')\n",
        "train_load = pd.read_csv('train_labels.csv')\n",
        "data_load =  pd.read_csv('processed_input.csv')\n",
        "list_classes = [\"toxic\", \"severe_toxic\", \"obscene\", \"threat\", \"insult\", \"identity_hate\"]\n",
        "\n",
        "y_train = train_load[list_classes].values\n",
        "y_test = test_load[list_classes].values\n",
        "\n",
        "data = data_load[\"comment_text\"].fillna(\"\").values\n",
        "data_words = [sentence.split() for sentence in data]\n",
        "\n",
        "# Remove stopwords\n",
        "\n",
        "'''filter_words = set(stopwords.words('english')) \n",
        "for row in range(len(data_words)):\n",
        "  data_words[row] = [w for w in data_words[row] if not w in filter_words]'''\n",
        "  \n",
        "data = [' '.join(sentence) for sentence in data_words]"
      ],
      "execution_count": null,
      "outputs": []
    },
    {
      "cell_type": "code",
      "metadata": {
        "id": "r4-PHLrebHC3"
      },
      "source": [
        "vec_size = 200\n",
        "model1 = gensim.models.Word2Vec(data_words, min_count = 15,  \n",
        "                              size = vec_size)\n",
        "vectors = model1.wv"
      ],
      "execution_count": null,
      "outputs": []
    },
    {
      "cell_type": "code",
      "metadata": {
        "id": "sHmrkED8YrqY",
        "colab": {
          "base_uri": "https://localhost:8080/",
          "height": 187
        },
        "outputId": "cfb88702-9483-40c7-f8e2-b7d2b3232514"
      },
      "source": [
        "vectors.most_similar(\"stupid\")"
      ],
      "execution_count": null,
      "outputs": [
        {
          "output_type": "execute_result",
          "data": {
            "text/plain": [
              "[('dumb', 0.7681975364685059),\n",
              " ('fucking', 0.7192113399505615),\n",
              " ('crazy', 0.7024043798446655),\n",
              " ('sad', 0.69004225730896),\n",
              " ('pathetic', 0.6896001100540161),\n",
              " ('funny', 0.6853489875793457),\n",
              " ('damn', 0.6623865365982056),\n",
              " ('ignorant', 0.6603406667709351),\n",
              " ('lazy', 0.6532288789749146),\n",
              " ('rude', 0.6487330198287964)]"
            ]
          },
          "metadata": {
            "tags": []
          },
          "execution_count": 4
        }
      ]
    },
    {
      "cell_type": "code",
      "metadata": {
        "id": "K1rrOiPgZyM2",
        "colab": {
          "base_uri": "https://localhost:8080/",
          "height": 34
        },
        "outputId": "ec85e7da-4203-4b85-e076-47a1bffa90e7"
      },
      "source": [
        "avg_len = 0\n",
        "highest_len = -1\n",
        "for sentence in data_words:\n",
        "  sent_len = len(sentence)\n",
        "  avg_len+=len(sentence)\n",
        "  if(sent_len > highest_len):\n",
        "    highest_len = sent_len\n",
        "\n",
        "highest_len\n",
        "  "
      ],
      "execution_count": null,
      "outputs": [
        {
          "output_type": "execute_result",
          "data": {
            "text/plain": [
              "285"
            ]
          },
          "metadata": {
            "tags": []
          },
          "execution_count": 5
        }
      ]
    },
    {
      "cell_type": "code",
      "metadata": {
        "id": "szA_NK7kliCQ"
      },
      "source": [
        "# Convert the list of sentences to a list of number sequences,\n",
        "# where each number is a unique identifier to a word.\n",
        "seq_limit = 100\n",
        "\n",
        "tokenizer = Tokenizer(num_words= 100000)\n",
        "tokenizer.fit_on_texts(data)\n",
        "\n",
        "data_seq = tokenizer.texts_to_sequences(data)\n",
        "data_pad = pad_sequences(data_seq, maxlen=seq_limit)\n",
        "\n"
      ],
      "execution_count": null,
      "outputs": []
    },
    {
      "cell_type": "code",
      "metadata": {
        "id": "ilSukxP6kUAy"
      },
      "source": [
        "num_train = len(y_train)\n",
        "num_test = len(y_test)\n",
        "shuffled_i = np.random.permutation(num_train)\n",
        "x_train = data_pad[:num_train]\n",
        "x_train = x_train[shuffled_i]\n",
        "y_train = y_train[shuffled_i]\n",
        "\n",
        "shuffled_i_2 = np.random.permutation(num_test)\n",
        "x_test = data_pad[num_train:]\n",
        "x_test = data_pad[shuffled_i_2]\n",
        "y_test = y_test[shuffled_i_2]"
      ],
      "execution_count": null,
      "outputs": []
    },
    {
      "cell_type": "code",
      "metadata": {
        "id": "k9QkpFWs_3_5",
        "colab": {
          "base_uri": "https://localhost:8080/",
          "height": 51
        },
        "outputId": "bee834e5-0997-4817-9a65-a2affb4cbc89"
      },
      "source": [
        "index_dict = tokenizer.word_index\n",
        "\n",
        "print(\"Total number of words: %d\"% len(index_dict))\n",
        "\n",
        "num_words = min(150000, len(index_dict))+1\n",
        "embed_matrix = np.zeros((num_words, vec_size))\n",
        "num_wrong = []\n",
        "\n",
        "for word, index in index_dict.items():\n",
        "    if word in vectors:\n",
        "      embed_matrix[index] = vectors[word]\n",
        "    else:\n",
        "      num_wrong.append(word)\n",
        "print('Num of null embeddings: %d' % np.sum(np.sum(embed_matrix, axis=1) == 0))\n",
        "\n",
        "embed_layer = Embedding(num_words,\n",
        "                        vec_size,\n",
        "                        weights=[embed_matrix],\n",
        "                        input_length=seq_limit,\n",
        "                        trainable=False,\n",
        "                        mask_zero = True)"
      ],
      "execution_count": null,
      "outputs": [
        {
          "output_type": "stream",
          "text": [
            "Total number of words: 36629\n",
            "Num of null embeddings: 29838\n"
          ],
          "name": "stdout"
        }
      ]
    },
    {
      "cell_type": "code",
      "metadata": {
        "id": "ttr9ppBXQ9OQ"
      },
      "source": [
        "def plot_graphs(history):\n",
        "  acc = history.history['acc']\n",
        "  val_acc = history.history['val_acc']\n",
        "\n",
        "  loss = history.history['loss']\n",
        "  val_loss = history.history['val_loss']\n",
        "\n",
        "  epochs = range(1, len(acc) + 1)\n",
        "\n",
        "  # training and validation accuracy\n",
        "\n",
        "  plt.plot(epochs, acc, 'r', label='training acc')\n",
        "  plt.plot(epochs, val_acc, 'b', label='validation acc')\n",
        "  plt.title('Training/Validation accuracy')\n",
        "  plt.legend()\n",
        "\n",
        "  plt.figure()\n",
        "\n",
        "  # training and validation loss\n",
        "\n",
        "  plt.plot(epochs, loss, 'r', label='training loss')\n",
        "  plt.plot(epochs, val_loss, 'b', label='validation loss')\n",
        "  plt.title('Training/Validation loss')\n",
        "  plt.legend()\n",
        "\n",
        "  plt.show()\n"
      ],
      "execution_count": null,
      "outputs": []
    },
    {
      "cell_type": "code",
      "metadata": {
        "id": "qKkJnUInnvWA",
        "colab": {
          "base_uri": "https://localhost:8080/",
          "height": 598
        },
        "outputId": "42910ad3-3e36-4a49-d682-5ca402663dbd"
      },
      "source": [
        "gru_model = Sequential()\n",
        "gru_model.add(embed_layer)\n",
        "gru_model.add(Bidirectional(GRU(100, return_sequences=False, dropout=0.1, recurrent_dropout=0.1)))\n",
        "gru_model.add(Dense(6, activation=\"sigmoid\"))\n",
        "gru_model.compile(optimizer=Adam(lr=0.001), loss='binary_crossentropy', metrics=['accuracy'])\n",
        "\n",
        "gru_model.summary()\n",
        "\n",
        "history_gru = gru_model.fit(x_train, y_train, batch_size=64, epochs=5, validation_data = (x_test,y_test));\n",
        "\n",
        "predictions_gru = gru_model.predict(x_test)"
      ],
      "execution_count": null,
      "outputs": [
        {
          "output_type": "stream",
          "text": [
            "WARNING:tensorflow:From /usr/local/lib/python3.6/dist-packages/tensorflow/python/framework/op_def_library.py:263: colocate_with (from tensorflow.python.framework.ops) is deprecated and will be removed in a future version.\n",
            "Instructions for updating:\n",
            "Colocations handled automatically by placer.\n",
            "WARNING:tensorflow:From /usr/local/lib/python3.6/dist-packages/keras/backend/tensorflow_backend.py:3445: calling dropout (from tensorflow.python.ops.nn_ops) with keep_prob is deprecated and will be removed in a future version.\n",
            "Instructions for updating:\n",
            "Please use `rate` instead of `keep_prob`. Rate should be set to `rate = 1 - keep_prob`.\n",
            "_________________________________________________________________\n",
            "Layer (type)                 Output Shape              Param #   \n",
            "=================================================================\n",
            "embedding_1 (Embedding)      (None, 100, 200)          7326000   \n",
            "_________________________________________________________________\n",
            "bidirectional_1 (Bidirection (None, 200)               180600    \n",
            "_________________________________________________________________\n",
            "dense_1 (Dense)              (None, 6)                 1206      \n",
            "=================================================================\n",
            "Total params: 7,507,806\n",
            "Trainable params: 181,806\n",
            "Non-trainable params: 7,326,000\n",
            "_________________________________________________________________\n",
            "WARNING:tensorflow:From /usr/local/lib/python3.6/dist-packages/tensorflow/python/ops/math_ops.py:3066: to_int32 (from tensorflow.python.ops.math_ops) is deprecated and will be removed in a future version.\n",
            "Instructions for updating:\n",
            "Use tf.cast instead.\n",
            "Train on 36268 samples, validate on 18007 samples\n",
            "Epoch 1/5\n",
            "36268/36268 [==============================] - 225s 6ms/step - loss: 0.1508 - acc: 0.9408 - val_loss: 0.6473 - val_acc: 0.8055\n",
            "Epoch 2/5\n",
            "36268/36268 [==============================] - 223s 6ms/step - loss: 0.1202 - acc: 0.9514 - val_loss: 0.6572 - val_acc: 0.8120\n",
            "Epoch 3/5\n",
            "36268/36268 [==============================] - 222s 6ms/step - loss: 0.1131 - acc: 0.9537 - val_loss: 0.7430 - val_acc: 0.7951\n",
            "Epoch 4/5\n",
            "36268/36268 [==============================] - 223s 6ms/step - loss: 0.1076 - acc: 0.9561 - val_loss: 0.7283 - val_acc: 0.7974\n",
            "Epoch 5/5\n",
            "36268/36268 [==============================] - 222s 6ms/step - loss: 0.1026 - acc: 0.9579 - val_loss: 0.8070 - val_acc: 0.7887\n"
          ],
          "name": "stdout"
        }
      ]
    },
    {
      "cell_type": "code",
      "metadata": {
        "id": "ro_GBi4EFX7S",
        "colab": {
          "base_uri": "https://localhost:8080/",
          "height": 445
        },
        "outputId": "93829d73-0668-41c2-84e9-f9215c465908"
      },
      "source": [
        "lstm_model = Sequential()\n",
        "lstm_model.add(embed_layer)\n",
        "lstm_model.add(Bidirectional(LSTM(100, return_sequences=False, dropout=0.1, recurrent_dropout=0.1)))\n",
        "lstm_model.add(Dense(6, activation=\"sigmoid\"))\n",
        "lstm_model.compile(optimizer=Adam(lr=0.001), loss='binary_crossentropy', metrics=['accuracy'])\n",
        "\n",
        "lstm_model.summary()\n",
        "\n",
        "history_lstm = lstm_model.fit(x_train, y_train, batch_size=64, epochs=5, validation_data=(x_test,y_test));\n",
        "\n",
        "predictions_lstm = lstm_model.predict(x_test)"
      ],
      "execution_count": null,
      "outputs": [
        {
          "output_type": "stream",
          "text": [
            "_________________________________________________________________\n",
            "Layer (type)                 Output Shape              Param #   \n",
            "=================================================================\n",
            "embedding_1 (Embedding)      (None, 100, 200)          7326000   \n",
            "_________________________________________________________________\n",
            "bidirectional_2 (Bidirection (None, 200)               240800    \n",
            "_________________________________________________________________\n",
            "dense_2 (Dense)              (None, 6)                 1206      \n",
            "=================================================================\n",
            "Total params: 7,568,006\n",
            "Trainable params: 242,006\n",
            "Non-trainable params: 7,326,000\n",
            "_________________________________________________________________\n",
            "Train on 36268 samples, validate on 18007 samples\n",
            "Epoch 1/5\n",
            "36268/36268 [==============================] - 286s 8ms/step - loss: 0.1527 - acc: 0.9395 - val_loss: 0.6733 - val_acc: 0.7925\n",
            "Epoch 2/5\n",
            "36268/36268 [==============================] - 286s 8ms/step - loss: 0.1233 - acc: 0.9502 - val_loss: 0.6895 - val_acc: 0.7946\n",
            "Epoch 3/5\n",
            "36268/36268 [==============================] - 283s 8ms/step - loss: 0.1153 - acc: 0.9534 - val_loss: 0.6559 - val_acc: 0.8128\n",
            "Epoch 4/5\n",
            "36268/36268 [==============================] - 285s 8ms/step - loss: 0.1091 - acc: 0.9554 - val_loss: 0.6768 - val_acc: 0.8116\n",
            "Epoch 5/5\n",
            "36268/36268 [==============================] - 284s 8ms/step - loss: 0.1041 - acc: 0.9574 - val_loss: 0.7309 - val_acc: 0.8018\n"
          ],
          "name": "stdout"
        }
      ]
    },
    {
      "cell_type": "code",
      "metadata": {
        "id": "eA8938OwEED3"
      },
      "source": [
        "def overall_stats(predictions):\n",
        "  true_pos = 0\n",
        "  true_neg = 0\n",
        "  false_pos = 0\n",
        "  false_neg = 0\n",
        "\n",
        "  for i in range(len(predictions)):\n",
        "    predictions[i] = np.around(predictions[i])\n",
        "\n",
        "    for label in range(6):\n",
        "      pred = predictions[i][label]\n",
        "      if pred == y_test[i][label]:\n",
        "        if pred == 0:\n",
        "          true_neg+=1\n",
        "        else:\n",
        "          true_pos+=1\n",
        "      elif pred == 1:\n",
        "        false_pos+=1\n",
        "      else:\n",
        "        false_neg+=1\n",
        "  \n",
        "  return (true_pos,true_neg,false_pos,false_neg)"
      ],
      "execution_count": null,
      "outputs": []
    },
    {
      "cell_type": "code",
      "metadata": {
        "id": "2g09Z7dO_Ytv"
      },
      "source": [
        "def advanced_stats(stats):\n",
        "  tp, tn, fp, fn = stats\n",
        "  recall = tp/(tp+fn)\n",
        "  precision = tp/(tp+fp)\n",
        "  if(recall+precision > 0):\n",
        "    f1_score = 2*recall*precision/(recall + precision)\n",
        "  else:\n",
        "    f1_score = 0\n",
        "  ham_loss = (fp+fn)/(tp+tn+fp+fn)\n",
        "  \n",
        "  return (recall, precision, f1_score, ham_loss)\n",
        "  "
      ],
      "execution_count": null,
      "outputs": []
    },
    {
      "cell_type": "code",
      "metadata": {
        "id": "nFeG_zuAD8hP"
      },
      "source": [
        "def label_stats(index, predictions):\n",
        "  true_n = 0\n",
        "  true_p = 0\n",
        "  false_p = 0\n",
        "  false_n = 0\n",
        "  \n",
        "  for i in range(len(predictions)):\n",
        "    pred = predictions[i][index]\n",
        "    true = y_test[i][index]\n",
        "    \n",
        "    if pred == true:\n",
        "      if pred == 0:\n",
        "        true_n+=1\n",
        "      else:\n",
        "        true_p+=1\n",
        "\n",
        "    elif pred == 1:\n",
        "      false_p+=1\n",
        "    else:\n",
        "      false_n+=1\n",
        "  \n",
        "  return (true_p, true_n, false_p, false_n)\n"
      ],
      "execution_count": null,
      "outputs": []
    },
    {
      "cell_type": "code",
      "metadata": {
        "id": "Kd1BiCQGDxi3"
      },
      "source": [
        "def print_stats(stat_tuple):\n",
        "  tp, tn, fp, fn = stat_tuple\n",
        "  recall, precision, f1, ham = advanced_stats(stat_tuple)\n",
        "  \n",
        "  print(\"Total True: %d\\nTotal False: %d\\nTrue Pos: %d\\nTrue Neg: %d\\nFalse Pos: %d\\nFalse Neg: %d\"\n",
        "        % (tp+fn, tn+fp, tp, tn, fp, fn))\n",
        "  \n",
        "  print(\"Recall: %.3f\\nPrecision: %.3f\\nF1-Score: %.3f\\nHamming Loss: %.3f\\n\"\n",
        "        % (recall, precision, f1, ham))"
      ],
      "execution_count": null,
      "outputs": []
    },
    {
      "cell_type": "code",
      "metadata": {
        "id": "41vZGY33ygn6",
        "colab": {
          "base_uri": "https://localhost:8080/",
          "height": 204
        },
        "outputId": "191fadfa-0be1-4013-8ac1-2c32cb017ef9"
      },
      "source": [
        "overall_gru = overall_stats(predictions_gru) \n",
        "print_stats(overall_gru)"
      ],
      "execution_count": null,
      "outputs": [
        {
          "output_type": "stream",
          "text": [
            "Total True: 3928\n",
            "Total False: 104114\n",
            "True Pos: 1486\n",
            "True Neg: 83722\n",
            "False Pos: 20392\n",
            "False Neg: 2442\n",
            "Recall: 0.378\n",
            "Precision: 0.068\n",
            "F1-Score: 0.115\n",
            "Hamming Loss: 0.211\n",
            "\n"
          ],
          "name": "stdout"
        }
      ]
    },
    {
      "cell_type": "code",
      "metadata": {
        "id": "1kSUliCYFrZ0",
        "colab": {
          "base_uri": "https://localhost:8080/",
          "height": 204
        },
        "outputId": "6858f521-85d0-4b38-ca83-a626cee834cc"
      },
      "source": [
        "overall_lstm = overall_stats(predictions_lstm) \n",
        "print_stats(overall_lstm)"
      ],
      "execution_count": null,
      "outputs": [
        {
          "output_type": "stream",
          "text": [
            "Total True: 3928\n",
            "Total False: 104114\n",
            "True Pos: 1367\n",
            "True Neg: 85257\n",
            "False Pos: 18857\n",
            "False Neg: 2561\n",
            "Recall: 0.348\n",
            "Precision: 0.068\n",
            "F1-Score: 0.113\n",
            "Hamming Loss: 0.198\n",
            "\n"
          ],
          "name": "stdout"
        }
      ]
    },
    {
      "cell_type": "code",
      "metadata": {
        "id": "wpoQRsLuv-4u",
        "colab": {
          "base_uri": "https://localhost:8080/",
          "height": 1241
        },
        "outputId": "7ec0a9ea-23e6-4e22-bb43-bb39c97054ef"
      },
      "source": [
        "gru_tox = label_stats(0, predictions_gru)\n",
        "gru_sev = label_stats(1, predictions_gru)\n",
        "gru_obs = label_stats(2, predictions_gru)\n",
        "gru_thr = label_stats(3, predictions_gru)\n",
        "gru_ins = label_stats(4, predictions_gru)\n",
        "gru_idh = label_stats(5, predictions_gru)\n",
        "\n",
        "print(\"Toxic Stats\")\n",
        "print_stats(gru_tox)\n",
        "\n",
        "print(\"Severe Stats\")\n",
        "print_stats(gru_sev)\n",
        "\n",
        "print(\"Obscenity Stats\")\n",
        "print_stats(gru_obs)\n",
        "\n",
        "print(\"Threat Stats\")\n",
        "print_stats(gru_thr)\n",
        "\n",
        "print(\"Insult Stats\")\n",
        "print_stats(gru_ins)\n",
        "\n",
        "print(\"Identity-Hate Stats\")\n",
        "print_stats(gru_idh)\n"
      ],
      "execution_count": null,
      "outputs": [
        {
          "output_type": "stream",
          "text": [
            "Toxic Stats\n",
            "Total True: 1767\n",
            "Total False: 16240\n",
            "True Pos: 962\n",
            "True Neg: 7239\n",
            "False Pos: 9001\n",
            "False Neg: 805\n",
            "Recall: 0.544\n",
            "Precision: 0.097\n",
            "F1-Score: 0.164\n",
            "Hamming Loss: 0.545\n",
            "\n",
            "Severe Stats\n",
            "Total True: 166\n",
            "Total False: 17841\n",
            "True Pos: 2\n",
            "True Neg: 17445\n",
            "False Pos: 396\n",
            "False Neg: 164\n",
            "Recall: 0.012\n",
            "Precision: 0.005\n",
            "F1-Score: 0.007\n",
            "Hamming Loss: 0.031\n",
            "\n",
            "Obscenity Stats\n",
            "Total True: 915\n",
            "Total False: 17092\n",
            "True Pos: 262\n",
            "True Neg: 12049\n",
            "False Pos: 5043\n",
            "False Neg: 653\n",
            "Recall: 0.286\n",
            "Precision: 0.049\n",
            "F1-Score: 0.084\n",
            "Hamming Loss: 0.316\n",
            "\n",
            "Threat Stats\n",
            "Total True: 57\n",
            "Total False: 17950\n",
            "True Pos: 0\n",
            "True Neg: 17766\n",
            "False Pos: 184\n",
            "False Neg: 57\n",
            "Recall: 0.000\n",
            "Precision: 0.000\n",
            "F1-Score: 0.000\n",
            "Hamming Loss: 0.013\n",
            "\n",
            "Insult Stats\n",
            "Total True: 858\n",
            "Total False: 17149\n",
            "True Pos: 255\n",
            "True Neg: 11929\n",
            "False Pos: 5220\n",
            "False Neg: 603\n",
            "Recall: 0.297\n",
            "Precision: 0.047\n",
            "F1-Score: 0.081\n",
            "Hamming Loss: 0.323\n",
            "\n",
            "Identity-Hate Stats\n",
            "Total True: 165\n",
            "Total False: 17842\n",
            "True Pos: 5\n",
            "True Neg: 17294\n",
            "False Pos: 548\n",
            "False Neg: 160\n",
            "Recall: 0.030\n",
            "Precision: 0.009\n",
            "F1-Score: 0.014\n",
            "Hamming Loss: 0.039\n",
            "\n"
          ],
          "name": "stdout"
        }
      ]
    },
    {
      "cell_type": "code",
      "metadata": {
        "id": "_UJrQduj-xYL",
        "colab": {
          "base_uri": "https://localhost:8080/",
          "height": 1241
        },
        "outputId": "9bd4e7c5-9a4a-4f4e-c9dd-4431dc0b6dd7"
      },
      "source": [
        "lstm_tox = label_stats(0, predictions_lstm)\n",
        "lstm_sev = label_stats(1, predictions_lstm)\n",
        "lstm_obs = label_stats(2, predictions_lstm)\n",
        "lstm_thr = label_stats(3, predictions_lstm)\n",
        "lstm_ins = label_stats(4, predictions_lstm)\n",
        "lstm_idh = label_stats(5, predictions_lstm)\n",
        "\n",
        "print(\"Toxic Stats\")\n",
        "print_stats(lstm_tox)\n",
        "\n",
        "print(\"Severe Stats\")\n",
        "print_stats(lstm_sev)\n",
        "\n",
        "print(\"Obscenity Stats\")\n",
        "print_stats(lstm_obs)\n",
        "\n",
        "print(\"Threat Stats\")\n",
        "print_stats(lstm_thr)\n",
        "\n",
        "print(\"Insult Stats\")\n",
        "print_stats(lstm_ins)\n",
        "\n",
        "print(\"Identity-Hate Stats\")\n",
        "print_stats(lstm_idh)\n",
        "\n"
      ],
      "execution_count": null,
      "outputs": [
        {
          "output_type": "stream",
          "text": [
            "Toxic Stats\n",
            "Total True: 1767\n",
            "Total False: 16240\n",
            "True Pos: 899\n",
            "True Neg: 7804\n",
            "False Pos: 8436\n",
            "False Neg: 868\n",
            "Recall: 0.509\n",
            "Precision: 0.096\n",
            "F1-Score: 0.162\n",
            "Hamming Loss: 0.517\n",
            "\n",
            "Severe Stats\n",
            "Total True: 166\n",
            "Total False: 17841\n",
            "True Pos: 8\n",
            "True Neg: 16839\n",
            "False Pos: 1002\n",
            "False Neg: 158\n",
            "Recall: 0.048\n",
            "Precision: 0.008\n",
            "F1-Score: 0.014\n",
            "Hamming Loss: 0.064\n",
            "\n",
            "Obscenity Stats\n",
            "Total True: 915\n",
            "Total False: 17092\n",
            "True Pos: 242\n",
            "True Neg: 12481\n",
            "False Pos: 4611\n",
            "False Neg: 673\n",
            "Recall: 0.264\n",
            "Precision: 0.050\n",
            "F1-Score: 0.084\n",
            "Hamming Loss: 0.293\n",
            "\n",
            "Threat Stats\n",
            "Total True: 57\n",
            "Total False: 17950\n",
            "True Pos: 0\n",
            "True Neg: 17741\n",
            "False Pos: 209\n",
            "False Neg: 57\n",
            "Recall: 0.000\n",
            "Precision: 0.000\n",
            "F1-Score: 0.000\n",
            "Hamming Loss: 0.015\n",
            "\n",
            "Insult Stats\n",
            "Total True: 858\n",
            "Total False: 17149\n",
            "True Pos: 216\n",
            "True Neg: 12824\n",
            "False Pos: 4325\n",
            "False Neg: 642\n",
            "Recall: 0.252\n",
            "Precision: 0.048\n",
            "F1-Score: 0.080\n",
            "Hamming Loss: 0.276\n",
            "\n",
            "Identity-Hate Stats\n",
            "Total True: 165\n",
            "Total False: 17842\n",
            "True Pos: 2\n",
            "True Neg: 17568\n",
            "False Pos: 274\n",
            "False Neg: 163\n",
            "Recall: 0.012\n",
            "Precision: 0.007\n",
            "F1-Score: 0.009\n",
            "Hamming Loss: 0.024\n",
            "\n"
          ],
          "name": "stdout"
        }
      ]
    },
    {
      "cell_type": "code",
      "metadata": {
        "id": "YeW_oPzlRDjR",
        "colab": {
          "base_uri": "https://localhost:8080/",
          "height": 545
        },
        "outputId": "fe91229e-99a4-4fcb-c395-4631af5f9859"
      },
      "source": [
        "plot_graphs(history_gru)"
      ],
      "execution_count": null,
      "outputs": [
        {
          "output_type": "display_data",
          "data": {
            "image/png": "[encoded data removed]",
            "text/plain": [
              "<Figure size 432x288 with 1 Axes>"
            ]
          },
          "metadata": {
            "tags": []
          }
        },
        {
          "output_type": "display_data",
          "data": {
            "image/png": "[encoded data removed]",
            "text/plain": [
              "<Figure size 432x288 with 1 Axes>"
            ]
          },
          "metadata": {
            "tags": []
          }
        }
      ]
    },
    {
      "cell_type": "code",
      "metadata": {
        "id": "47fbkldpRTi7",
        "colab": {
          "base_uri": "https://localhost:8080/",
          "height": 545
        },
        "outputId": "970a18cc-67d5-4f5e-9fd5-8db7dee0f5ce"
      },
      "source": [
        "plot_graphs(history_lstm)"
      ],
      "execution_count": null,
      "outputs": [
        {
          "output_type": "display_data",
          "data": {
            "image/png": "[encoded data removed]",
            "text/plain": [
              "<Figure size 432x288 with 1 Axes>"
            ]
          },
          "metadata": {
            "tags": []
          }
        },
        {
          "output_type": "display_data",
          "data": {
            "image/png": "[encoded data removed]",
            "text/plain": [
              "<Figure size 432x288 with 1 Axes>"
            ]
          },
          "metadata": {
            "tags": []
          }
        }
      ]
    }
  ]
}