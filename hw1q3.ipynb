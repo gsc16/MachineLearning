{
  "nbformat": 4,
  "nbformat_minor": 0,
  "metadata": {
    "colab": {
      "name": "hw1q3.ipynb",
      "version": "0.3.2",
      "provenance": [],
      "collapsed_sections": [],
      "include_colab_link": true
    },
    "kernelspec": {
      "name": "python3",
      "display_name": "Python 3"
    }
  },
  "cells": [
    {
      "cell_type": "markdown",
      "metadata": {
        "id": "view-in-github",
        "colab_type": "text"
      },
      "source": [
        "<a href=\"https://colab.research.google.com/github/gsc16/MachineLearning/blob/master/hw1q3.ipynb\" target=\"_parent\"><img src=\"https://colab.research.google.com/assets/colab-badge.svg\" alt=\"Open In Colab\"/></a>"
      ]
    },
    {
      "metadata": {
        "id": "nmhTVRGsVBh_",
        "colab_type": "text"
      },
      "cell_type": "markdown",
      "source": [
        "Imports"
      ]
    },
    {
      "metadata": {
        "id": "3UFi5pw44gHF",
        "colab_type": "code",
        "outputId": "2dec00ee-e0ea-4076-e81f-e6ce4baada3e",
        "colab": {
          "base_uri": "https://localhost:8080/",
          "height": 34
        }
      },
      "cell_type": "code",
      "source": [
        "import keras\n",
        "import numpy as np\n",
        "from keras.datasets import mnist\n",
        "import math\n",
        "import matplotlib as plt"
      ],
      "execution_count": 0,
      "outputs": [
        {
          "output_type": "stream",
          "text": [
            "Using TensorFlow backend.\n"
          ],
          "name": "stderr"
        }
      ]
    },
    {
      "metadata": {
        "id": "k1dze9kK4fSc",
        "colab_type": "text"
      },
      "cell_type": "markdown",
      "source": [
        "Loading images from MNIST dataset"
      ]
    },
    {
      "metadata": {
        "id": "u67qvbgpU7cm",
        "colab_type": "code",
        "outputId": "99ef9478-9537-4204-a95e-658307553d61",
        "colab": {
          "base_uri": "https://localhost:8080/",
          "height": 52
        }
      },
      "cell_type": "code",
      "source": [
        "(train_images_original, train_labels_original), (test_images_original, test_labels_original) = mnist.load_data()"
      ],
      "execution_count": 0,
      "outputs": [
        {
          "output_type": "stream",
          "text": [
            "Downloading data from https://s3.amazonaws.com/img-datasets/mnist.npz\n",
            "11493376/11490434 [==============================] - 1s 0us/step\n"
          ],
          "name": "stdout"
        }
      ]
    },
    {
      "metadata": {
        "id": "Kt9zW_28WeIw",
        "colab_type": "text"
      },
      "cell_type": "markdown",
      "source": [
        "Displaying the original values"
      ]
    },
    {
      "metadata": {
        "id": "jXW4rjttWjmh",
        "colab_type": "code",
        "outputId": "a1b928dd-c894-4ae9-8ddc-bd54e1270a49",
        "colab": {
          "base_uri": "https://localhost:8080/",
          "height": 87
        }
      },
      "cell_type": "code",
      "source": [
        "train_images_original.shape, train_labels_original, test_images_original.shape, test_labels_original.shape"
      ],
      "execution_count": 0,
      "outputs": [
        {
          "output_type": "execute_result",
          "data": {
            "text/plain": [
              "((60000, 28, 28),\n",
              " array([5, 0, 4, ..., 5, 6, 8], dtype=uint8),\n",
              " (10000, 28, 28),\n",
              " (10000,))"
            ]
          },
          "metadata": {
            "tags": []
          },
          "execution_count": 3
        }
      ]
    },
    {
      "metadata": {
        "id": "gxGF4kP5WTSq",
        "colab_type": "text"
      },
      "cell_type": "markdown",
      "source": [
        "Extracting images"
      ]
    },
    {
      "metadata": {
        "id": "Vy8UC4a4WS22",
        "colab_type": "code",
        "colab": {}
      },
      "cell_type": "code",
      "source": [
        "train_images_new = (train_images_original.reshape(60000,28 * 28))\n",
        "train_images_new = train_images_new.astype('float32')/255\n",
        "\n",
        "\n",
        "test_images_new = (test_images_original.reshape(10000,28 * 28))\n",
        "test_images_new = test_images_new.astype('float32')/255"
      ],
      "execution_count": 0,
      "outputs": []
    },
    {
      "metadata": {
        "id": "xjVXxQ7l43rO",
        "colab_type": "text"
      },
      "cell_type": "markdown",
      "source": [
        "Converting integer vectors to binary"
      ]
    },
    {
      "metadata": {
        "id": "ftLmk4m649nN",
        "colab_type": "code",
        "colab": {}
      },
      "cell_type": "code",
      "source": [
        "train_labels_new = (keras.utils.to_categorical(train_labels_original,10))\n",
        "y_c = test_labels_original\n",
        "test_labels_new = (keras.utils.to_categorical(test_labels_original,10))"
      ],
      "execution_count": 0,
      "outputs": []
    },
    {
      "metadata": {
        "id": "Qc2MNy5SWrW-",
        "colab_type": "text"
      },
      "cell_type": "markdown",
      "source": [
        "Displaying new values"
      ]
    },
    {
      "metadata": {
        "id": "UM7GoBRgWtR9",
        "colab_type": "code",
        "outputId": "1512fe66-8beb-4d5e-d26e-2192737004f1",
        "colab": {
          "base_uri": "https://localhost:8080/",
          "height": 34
        }
      },
      "cell_type": "code",
      "source": [
        "train_images_new.shape, train_labels_new.shape, test_images_new.shape, test_labels_new.shape"
      ],
      "execution_count": 0,
      "outputs": [
        {
          "output_type": "execute_result",
          "data": {
            "text/plain": [
              "((60000, 784), (60000, 10), (10000, 784), (10000, 10))"
            ]
          },
          "metadata": {
            "tags": []
          },
          "execution_count": 6
        }
      ]
    },
    {
      "metadata": {
        "id": "Voy20j8Th4iU",
        "colab_type": "text"
      },
      "cell_type": "markdown",
      "source": [
        "Definitions"
      ]
    },
    {
      "metadata": {
        "id": "nIo1B1ZZh6Yc",
        "colab_type": "code",
        "colab": {}
      },
      "cell_type": "code",
      "source": [
        "# Logistic Regression\n",
        "def log_reg(W,x,b):\n",
        "  y = np.dot(W,np.transpose(x)) + (b)\n",
        "  z = softmax(y)\n",
        "  return z\n",
        "\n",
        "# Softmax function\n",
        "def softmax(x): \n",
        "  e_x = np.exp(x - np.max(x))\n",
        "  return e_x/e_x.sum(axis=0)\n",
        "\n",
        "# Minibatch SGD - Categorical Cross Entropy Error Loss\n",
        "def minibatch(W,train_images_new,b,train_labels_new,z,learning_rate,batch_size):\n",
        "  loss = np.sum(-(np.transpose(train_labels_new) - z), axis = 1, keepdims =True)/batch_size\n",
        "  sig_prime = sigmoid_prime(z)\n",
        "  d_z = np.multiply(loss,sig_prime)\n",
        "  gradient_W = np.dot(d_z,train_images_new)\n",
        "  gradient_b = np.sum(d_z,axis=1,keepdims=True)\n",
        "  W = W - learning_rate*gradient_W\n",
        "  b = b - learning_rate*gradient_b\n",
        "  return W,b"
      ],
      "execution_count": 0,
      "outputs": []
    },
    {
      "metadata": {
        "id": "GPx2Gsm-ipUc",
        "colab_type": "text"
      },
      "cell_type": "markdown",
      "source": [
        "Initializing the weight vector,  bias, learning rate, batch size and number of epochs"
      ]
    },
    {
      "metadata": {
        "id": "Pk6ULRdiiuHg",
        "colab_type": "code",
        "colab": {}
      },
      "cell_type": "code",
      "source": [
        "W = np.random.randn(10,784)*0.01\n",
        "b = np.random.randn(10,1)\n",
        "\n",
        "learning_rate = 0.004\n",
        "batch_size = 10\n",
        "epochs = 100"
      ],
      "execution_count": 0,
      "outputs": []
    },
    {
      "metadata": {
        "id": "GQP4qvbo8ANL",
        "colab_type": "text"
      },
      "cell_type": "markdown",
      "source": [
        "Training and determining the classifier with maximum accuracy"
      ]
    },
    {
      "metadata": {
        "id": "IaSda0dWnK-W",
        "colab_type": "code",
        "outputId": "8692ff01-6bd1-447b-ddbf-28965090da91",
        "colab": {
          "base_uri": "https://localhost:8080/",
          "height": 52
        }
      },
      "cell_type": "code",
      "source": [
        "for j in range(epochs):\n",
        "  for i in range(0, train_images_new.shape[0], batch_size):\n",
        "    z = log_reg(W,train_images_new[i:i+batch_size],b)\n",
        "    W,b = minibatch(W,train_images_new[i:i+batch_size],b,train_labels_new[i:i+batch_size],z,learning_rate,batch_size)\n",
        "y_test = log_reg(W,test_images_new,b)\n",
        "y_test = np.transpose(y_test)\n",
        "max_list = list()\n",
        "for i in range(10000):\n",
        "  max_list.append(np.argmax(y_test[i]))\n",
        "cnt = 0\n",
        "for i in range(10000):\n",
        "  if max_list[i] == y_c[i]:\n",
        "    cnt += 1\n",
        "acc = cnt/100\n",
        "print('Accuracy:', acc)\n",
        "print('Classifier with highest accuracy is:', np.argmax(max_list))"
      ],
      "execution_count": 0,
      "outputs": [
        {
          "output_type": "stream",
          "text": [
            "Accuracy: 90.27\n",
            "Classifier with highest accuracy is: 7\n"
          ],
          "name": "stdout"
        }
      ]
    }
  ]
}