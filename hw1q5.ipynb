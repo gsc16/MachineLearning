{
  "nbformat": 4,
  "nbformat_minor": 0,
  "metadata": {
    "colab": {
      "name": "hw1q5.ipynb",
      "version": "0.3.2",
      "provenance": [],
      "collapsed_sections": [],
      "include_colab_link": true
    },
    "kernelspec": {
      "name": "python3",
      "display_name": "Python 3"
    }
  },
  "cells": [
    {
      "cell_type": "markdown",
      "metadata": {
        "id": "view-in-github",
        "colab_type": "text"
      },
      "source": [
        "<a href=\"https://colab.research.google.com/github/gsc16/MachineLearning/blob/master/hw1q5.ipynb\" target=\"_parent\"><img src=\"https://colab.research.google.com/assets/colab-badge.svg\" alt=\"Open In Colab\"/></a>"
      ]
    },
    {
      "metadata": {
        "id": "nmhTVRGsVBh_",
        "colab_type": "text"
      },
      "cell_type": "markdown",
      "source": [
        "Imports"
      ]
    },
    {
      "metadata": {
        "id": "3UFi5pw44gHF",
        "colab_type": "code",
        "outputId": "a4980277-931f-4a93-f307-a4b2eaa74008",
        "colab": {
          "base_uri": "https://localhost:8080/",
          "height": 34
        }
      },
      "cell_type": "code",
      "source": [
        "import keras\n",
        "import numpy as np\n",
        "from keras.datasets import mnist\n",
        "from keras.utils import to_categorical\n",
        "from keras.models import Model\n",
        "from keras.layers import Input,Dense\n",
        "import math\n",
        "import matplotlib.pyplot as plt\n",
        "import cv2\n",
        "import scipy\n",
        "from scipy import ndimage\n",
        "from skimage import util "
      ],
      "execution_count": 1,
      "outputs": [
        {
          "output_type": "stream",
          "text": [
            "Using TensorFlow backend.\n"
          ],
          "name": "stderr"
        }
      ]
    },
    {
      "metadata": {
        "id": "k1dze9kK4fSc",
        "colab_type": "text"
      },
      "cell_type": "markdown",
      "source": [
        "Loading images from MNIST dataset"
      ]
    },
    {
      "metadata": {
        "id": "u67qvbgpU7cm",
        "colab_type": "code",
        "colab": {}
      },
      "cell_type": "code",
      "source": [
        "(train_images_original, train_labels_original), (test_images_original, test_labels_original) = mnist.load_data()"
      ],
      "execution_count": 0,
      "outputs": []
    },
    {
      "metadata": {
        "id": "Kt9zW_28WeIw",
        "colab_type": "text"
      },
      "cell_type": "markdown",
      "source": [
        "Displaying the original values"
      ]
    },
    {
      "metadata": {
        "id": "jXW4rjttWjmh",
        "colab_type": "code",
        "outputId": "20f25435-e5d4-40e7-d535-ebd4baf62c96",
        "colab": {
          "base_uri": "https://localhost:8080/",
          "height": 87
        }
      },
      "cell_type": "code",
      "source": [
        "train_images_original.shape, train_labels_original, test_images_original.shape, test_labels_original.shape"
      ],
      "execution_count": 3,
      "outputs": [
        {
          "output_type": "execute_result",
          "data": {
            "text/plain": [
              "((60000, 28, 28),\n",
              " array([5, 0, 4, ..., 5, 6, 8], dtype=uint8),\n",
              " (10000, 28, 28),\n",
              " (10000,))"
            ]
          },
          "metadata": {
            "tags": []
          },
          "execution_count": 3
        }
      ]
    },
    {
      "metadata": {
        "id": "gxGF4kP5WTSq",
        "colab_type": "text"
      },
      "cell_type": "markdown",
      "source": [
        "Extracting images - Flattening and reshaping"
      ]
    },
    {
      "metadata": {
        "id": "Vy8UC4a4WS22",
        "colab_type": "code",
        "colab": {}
      },
      "cell_type": "code",
      "source": [
        "train_images_new = (train_images_original.reshape(60000,28 * 28))\n",
        "train_images_new = train_images_new.astype('float32')/255\n",
        "\n",
        "\n",
        "test_images_new = (test_images_original.reshape(10000,28 * 28))\n",
        "test_images_new = test_images_new.astype('float32')/255"
      ],
      "execution_count": 0,
      "outputs": []
    },
    {
      "metadata": {
        "id": "xjVXxQ7l43rO",
        "colab_type": "text"
      },
      "cell_type": "markdown",
      "source": [
        "Converting integer vectors to binary"
      ]
    },
    {
      "metadata": {
        "id": "ftLmk4m649nN",
        "colab_type": "code",
        "colab": {}
      },
      "cell_type": "code",
      "source": [
        "train_labels_new = (keras.utils.to_categorical(train_labels_original,10))\n",
        "test_labels_new = (keras.utils.to_categorical(test_labels_original,10))"
      ],
      "execution_count": 0,
      "outputs": []
    },
    {
      "metadata": {
        "id": "Qc2MNy5SWrW-",
        "colab_type": "text"
      },
      "cell_type": "markdown",
      "source": [
        "Displaying new values"
      ]
    },
    {
      "metadata": {
        "id": "UM7GoBRgWtR9",
        "colab_type": "code",
        "outputId": "2a4cabd0-785f-4a4a-c126-2e39aac0b67f",
        "colab": {
          "base_uri": "https://localhost:8080/",
          "height": 34
        }
      },
      "cell_type": "code",
      "source": [
        "train_images_new.shape, train_labels_new.shape, test_images_new.shape, test_labels_new.shape"
      ],
      "execution_count": 6,
      "outputs": [
        {
          "output_type": "execute_result",
          "data": {
            "text/plain": [
              "((60000, 784), (60000, 10), (10000, 784), (10000, 10))"
            ]
          },
          "metadata": {
            "tags": []
          },
          "execution_count": 6
        }
      ]
    },
    {
      "metadata": {
        "id": "hziYV5XfHVA5",
        "colab_type": "code",
        "outputId": "7e3de302-a360-49bd-a35f-265ea682ad0c",
        "colab": {
          "base_uri": "https://localhost:8080/",
          "height": 382
        }
      },
      "cell_type": "code",
      "source": [
        "print(\"Before conversion:\")\n",
        "plt.grid(None)\n",
        "plt.imshow(train_images_original[0])"
      ],
      "execution_count": 7,
      "outputs": [
        {
          "output_type": "stream",
          "text": [
            "Before conversion:\n"
          ],
          "name": "stdout"
        },
        {
          "output_type": "execute_result",
          "data": {
            "text/plain": [
              "<matplotlib.image.AxesImage at 0x7fc5b07b47f0>"
            ]
          },
          "metadata": {
            "tags": []
          },
          "execution_count": 7
        },
        {
          "output_type": "display_data",
          "data": {
            "image/png": "[encoded data removed]",
            "text/plain": [
              "<Figure size 576x396 with 1 Axes>"
            ]
          },
          "metadata": {
            "tags": []
          }
        }
      ]
    },
    {
      "metadata": {
        "id": "8eUex5DGOJ1m",
        "colab_type": "text"
      },
      "cell_type": "markdown",
      "source": [
        "Converting the images to black and white using cv2 library"
      ]
    },
    {
      "metadata": {
        "id": "TH3NPYrkOaGN",
        "colab_type": "code",
        "outputId": "9585a479-ee95-46a8-e2c3-68ae6dfbd293",
        "colab": {
          "base_uri": "https://localhost:8080/",
          "height": 365
        }
      },
      "cell_type": "code",
      "source": [
        "# Converting images to black and white\n",
        "threshold = 127\n",
        "for i in range(len(train_images_original)):\n",
        "    train_images_original[i] = cv2.threshold(train_images_original[i], threshold, 255, cv2.THRESH_BINARY)[1]\n",
        "    \n",
        "for i in range(len(test_images_original)):\n",
        "    test_images_original[i] = cv2.threshold(test_images_original[i], threshold, 255, cv2.THRESH_BINARY)[1]\n",
        "\n",
        "plt.grid(None)\n",
        "plt.imshow(train_images_original[0])"
      ],
      "execution_count": 8,
      "outputs": [
        {
          "output_type": "execute_result",
          "data": {
            "text/plain": [
              "<matplotlib.image.AxesImage at 0x7fc5ae744128>"
            ]
          },
          "metadata": {
            "tags": []
          },
          "execution_count": 8
        },
        {
          "output_type": "display_data",
          "data": {
            "image/png": "[encoded data removed]",
            "text/plain": [
              "<Figure size 576x396 with 1 Axes>"
            ]
          },
          "metadata": {
            "tags": []
          }
        }
      ]
    },
    {
      "metadata": {
        "id": "qemmN89mnukn",
        "colab_type": "text"
      },
      "cell_type": "markdown",
      "source": [
        "Calculating the number of connected components"
      ]
    },
    {
      "metadata": {
        "id": "vChVFsm54C36",
        "colab_type": "code",
        "colab": {}
      },
      "cell_type": "code",
      "source": [
        "train_images_original = train_images_original / 255;\n",
        "test_images_original  = test_images_original  / 255; \n",
        "\n",
        "# initializing connected components\n",
        "\n",
        "train_images_conn = np.zeros_like(train_labels_original)\n",
        "test_images_conn  = np.zeros_like(test_labels_original)"
      ],
      "execution_count": 0,
      "outputs": []
    },
    {
      "metadata": {
        "id": "LiZCVGVE4IEW",
        "colab_type": "code",
        "colab": {}
      },
      "cell_type": "code",
      "source": [
        "for i in range(len(train_images_conn)):\n",
        "  label,white_regions = ndimage.label(util.invert(train_images_original[i]))\n",
        "  train_images_conn[i] = white_regions\n",
        "  \n",
        "\n",
        "for i in range(len(test_images_conn)):\n",
        "  label,white_regions = ndimage.label(util.invert(test_images_original[i]))\n",
        "  test_images_conn[i] = white_regions\n",
        "  \n",
        "# Normalize the number of white regions feature\n",
        "train_images_conn = train_images_conn/3\n",
        "test_images_conn = test_images_conn/3\n"
      ],
      "execution_count": 0,
      "outputs": []
    },
    {
      "metadata": {
        "id": "Voy20j8Th4iU",
        "colab_type": "text"
      },
      "cell_type": "markdown",
      "source": [
        "Creating network"
      ]
    },
    {
      "metadata": {
        "id": "nIo1B1ZZh6Yc",
        "colab_type": "code",
        "outputId": "70a4b812-9ea7-4467-c6b3-8cc856ab6e4d",
        "colab": {
          "base_uri": "https://localhost:8080/",
          "height": 90
        }
      },
      "cell_type": "code",
      "source": [
        "# Input layer for the images\n",
        "input_shape =Input((28*28,))\n",
        "\n",
        "# New layer to append the feature of white regions\n",
        "conn_feature =Input((1,))\n",
        "\n",
        "image_vector = Dense(64, activation='sigmoid')(input_shape)\n",
        "\n",
        "# concatenating new features and output of first dense layer\n",
        "network  = keras.layers.add([image_vector, conn_feature])   \n",
        "network  = Dense(10, activation='softmax')(network)\n",
        "\n",
        "network  = Model([input_shape, conn_feature],network)"
      ],
      "execution_count": 11,
      "outputs": [
        {
          "output_type": "stream",
          "text": [
            "WARNING:tensorflow:From /usr/local/lib/python3.6/dist-packages/tensorflow/python/framework/op_def_library.py:263: colocate_with (from tensorflow.python.framework.ops) is deprecated and will be removed in a future version.\n",
            "Instructions for updating:\n",
            "Colocations handled automatically by placer.\n"
          ],
          "name": "stdout"
        }
      ]
    },
    {
      "metadata": {
        "id": "GPx2Gsm-ipUc",
        "colab_type": "text"
      },
      "cell_type": "markdown",
      "source": [
        "Compilation"
      ]
    },
    {
      "metadata": {
        "id": "Pk6ULRdiiuHg",
        "colab_type": "code",
        "colab": {}
      },
      "cell_type": "code",
      "source": [
        "network.compile(optimizer=keras.optimizers.SGD(lr = 0.01),loss='categorical_crossentropy', metrics=['accuracy'])"
      ],
      "execution_count": 0,
      "outputs": []
    },
    {
      "metadata": {
        "id": "GQP4qvbo8ANL",
        "colab_type": "text"
      },
      "cell_type": "markdown",
      "source": [
        "Training"
      ]
    },
    {
      "metadata": {
        "id": "IaSda0dWnK-W",
        "colab_type": "code",
        "outputId": "82cfee4f-fef0-462e-d2f3-032fb8d9f94a",
        "colab": {
          "base_uri": "https://localhost:8080/",
          "height": 459
        }
      },
      "cell_type": "code",
      "source": [
        "model = network.fit([train_images_new,train_images_conn], \n",
        "                      train_labels_new, \n",
        "                      epochs= 10, \n",
        "                      batch_size= 10, \n",
        "                      validation_data=([test_images_new,test_images_conn], test_labels_new))"
      ],
      "execution_count": 13,
      "outputs": [
        {
          "output_type": "stream",
          "text": [
            "WARNING:tensorflow:From /usr/local/lib/python3.6/dist-packages/tensorflow/python/ops/math_ops.py:3066: to_int32 (from tensorflow.python.ops.math_ops) is deprecated and will be removed in a future version.\n",
            "Instructions for updating:\n",
            "Use tf.cast instead.\n",
            "Train on 60000 samples, validate on 10000 samples\n",
            "Epoch 1/10\n",
            "60000/60000 [==============================] - 9s 145us/step - loss: 0.9061 - acc: 0.7939 - val_loss: 0.4499 - val_acc: 0.8993\n",
            "Epoch 2/10\n",
            "60000/60000 [==============================] - 8s 141us/step - loss: 0.3917 - acc: 0.9018 - val_loss: 0.3276 - val_acc: 0.9148\n",
            "Epoch 3/10\n",
            "60000/60000 [==============================] - 8s 141us/step - loss: 0.3172 - acc: 0.9153 - val_loss: 0.2824 - val_acc: 0.9251\n",
            "Epoch 4/10\n",
            "60000/60000 [==============================] - 9s 147us/step - loss: 0.2826 - acc: 0.9225 - val_loss: 0.2592 - val_acc: 0.9297\n",
            "Epoch 5/10\n",
            "60000/60000 [==============================] - 8s 141us/step - loss: 0.2603 - acc: 0.9276 - val_loss: 0.2418 - val_acc: 0.9363\n",
            "Epoch 6/10\n",
            "60000/60000 [==============================] - 8s 141us/step - loss: 0.2443 - acc: 0.9320 - val_loss: 0.2275 - val_acc: 0.9382\n",
            "Epoch 7/10\n",
            "60000/60000 [==============================] - 8s 139us/step - loss: 0.2318 - acc: 0.9351 - val_loss: 0.2179 - val_acc: 0.9412\n",
            "Epoch 8/10\n",
            "60000/60000 [==============================] - 8s 140us/step - loss: 0.2210 - acc: 0.9379 - val_loss: 0.2086 - val_acc: 0.9441\n",
            "Epoch 9/10\n",
            "60000/60000 [==============================] - 8s 141us/step - loss: 0.2119 - acc: 0.9403 - val_loss: 0.2013 - val_acc: 0.9460\n",
            "Epoch 10/10\n",
            "60000/60000 [==============================] - 8s 141us/step - loss: 0.2036 - acc: 0.9424 - val_loss: 0.1967 - val_acc: 0.9462\n"
          ],
          "name": "stdout"
        }
      ]
    },
    {
      "metadata": {
        "id": "SxIrD7tBuZQ8",
        "colab_type": "text"
      },
      "cell_type": "markdown",
      "source": [
        "Display Loss"
      ]
    },
    {
      "metadata": {
        "id": "WzbcoIBcua3U",
        "colab_type": "code",
        "outputId": "840dcb19-b424-46f9-9913-70a5de3ad54c",
        "colab": {
          "base_uri": "https://localhost:8080/",
          "height": 396
        }
      },
      "cell_type": "code",
      "source": [
        "metrics = network.evaluate([test_images_new,test_images_conn], test_labels_new, verbose=0)\n",
        "print('Test loss:', metrics[0])\n",
        "print('Test accuracy:', metrics[1])\n",
        "\n",
        "accuracyplot = plt.plot(range(1,11),model.history['acc'],range(1,11),model.history['val_acc'])\n",
        "plt.xlabel('Epoch')\n",
        "plt.ylabel('Accuracy')\n",
        "plt.legend(('Training Accuracy','Test Accuracy'))\n",
        "plt.show(accuracyplot)"
      ],
      "execution_count": 14,
      "outputs": [
        {
          "output_type": "stream",
          "text": [
            "Test loss: 0.196713402184844\n",
            "Test accuracy: 0.9462\n"
          ],
          "name": "stdout"
        },
        {
          "output_type": "display_data",
          "data": {
            "image/png": "[encoded data removed]",
            "text/plain": [
              "<Figure size 576x396 with 1 Axes>"
            ]
          },
          "metadata": {
            "tags": []
          }
        }
      ]
    }
  ]
}