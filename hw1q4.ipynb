{
  "nbformat": 4,
  "nbformat_minor": 0,
  "metadata": {
    "colab": {
      "name": "hw1q4.ipynb",
      "version": "0.3.2",
      "provenance": [],
      "collapsed_sections": [],
      "include_colab_link": true
    },
    "kernelspec": {
      "name": "python3",
      "display_name": "Python 3"
    }
  },
  "cells": [
    {
      "cell_type": "markdown",
      "metadata": {
        "id": "view-in-github",
        "colab_type": "text"
      },
      "source": [
        "<a href=\"https://colab.research.google.com/github/gsc16/MachineLearning/blob/master/hw1q4.ipynb\" target=\"_parent\"><img src=\"https://colab.research.google.com/assets/colab-badge.svg\" alt=\"Open In Colab\"/></a>"
      ]
    },
    {
      "metadata": {
        "id": "_qtEXEB_YDlg",
        "colab_type": "text"
      },
      "cell_type": "markdown",
      "source": [
        "Imports"
      ]
    },
    {
      "metadata": {
        "id": "gLyuhvdlGMcs",
        "colab_type": "code",
        "colab": {
          "base_uri": "https://localhost:8080/",
          "height": 34
        },
        "outputId": "0421540c-e16f-4723-d406-4c13fbfe79a2"
      },
      "cell_type": "code",
      "source": [
        "import keras\n",
        "from keras.datasets import mnist\n",
        "from keras import models\n",
        "from keras import layers\n",
        "import math\n",
        "import matplotlib.pyplot as plt"
      ],
      "execution_count": 1,
      "outputs": [
        {
          "output_type": "stream",
          "text": [
            "Using TensorFlow backend.\n"
          ],
          "name": "stderr"
        }
      ]
    },
    {
      "metadata": {
        "id": "9PTW2JeMGHQP",
        "colab_type": "text"
      },
      "cell_type": "markdown",
      "source": [
        "Loading images from MNIST dataset"
      ]
    },
    {
      "metadata": {
        "id": "nBYe3kC7X95I",
        "colab_type": "code",
        "colab": {}
      },
      "cell_type": "code",
      "source": [
        "(train_images_original, train_labels_original), (test_images_original, test_labels_original) = mnist.load_data()"
      ],
      "execution_count": 0,
      "outputs": []
    },
    {
      "metadata": {
        "id": "peB1ierkGXR7",
        "colab_type": "text"
      },
      "cell_type": "markdown",
      "source": [
        "Displaying original values"
      ]
    },
    {
      "metadata": {
        "id": "SfSGB2zAGWE6",
        "colab_type": "code",
        "colab": {
          "base_uri": "https://localhost:8080/",
          "height": 87
        },
        "outputId": "11566453-fa91-4982-efbd-1c888cfb631e"
      },
      "cell_type": "code",
      "source": [
        "train_images_original.shape, train_labels_original, test_images_original.shape, test_labels_original.shape"
      ],
      "execution_count": 3,
      "outputs": [
        {
          "output_type": "execute_result",
          "data": {
            "text/plain": [
              "((60000, 28, 28),\n",
              " array([5, 0, 4, ..., 5, 6, 8], dtype=uint8),\n",
              " (10000, 28, 28),\n",
              " (10000,))"
            ]
          },
          "metadata": {
            "tags": []
          },
          "execution_count": 3
        }
      ]
    },
    {
      "metadata": {
        "id": "gPTsc0cgYIlp",
        "colab_type": "text"
      },
      "cell_type": "markdown",
      "source": [
        "Extracting images"
      ]
    },
    {
      "metadata": {
        "id": "1T33XMgfYPj5",
        "colab_type": "code",
        "colab": {}
      },
      "cell_type": "code",
      "source": [
        "train_images_new = (train_images_original.reshape(60000,28 * 28))\n",
        "train_images_new = train_images_new.astype('float32')/255\n",
        "\n",
        "\n",
        "test_images_new = (test_images_original.reshape(10000,28 * 28))\n",
        "test_images_new = test_images_new.astype('float32')/255"
      ],
      "execution_count": 0,
      "outputs": []
    },
    {
      "metadata": {
        "id": "ghNn8cuuYQ1I",
        "colab_type": "text"
      },
      "cell_type": "markdown",
      "source": [
        "Converting integer vectors to binary"
      ]
    },
    {
      "metadata": {
        "id": "kYNgc6NGYUvW",
        "colab_type": "code",
        "colab": {}
      },
      "cell_type": "code",
      "source": [
        "train_labels_new = (keras.utils.to_categorical(train_labels_original,10))\n",
        "y_c = test_labels_original\n",
        "test_labels_new = (keras.utils.to_categorical(test_labels_original,10))"
      ],
      "execution_count": 0,
      "outputs": []
    },
    {
      "metadata": {
        "id": "Czk7qJmIYW0j",
        "colab_type": "text"
      },
      "cell_type": "markdown",
      "source": [
        "Displaying the new values"
      ]
    },
    {
      "metadata": {
        "id": "aXRpfcHzYcGw",
        "colab_type": "code",
        "outputId": "251facaa-c79c-41a2-a757-c322e475e5d0",
        "colab": {
          "base_uri": "https://localhost:8080/",
          "height": 34
        }
      },
      "cell_type": "code",
      "source": [
        "train_images_new.shape, train_labels_new.shape, test_images_new.shape, test_labels_new.shape"
      ],
      "execution_count": 6,
      "outputs": [
        {
          "output_type": "execute_result",
          "data": {
            "text/plain": [
              "((60000, 784), (60000, 10), (10000, 784), (10000, 10))"
            ]
          },
          "metadata": {
            "tags": []
          },
          "execution_count": 6
        }
      ]
    },
    {
      "metadata": {
        "id": "l2MCsZRENv3c",
        "colab_type": "text"
      },
      "cell_type": "markdown",
      "source": [
        "Creating network"
      ]
    },
    {
      "metadata": {
        "id": "ATaNLHtBanqM",
        "colab_type": "code",
        "colab": {}
      },
      "cell_type": "code",
      "source": [
        "network = models.Sequential()\n",
        "network.add(layers.Dense(10, activation='softmax'))"
      ],
      "execution_count": 0,
      "outputs": []
    },
    {
      "metadata": {
        "id": "Xx5DmoYva8uC",
        "colab_type": "text"
      },
      "cell_type": "markdown",
      "source": [
        "Compilation"
      ]
    },
    {
      "metadata": {
        "id": "S2Hb-r6Ka-17",
        "colab_type": "code",
        "colab": {
          "base_uri": "https://localhost:8080/",
          "height": 90
        },
        "outputId": "dc29efd9-9d03-4439-e8b8-acf7b449fde0"
      },
      "cell_type": "code",
      "source": [
        "network.compile(optimizer=keras.optimizers.SGD(lr = 0.01),loss='categorical_crossentropy', metrics=['accuracy'])"
      ],
      "execution_count": 8,
      "outputs": [
        {
          "output_type": "stream",
          "text": [
            "WARNING:tensorflow:From /usr/local/lib/python3.6/dist-packages/tensorflow/python/framework/op_def_library.py:263: colocate_with (from tensorflow.python.framework.ops) is deprecated and will be removed in a future version.\n",
            "Instructions for updating:\n",
            "Colocations handled automatically by placer.\n"
          ],
          "name": "stdout"
        }
      ]
    },
    {
      "metadata": {
        "id": "zXppH6e1bCAA",
        "colab_type": "text"
      },
      "cell_type": "markdown",
      "source": [
        "Training"
      ]
    },
    {
      "metadata": {
        "id": "Vcusm3pHbEBV",
        "colab_type": "code",
        "colab": {
          "base_uri": "https://localhost:8080/",
          "height": 459
        },
        "outputId": "d48c8960-ed91-469c-9fc5-c26ab1863b17"
      },
      "cell_type": "code",
      "source": [
        "model = network.fit(train_images_new, \n",
        "                      train_labels_new, \n",
        "                      epochs= 10, \n",
        "                      batch_size= 10, \n",
        "                      validation_data=(test_images_new, test_labels_new))"
      ],
      "execution_count": 9,
      "outputs": [
        {
          "output_type": "stream",
          "text": [
            "WARNING:tensorflow:From /usr/local/lib/python3.6/dist-packages/tensorflow/python/ops/math_ops.py:3066: to_int32 (from tensorflow.python.ops.math_ops) is deprecated and will be removed in a future version.\n",
            "Instructions for updating:\n",
            "Use tf.cast instead.\n",
            "Train on 60000 samples, validate on 10000 samples\n",
            "Epoch 1/10\n",
            "60000/60000 [==============================] - 7s 110us/step - loss: 0.5441 - acc: 0.8598 - val_loss: 0.3667 - val_acc: 0.9012\n",
            "Epoch 2/10\n",
            "60000/60000 [==============================] - 6s 105us/step - loss: 0.3620 - acc: 0.8996 - val_loss: 0.3249 - val_acc: 0.9107\n",
            "Epoch 3/10\n",
            "60000/60000 [==============================] - 6s 105us/step - loss: 0.3330 - acc: 0.9065 - val_loss: 0.3098 - val_acc: 0.9155\n",
            "Epoch 4/10\n",
            "60000/60000 [==============================] - 6s 107us/step - loss: 0.3177 - acc: 0.9108 - val_loss: 0.2998 - val_acc: 0.9174\n",
            "Epoch 5/10\n",
            "60000/60000 [==============================] - 6s 108us/step - loss: 0.3079 - acc: 0.9142 - val_loss: 0.2957 - val_acc: 0.9167\n",
            "Epoch 6/10\n",
            "60000/60000 [==============================] - 7s 122us/step - loss: 0.3011 - acc: 0.9156 - val_loss: 0.2902 - val_acc: 0.9169\n",
            "Epoch 7/10\n",
            "60000/60000 [==============================] - 6s 106us/step - loss: 0.2959 - acc: 0.9174 - val_loss: 0.2834 - val_acc: 0.9220\n",
            "Epoch 8/10\n",
            "60000/60000 [==============================] - 6s 106us/step - loss: 0.2917 - acc: 0.9186 - val_loss: 0.2826 - val_acc: 0.9209\n",
            "Epoch 9/10\n",
            "60000/60000 [==============================] - 6s 107us/step - loss: 0.2878 - acc: 0.9203 - val_loss: 0.2812 - val_acc: 0.9218\n",
            "Epoch 10/10\n",
            "60000/60000 [==============================] - 6s 105us/step - loss: 0.2852 - acc: 0.9205 - val_loss: 0.2789 - val_acc: 0.9211\n"
          ],
          "name": "stdout"
        }
      ]
    },
    {
      "metadata": {
        "id": "MvACf-P7bI4O",
        "colab_type": "text"
      },
      "cell_type": "markdown",
      "source": [
        "Display loss"
      ]
    },
    {
      "metadata": {
        "id": "spr828LnWIno",
        "colab_type": "code",
        "colab": {
          "base_uri": "https://localhost:8080/",
          "height": 396
        },
        "outputId": "345860b7-5b27-43fe-f28f-644ff8aac414"
      },
      "cell_type": "code",
      "source": [
        "metrics = network.evaluate(test_images_new, test_labels_new, verbose=0)\n",
        "print('Test loss:', metrics[0])\n",
        "print('Test accuracy:', metrics[1])\n",
        "\n",
        "accuracyplot = plt.plot(range(1,11),model.history['acc'],range(1,11),model.history['val_acc'])\n",
        "plt.xlabel('Epoch')\n",
        "plt.ylabel('Accuracy')\n",
        "plt.legend(('Training Accuracy','Test Accuracy'))\n",
        "plt.show(accuracyplot)"
      ],
      "execution_count": 10,
      "outputs": [
        {
          "output_type": "stream",
          "text": [
            "Test loss: 0.27894000512063505\n",
            "Test accuracy: 0.9211\n"
          ],
          "name": "stdout"
        },
        {
          "output_type": "display_data",
          "data": {
            "image/png": "[encoded data removed]",
            "text/plain": [
              "<Figure size 576x396 with 1 Axes>"
            ]
          },
          "metadata": {
            "tags": []
          }
        }
      ]
    }
  ]
}