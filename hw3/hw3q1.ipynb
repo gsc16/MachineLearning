{
  "nbformat": 4,
  "nbformat_minor": 0,
  "metadata": {
    "colab": {
      "name": "hw3q1.ipynb",
      "version": "0.3.2",
      "provenance": [],
      "collapsed_sections": [],
      "include_colab_link": true
    },
    "kernelspec": {
      "name": "python3",
      "display_name": "Python 3"
    },
    "accelerator": "GPU"
  },
  "cells": [
    {
      "cell_type": "markdown",
      "metadata": {
        "id": "view-in-github",
        "colab_type": "text"
      },
      "source": [
        "<a href=\"https://colab.research.google.com/github/gsc16/MachineLearning/blob/master/hw3/hw3q1.ipynb\" target=\"_parent\"><img src=\"https://colab.research.google.com/assets/colab-badge.svg\" alt=\"Open In Colab\"/></a>"
      ]
    },
    {
      "metadata": {
        "id": "JQLrjOzvQCf6",
        "colab_type": "text"
      },
      "cell_type": "markdown",
      "source": [
        "### Downloading data"
      ]
    },
    {
      "metadata": {
        "id": "AAbFgg4aV4h1",
        "colab_type": "text"
      },
      "cell_type": "markdown",
      "source": [
        "When I have run the model with learning rate 0.00002 for 30 epochs, I could get a maximum validation accuracy of 89.60% and for 100 epochs, I could achieve 90.20%. With no shear, validation accuracy dropped drastically to a maximum of 60.02%. Finally, I have run the model with learning rate 0.00005 and I could achieve a maximum validation accuracy of 90.70%, after running for 100 epochs."
      ]
    },
    {
      "metadata": {
        "id": "reU7PX7NP7vu",
        "colab_type": "code",
        "colab": {
          "base_uri": "https://localhost:8080/",
          "height": 210
        },
        "outputId": "e96c60a7-fe02-4a7a-c850-33bb08d803d4"
      },
      "cell_type": "code",
      "source": [
        "!wget --no-check-certificate \\\n",
        "    https://storage.googleapis.com/mledu-datasets/cats_and_dogs_filtered.zip \\\n",
        "    -O /tmp/cats_and_dogs_filtered.zip"
      ],
      "execution_count": 1,
      "outputs": [
        {
          "output_type": "stream",
          "text": [
            "--2019-04-14 21:16:36--  https://storage.googleapis.com/mledu-datasets/cats_and_dogs_filtered.zip\n",
            "Resolving storage.googleapis.com (storage.googleapis.com)... 64.233.184.128, 2a00:1450:400c:c08::80\n",
            "Connecting to storage.googleapis.com (storage.googleapis.com)|64.233.184.128|:443... connected.\n",
            "HTTP request sent, awaiting response... 200 OK\n",
            "Length: 68606236 (65M) [application/zip]\n",
            "Saving to: ‘/tmp/cats_and_dogs_filtered.zip’\n",
            "\n",
            "/tmp/cats_and_dogs_ 100%[===================>]  65.43M  76.4MB/s    in 0.9s    \n",
            "\n",
            "2019-04-14 21:16:37 (76.4 MB/s) - ‘/tmp/cats_and_dogs_filtered.zip’ saved [68606236/68606236]\n",
            "\n"
          ],
          "name": "stdout"
        }
      ]
    },
    {
      "metadata": {
        "id": "xrYTtxQRQP5j",
        "colab_type": "text"
      },
      "cell_type": "markdown",
      "source": [
        "### Extracting images and splitting data into training and test data sets"
      ]
    },
    {
      "metadata": {
        "id": "UdzOmrVLQLP4",
        "colab_type": "code",
        "colab": {}
      },
      "cell_type": "code",
      "source": [
        "import os\n",
        "import zipfile\n",
        "\n",
        "local_zip = '/tmp/cats_and_dogs_filtered.zip'\n",
        "zip_ref = zipfile.ZipFile(local_zip, 'r')\n",
        "zip_ref.extractall('/tmp')\n",
        "zip_ref.close()"
      ],
      "execution_count": 0,
      "outputs": []
    },
    {
      "metadata": {
        "id": "lvF7gPGyQL1v",
        "colab_type": "code",
        "colab": {}
      },
      "cell_type": "code",
      "source": [
        "base_dir = '/tmp/cats_and_dogs_filtered'\n",
        "train_dir = os.path.join(base_dir, 'train')\n",
        "validation_dir = os.path.join(base_dir, 'validation')\n",
        "\n",
        "# Directory with our training cat pictures\n",
        "train_cats_dir = os.path.join(train_dir, 'cats')\n",
        "\n",
        "# Directory with our training dog pictures\n",
        "train_dogs_dir = os.path.join(train_dir, 'dogs')\n",
        "\n",
        "# Directory with our validation cat pictures\n",
        "validation_cats_dir = os.path.join(validation_dir, 'cats')\n",
        "\n",
        "# Directory with our validation dog pictures\n",
        "validation_dogs_dir = os.path.join(validation_dir, 'dogs')"
      ],
      "execution_count": 0,
      "outputs": []
    },
    {
      "metadata": {
        "id": "E-BHtPj_QXLQ",
        "colab_type": "text"
      },
      "cell_type": "markdown",
      "source": [
        "### Building the model with VGG19 convolutional base"
      ]
    },
    {
      "metadata": {
        "id": "u5jWEC7jQoY5",
        "colab_type": "text"
      },
      "cell_type": "markdown",
      "source": [
        "#### Loading VGG19 convolutional base and freezing it"
      ]
    },
    {
      "metadata": {
        "id": "-IjygBCdQgZL",
        "colab_type": "code",
        "colab": {
          "base_uri": "https://localhost:8080/",
          "height": 142
        },
        "outputId": "ad362e7e-d875-4078-9769-81f8ab67d3eb"
      },
      "cell_type": "code",
      "source": [
        "from keras.applications import VGG19\n",
        "\n",
        "conv_base = VGG19(\n",
        "    weights='imagenet', \n",
        "    include_top=False, \n",
        "    input_shape=(150, 150, 3))\n",
        "\n",
        "conv_base.trainable = False"
      ],
      "execution_count": 4,
      "outputs": [
        {
          "output_type": "stream",
          "text": [
            "Using TensorFlow backend.\n"
          ],
          "name": "stderr"
        },
        {
          "output_type": "stream",
          "text": [
            "WARNING:tensorflow:From /usr/local/lib/python3.6/dist-packages/tensorflow/python/framework/op_def_library.py:263: colocate_with (from tensorflow.python.framework.ops) is deprecated and will be removed in a future version.\n",
            "Instructions for updating:\n",
            "Colocations handled automatically by placer.\n",
            "Downloading data from https://github.com/fchollet/deep-learning-models/releases/download/v0.1/vgg19_weights_tf_dim_ordering_tf_kernels_notop.h5\n",
            "80142336/80134624 [==============================] - 3s 0us/step\n"
          ],
          "name": "stdout"
        }
      ]
    },
    {
      "metadata": {
        "id": "oJSRqWlZQ07R",
        "colab_type": "text"
      },
      "cell_type": "markdown",
      "source": [
        "#### Adding densely connected layers to the convolutional base"
      ]
    },
    {
      "metadata": {
        "id": "MJUOPzauQ8Tw",
        "colab_type": "code",
        "colab": {}
      },
      "cell_type": "code",
      "source": [
        "from keras import layers\n",
        "from keras import models\n",
        "from keras import optimizers\n",
        "\n",
        "model = models.Sequential()\n",
        "model.add(conv_base)\n",
        "model.add(layers.Flatten())\n",
        "model.add(layers.Dense(256, activation='relu'))\n",
        "# no dropout\n",
        "model.add(layers.Dense(1, activation='sigmoid'))"
      ],
      "execution_count": 0,
      "outputs": []
    },
    {
      "metadata": {
        "id": "UXA7hL6MRB9s",
        "colab_type": "text"
      },
      "cell_type": "markdown",
      "source": [
        "### Training the model"
      ]
    },
    {
      "metadata": {
        "id": "-TvQPmupRIBj",
        "colab_type": "code",
        "colab": {
          "base_uri": "https://localhost:8080/",
          "height": 3645
        },
        "outputId": "d26b2c4f-fde0-46b2-ee57-e593768cc3e3"
      },
      "cell_type": "code",
      "source": [
        "from keras.preprocessing.image import ImageDataGenerator\n",
        "from keras import optimizers\n",
        "\n",
        "# data augmentation\n",
        "\n",
        "train_datagen = ImageDataGenerator( \n",
        "    rescale=1./255, \n",
        "    zca_epsilon=1e-06,\n",
        "    rotation_range=0,\n",
        "    width_shift_range=0.1,\n",
        "    height_shift_range=0.1,\n",
        "    shear_range=0.2,\n",
        "    zoom_range=0.2,\n",
        "    horizontal_flip=True,\n",
        "    fill_mode='nearest'\n",
        ")\n",
        "\n",
        "train_generator = train_datagen.flow_from_directory(\n",
        "    train_dir,\n",
        "    target_size=(150, 150),\n",
        "    batch_size=20,\n",
        "    class_mode='binary')\n",
        "\n",
        "validation_datagen = ImageDataGenerator(rescale=1./255)\n",
        "\n",
        "validation_generator = validation_datagen.flow_from_directory(\n",
        "    validation_dir,\n",
        "    target_size=(150, 150),\n",
        "    batch_size=20,\n",
        "    class_mode='binary')\n",
        "\n",
        "# compile model\n",
        "\n",
        "model.compile(\n",
        "    loss='binary_crossentropy', \n",
        "    optimizer=optimizers.RMSprop(lr=0.00005), \n",
        "    metrics=['acc'])\n",
        "\n",
        "# train\n",
        "\n",
        "history = model.fit_generator(\n",
        "    train_generator,\n",
        "    steps_per_epoch=100,\n",
        "    epochs=100,\n",
        "    validation_data=validation_generator,\n",
        "    validation_steps=50,\n",
        ")"
      ],
      "execution_count": 6,
      "outputs": [
        {
          "output_type": "stream",
          "text": [
            "Found 2000 images belonging to 2 classes.\n",
            "Found 1000 images belonging to 2 classes.\n",
            "WARNING:tensorflow:From /usr/local/lib/python3.6/dist-packages/tensorflow/python/ops/math_ops.py:3066: to_int32 (from tensorflow.python.ops.math_ops) is deprecated and will be removed in a future version.\n",
            "Instructions for updating:\n",
            "Use tf.cast instead.\n",
            "Epoch 1/100\n",
            "100/100 [==============================] - 34s 338ms/step - loss: 0.5225 - acc: 0.7320 - val_loss: 0.3670 - val_acc: 0.8430\n",
            "Epoch 2/100\n",
            "100/100 [==============================] - 29s 291ms/step - loss: 0.3831 - acc: 0.8270 - val_loss: 0.3241 - val_acc: 0.8690\n",
            "Epoch 3/100\n",
            "100/100 [==============================] - 29s 289ms/step - loss: 0.3511 - acc: 0.8390 - val_loss: 0.3115 - val_acc: 0.8800\n",
            "Epoch 4/100\n",
            "100/100 [==============================] - 28s 275ms/step - loss: 0.3241 - acc: 0.8600 - val_loss: 0.3092 - val_acc: 0.8790\n",
            "Epoch 5/100\n",
            "100/100 [==============================] - 27s 273ms/step - loss: 0.3066 - acc: 0.8695 - val_loss: 0.2634 - val_acc: 0.8870\n",
            "Epoch 6/100\n",
            "100/100 [==============================] - 27s 269ms/step - loss: 0.2897 - acc: 0.8760 - val_loss: 0.2787 - val_acc: 0.8850\n",
            "Epoch 7/100\n",
            "100/100 [==============================] - 27s 271ms/step - loss: 0.2805 - acc: 0.8785 - val_loss: 0.2620 - val_acc: 0.8870\n",
            "Epoch 8/100\n",
            "100/100 [==============================] - 27s 270ms/step - loss: 0.2727 - acc: 0.8760 - val_loss: 0.2503 - val_acc: 0.8970\n",
            "Epoch 9/100\n",
            "100/100 [==============================] - 27s 272ms/step - loss: 0.2697 - acc: 0.8795 - val_loss: 0.2670 - val_acc: 0.8810\n",
            "Epoch 10/100\n",
            "100/100 [==============================] - 28s 277ms/step - loss: 0.2550 - acc: 0.8940 - val_loss: 0.2521 - val_acc: 0.8880\n",
            "Epoch 11/100\n",
            "100/100 [==============================] - 27s 273ms/step - loss: 0.2524 - acc: 0.8970 - val_loss: 0.2721 - val_acc: 0.8820\n",
            "Epoch 12/100\n",
            "100/100 [==============================] - 27s 270ms/step - loss: 0.2402 - acc: 0.8975 - val_loss: 0.2475 - val_acc: 0.8920\n",
            "Epoch 13/100\n",
            "100/100 [==============================] - 27s 269ms/step - loss: 0.2515 - acc: 0.8945 - val_loss: 0.3138 - val_acc: 0.8730\n",
            "Epoch 14/100\n",
            "100/100 [==============================] - 27s 268ms/step - loss: 0.2359 - acc: 0.9050 - val_loss: 0.2670 - val_acc: 0.8820\n",
            "Epoch 15/100\n",
            "100/100 [==============================] - 27s 269ms/step - loss: 0.2228 - acc: 0.9095 - val_loss: 0.2411 - val_acc: 0.8970\n",
            "Epoch 16/100\n",
            "100/100 [==============================] - 29s 287ms/step - loss: 0.2262 - acc: 0.9085 - val_loss: 0.2418 - val_acc: 0.8990\n",
            "Epoch 17/100\n",
            "100/100 [==============================] - 29s 289ms/step - loss: 0.2179 - acc: 0.9095 - val_loss: 0.2537 - val_acc: 0.8960\n",
            "Epoch 18/100\n",
            "100/100 [==============================] - 29s 289ms/step - loss: 0.2151 - acc: 0.9155 - val_loss: 0.2672 - val_acc: 0.8930\n",
            "Epoch 19/100\n",
            "100/100 [==============================] - 29s 290ms/step - loss: 0.2113 - acc: 0.9145 - val_loss: 0.2995 - val_acc: 0.8770\n",
            "Epoch 20/100\n",
            "100/100 [==============================] - 29s 288ms/step - loss: 0.2049 - acc: 0.9110 - val_loss: 0.2460 - val_acc: 0.8960\n",
            "Epoch 21/100\n",
            "100/100 [==============================] - 29s 287ms/step - loss: 0.2004 - acc: 0.9200 - val_loss: 0.2793 - val_acc: 0.8830\n",
            "Epoch 22/100\n",
            "100/100 [==============================] - 29s 287ms/step - loss: 0.2159 - acc: 0.9095 - val_loss: 0.3488 - val_acc: 0.8500\n",
            "Epoch 23/100\n",
            "100/100 [==============================] - 29s 286ms/step - loss: 0.1938 - acc: 0.9245 - val_loss: 0.2580 - val_acc: 0.8960\n",
            "Epoch 24/100\n",
            "100/100 [==============================] - 29s 290ms/step - loss: 0.1951 - acc: 0.9155 - val_loss: 0.2442 - val_acc: 0.8940\n",
            "Epoch 25/100\n",
            "100/100 [==============================] - 29s 289ms/step - loss: 0.1993 - acc: 0.9180 - val_loss: 0.2608 - val_acc: 0.8890\n",
            "Epoch 26/100\n",
            "100/100 [==============================] - 29s 291ms/step - loss: 0.2002 - acc: 0.9180 - val_loss: 0.2480 - val_acc: 0.8990\n",
            "Epoch 27/100\n",
            "100/100 [==============================] - 29s 288ms/step - loss: 0.1911 - acc: 0.9245 - val_loss: 0.2574 - val_acc: 0.8970\n",
            "Epoch 28/100\n",
            "100/100 [==============================] - 29s 291ms/step - loss: 0.1690 - acc: 0.9315 - val_loss: 0.3105 - val_acc: 0.8700\n",
            "Epoch 29/100\n",
            "100/100 [==============================] - 29s 288ms/step - loss: 0.1903 - acc: 0.9245 - val_loss: 0.2448 - val_acc: 0.9060\n",
            "Epoch 30/100\n",
            "100/100 [==============================] - 29s 291ms/step - loss: 0.1835 - acc: 0.9310 - val_loss: 0.3023 - val_acc: 0.8800\n",
            "Epoch 31/100\n",
            "100/100 [==============================] - 29s 287ms/step - loss: 0.1810 - acc: 0.9275 - val_loss: 0.2432 - val_acc: 0.9010\n",
            "Epoch 32/100\n",
            "100/100 [==============================] - 29s 289ms/step - loss: 0.1813 - acc: 0.9270 - val_loss: 0.2535 - val_acc: 0.8940\n",
            "Epoch 33/100\n",
            "100/100 [==============================] - 26s 265ms/step - loss: 0.1590 - acc: 0.9360 - val_loss: 0.2817 - val_acc: 0.8840\n",
            "Epoch 34/100\n",
            "100/100 [==============================] - 28s 281ms/step - loss: 0.1784 - acc: 0.9280 - val_loss: 0.3324 - val_acc: 0.8600\n",
            "Epoch 35/100\n",
            "100/100 [==============================] - 28s 282ms/step - loss: 0.1653 - acc: 0.9300 - val_loss: 0.2608 - val_acc: 0.8960\n",
            "Epoch 36/100\n",
            "100/100 [==============================] - 28s 279ms/step - loss: 0.1861 - acc: 0.9305 - val_loss: 0.2588 - val_acc: 0.8900\n",
            "Epoch 37/100\n",
            "100/100 [==============================] - 29s 288ms/step - loss: 0.1642 - acc: 0.9340 - val_loss: 0.2547 - val_acc: 0.8960\n",
            "Epoch 38/100\n",
            "100/100 [==============================] - 29s 289ms/step - loss: 0.1687 - acc: 0.9310 - val_loss: 0.2529 - val_acc: 0.9020\n",
            "Epoch 39/100\n",
            "100/100 [==============================] - 29s 290ms/step - loss: 0.1654 - acc: 0.9300 - val_loss: 0.2492 - val_acc: 0.8930\n",
            "Epoch 40/100\n",
            "100/100 [==============================] - 29s 289ms/step - loss: 0.1614 - acc: 0.9255 - val_loss: 0.3133 - val_acc: 0.8740\n",
            "Epoch 41/100\n",
            "100/100 [==============================] - 29s 289ms/step - loss: 0.1658 - acc: 0.9355 - val_loss: 0.2996 - val_acc: 0.8760\n",
            "Epoch 42/100\n",
            "100/100 [==============================] - 29s 289ms/step - loss: 0.1709 - acc: 0.9350 - val_loss: 0.2531 - val_acc: 0.9000\n",
            "Epoch 43/100\n",
            "100/100 [==============================] - 29s 292ms/step - loss: 0.1630 - acc: 0.9355 - val_loss: 0.2762 - val_acc: 0.8850\n",
            "Epoch 44/100\n",
            "100/100 [==============================] - 29s 290ms/step - loss: 0.1551 - acc: 0.9410 - val_loss: 0.2545 - val_acc: 0.8990\n",
            "Epoch 45/100\n",
            "100/100 [==============================] - 29s 293ms/step - loss: 0.1583 - acc: 0.9380 - val_loss: 0.3004 - val_acc: 0.8780\n",
            "Epoch 46/100\n",
            "100/100 [==============================] - 29s 290ms/step - loss: 0.1459 - acc: 0.9485 - val_loss: 0.2536 - val_acc: 0.9030\n",
            "Epoch 47/100\n",
            "100/100 [==============================] - 29s 290ms/step - loss: 0.1485 - acc: 0.9415 - val_loss: 0.2858 - val_acc: 0.8840\n",
            "Epoch 48/100\n",
            "100/100 [==============================] - 29s 289ms/step - loss: 0.1494 - acc: 0.9390 - val_loss: 0.2871 - val_acc: 0.8860\n",
            "Epoch 49/100\n",
            "100/100 [==============================] - 29s 289ms/step - loss: 0.1331 - acc: 0.9495 - val_loss: 0.2728 - val_acc: 0.9010\n",
            "Epoch 50/100\n",
            "100/100 [==============================] - 29s 286ms/step - loss: 0.1512 - acc: 0.9370 - val_loss: 0.2622 - val_acc: 0.8960\n",
            "Epoch 51/100\n",
            "100/100 [==============================] - 29s 288ms/step - loss: 0.1474 - acc: 0.9390 - val_loss: 0.3543 - val_acc: 0.8620\n",
            "Epoch 52/100\n",
            "100/100 [==============================] - 28s 284ms/step - loss: 0.1366 - acc: 0.9490 - val_loss: 0.2556 - val_acc: 0.9020\n",
            "Epoch 53/100\n",
            "100/100 [==============================] - 29s 286ms/step - loss: 0.1232 - acc: 0.9555 - val_loss: 0.2823 - val_acc: 0.8930\n",
            "Epoch 54/100\n",
            "100/100 [==============================] - 28s 282ms/step - loss: 0.1320 - acc: 0.9485 - val_loss: 0.2822 - val_acc: 0.8900\n",
            "Epoch 55/100\n",
            "100/100 [==============================] - 28s 281ms/step - loss: 0.1468 - acc: 0.9380 - val_loss: 0.2953 - val_acc: 0.8810\n",
            "Epoch 56/100\n",
            "100/100 [==============================] - 29s 294ms/step - loss: 0.1283 - acc: 0.9480 - val_loss: 0.3300 - val_acc: 0.8680\n",
            "Epoch 57/100\n",
            "100/100 [==============================] - 29s 292ms/step - loss: 0.1289 - acc: 0.9545 - val_loss: 0.2664 - val_acc: 0.8940\n",
            "Epoch 58/100\n",
            "100/100 [==============================] - 29s 293ms/step - loss: 0.1299 - acc: 0.9500 - val_loss: 0.2997 - val_acc: 0.8880\n",
            "Epoch 59/100\n",
            "100/100 [==============================] - 30s 296ms/step - loss: 0.1306 - acc: 0.9475 - val_loss: 0.2541 - val_acc: 0.9050\n",
            "Epoch 60/100\n",
            "100/100 [==============================] - 29s 290ms/step - loss: 0.1251 - acc: 0.9520 - val_loss: 0.2573 - val_acc: 0.9010\n",
            "Epoch 61/100\n",
            "100/100 [==============================] - 29s 292ms/step - loss: 0.1338 - acc: 0.9455 - val_loss: 0.3027 - val_acc: 0.8810\n",
            "Epoch 62/100\n",
            "100/100 [==============================] - 29s 290ms/step - loss: 0.1259 - acc: 0.9525 - val_loss: 0.3025 - val_acc: 0.8850\n",
            "Epoch 63/100\n",
            "100/100 [==============================] - 29s 289ms/step - loss: 0.1372 - acc: 0.9420 - val_loss: 0.2763 - val_acc: 0.8910\n",
            "Epoch 64/100\n",
            "100/100 [==============================] - 29s 286ms/step - loss: 0.1290 - acc: 0.9535 - val_loss: 0.2714 - val_acc: 0.8940\n",
            "Epoch 65/100\n",
            "100/100 [==============================] - 29s 290ms/step - loss: 0.1233 - acc: 0.9560 - val_loss: 0.2620 - val_acc: 0.9070\n",
            "Epoch 66/100\n",
            "100/100 [==============================] - 29s 290ms/step - loss: 0.1123 - acc: 0.9575 - val_loss: 0.2700 - val_acc: 0.9010\n",
            "Epoch 67/100\n",
            "100/100 [==============================] - 29s 290ms/step - loss: 0.1140 - acc: 0.9570 - val_loss: 0.2693 - val_acc: 0.8970\n",
            "Epoch 68/100\n",
            "100/100 [==============================] - 29s 290ms/step - loss: 0.1271 - acc: 0.9485 - val_loss: 0.2782 - val_acc: 0.8970\n",
            "Epoch 69/100\n",
            "100/100 [==============================] - 29s 290ms/step - loss: 0.1162 - acc: 0.9545 - val_loss: 0.3092 - val_acc: 0.8840\n",
            "Epoch 70/100\n",
            "100/100 [==============================] - 29s 289ms/step - loss: 0.1126 - acc: 0.9580 - val_loss: 0.2651 - val_acc: 0.9050\n",
            "Epoch 71/100\n",
            "100/100 [==============================] - 29s 289ms/step - loss: 0.1088 - acc: 0.9570 - val_loss: 0.2709 - val_acc: 0.8990\n",
            "Epoch 72/100\n",
            "100/100 [==============================] - 28s 284ms/step - loss: 0.1192 - acc: 0.9565 - val_loss: 0.2726 - val_acc: 0.9010\n",
            "Epoch 73/100\n",
            "100/100 [==============================] - 29s 289ms/step - loss: 0.1102 - acc: 0.9630 - val_loss: 0.2704 - val_acc: 0.9020\n",
            "Epoch 74/100\n",
            "100/100 [==============================] - 29s 291ms/step - loss: 0.1073 - acc: 0.9615 - val_loss: 0.2742 - val_acc: 0.8950\n",
            "Epoch 75/100\n",
            "100/100 [==============================] - 29s 292ms/step - loss: 0.1118 - acc: 0.9560 - val_loss: 0.2783 - val_acc: 0.8960\n",
            "Epoch 76/100\n",
            "100/100 [==============================] - 29s 290ms/step - loss: 0.1063 - acc: 0.9630 - val_loss: 0.2662 - val_acc: 0.9010\n",
            "Epoch 77/100\n",
            "100/100 [==============================] - 29s 287ms/step - loss: 0.1143 - acc: 0.9535 - val_loss: 0.2743 - val_acc: 0.8950\n",
            "Epoch 78/100\n",
            "100/100 [==============================] - 29s 288ms/step - loss: 0.0988 - acc: 0.9610 - val_loss: 0.2878 - val_acc: 0.8970\n",
            "Epoch 79/100\n",
            "100/100 [==============================] - 29s 291ms/step - loss: 0.1090 - acc: 0.9590 - val_loss: 0.2742 - val_acc: 0.8960\n",
            "Epoch 80/100\n",
            "100/100 [==============================] - 29s 291ms/step - loss: 0.1098 - acc: 0.9615 - val_loss: 0.2906 - val_acc: 0.8920\n",
            "Epoch 81/100\n",
            "100/100 [==============================] - 29s 289ms/step - loss: 0.0947 - acc: 0.9630 - val_loss: 0.2796 - val_acc: 0.8970\n",
            "Epoch 82/100\n",
            "100/100 [==============================] - 29s 290ms/step - loss: 0.1114 - acc: 0.9550 - val_loss: 0.2707 - val_acc: 0.9000\n",
            "Epoch 83/100\n",
            "100/100 [==============================] - 29s 291ms/step - loss: 0.1138 - acc: 0.9595 - val_loss: 0.2748 - val_acc: 0.8970\n",
            "Epoch 84/100\n",
            "100/100 [==============================] - 29s 290ms/step - loss: 0.1017 - acc: 0.9595 - val_loss: 0.2783 - val_acc: 0.9020\n",
            "Epoch 85/100\n",
            "100/100 [==============================] - 29s 292ms/step - loss: 0.1083 - acc: 0.9575 - val_loss: 0.2760 - val_acc: 0.8990\n",
            "Epoch 86/100\n",
            "100/100 [==============================] - 29s 293ms/step - loss: 0.1018 - acc: 0.9620 - val_loss: 0.2808 - val_acc: 0.8940\n",
            "Epoch 87/100\n",
            "100/100 [==============================] - 29s 293ms/step - loss: 0.0999 - acc: 0.9620 - val_loss: 0.2846 - val_acc: 0.9010\n",
            "Epoch 88/100\n",
            "100/100 [==============================] - 29s 293ms/step - loss: 0.1008 - acc: 0.9575 - val_loss: 0.3430 - val_acc: 0.8820\n",
            "Epoch 89/100\n",
            "100/100 [==============================] - 29s 293ms/step - loss: 0.0978 - acc: 0.9635 - val_loss: 0.3151 - val_acc: 0.8890\n",
            "Epoch 90/100\n",
            "100/100 [==============================] - 29s 291ms/step - loss: 0.1054 - acc: 0.9605 - val_loss: 0.2721 - val_acc: 0.8970\n",
            "Epoch 91/100\n",
            "100/100 [==============================] - 29s 285ms/step - loss: 0.0973 - acc: 0.9645 - val_loss: 0.2731 - val_acc: 0.9000\n",
            "Epoch 92/100\n",
            "100/100 [==============================] - 27s 269ms/step - loss: 0.0931 - acc: 0.9655 - val_loss: 0.2790 - val_acc: 0.9010\n",
            "Epoch 93/100\n",
            "100/100 [==============================] - 28s 278ms/step - loss: 0.0821 - acc: 0.9700 - val_loss: 0.2742 - val_acc: 0.8990\n",
            "Epoch 94/100\n",
            "100/100 [==============================] - 27s 269ms/step - loss: 0.0954 - acc: 0.9660 - val_loss: 0.2770 - val_acc: 0.9040\n",
            "Epoch 95/100\n",
            "100/100 [==============================] - 27s 272ms/step - loss: 0.0898 - acc: 0.9640 - val_loss: 0.2885 - val_acc: 0.8950\n",
            "Epoch 96/100\n",
            "100/100 [==============================] - 27s 269ms/step - loss: 0.0878 - acc: 0.9675 - val_loss: 0.2843 - val_acc: 0.9000\n",
            "Epoch 97/100\n",
            "100/100 [==============================] - 27s 273ms/step - loss: 0.0990 - acc: 0.9690 - val_loss: 0.2930 - val_acc: 0.8880\n",
            "Epoch 98/100\n",
            "100/100 [==============================] - 27s 270ms/step - loss: 0.0883 - acc: 0.9635 - val_loss: 0.2829 - val_acc: 0.8960\n",
            "Epoch 99/100\n",
            "100/100 [==============================] - 28s 278ms/step - loss: 0.0859 - acc: 0.9685 - val_loss: 0.2761 - val_acc: 0.9010\n",
            "Epoch 100/100\n",
            "100/100 [==============================] - 28s 278ms/step - loss: 0.0722 - acc: 0.9765 - val_loss: 0.2921 - val_acc: 0.8900\n"
          ],
          "name": "stdout"
        }
      ]
    },
    {
      "metadata": {
        "id": "gYmvhQnsRUar",
        "colab_type": "text"
      },
      "cell_type": "markdown",
      "source": [
        "### Displaying loss and accuracy during training"
      ]
    },
    {
      "metadata": {
        "id": "5_EkF9t3RZZ9",
        "colab_type": "code",
        "colab": {
          "base_uri": "https://localhost:8080/",
          "height": 545
        },
        "outputId": "de4955e6-bdc0-4292-eb15-ce05a6543c03"
      },
      "cell_type": "code",
      "source": [
        "%matplotlib inline\n",
        "\n",
        "import matplotlib.pyplot as plt\n",
        "\n",
        "acc = history.history['acc']\n",
        "val_acc = history.history['val_acc']\n",
        "\n",
        "loss = history.history['loss']\n",
        "val_loss = history.history['val_loss']\n",
        "\n",
        "epochs = range(1, len(acc) + 1)\n",
        "\n",
        "# training and validation accuracy\n",
        "\n",
        "plt.plot(epochs, acc, 'b', label='training acc')\n",
        "plt.plot(epochs, val_acc, 'r', label='validation acc')\n",
        "plt.title('training and validation accuracy')\n",
        "plt.legend()\n",
        "\n",
        "plt.figure()\n",
        "\n",
        "# training and validation loss\n",
        "\n",
        "plt.plot(epochs, loss, 'b', label='training loss')\n",
        "plt.plot(epochs, val_loss, 'r', label='validation loss')\n",
        "plt.title('training and validation loss')\n",
        "plt.legend()\n",
        "\n",
        "plt.show()"
      ],
      "execution_count": 7,
      "outputs": [
        {
          "output_type": "display_data",
          "data": {
            "image/png": "[encoded data removed]",
            "text/plain": [
              "<Figure size 432x288 with 1 Axes>"
            ]
          },
          "metadata": {
            "tags": []
          }
        },
        {
          "output_type": "display_data",
          "data": {
            "image/png": "[encoded data removed]",
            "text/plain": [
              "<Figure size 432x288 with 1 Axes>"
            ]
          },
          "metadata": {
            "tags": []
          }
        }
      ]
    },
    {
      "metadata": {
        "id": "JUNfnHKeRme0",
        "colab_type": "text"
      },
      "cell_type": "markdown",
      "source": [
        "### Displaying loss and accuracy during training with smaller learning rate"
      ]
    },
    {
      "metadata": {
        "id": "e3fvliojR4U8",
        "colab_type": "code",
        "colab": {
          "base_uri": "https://localhost:8080/",
          "height": 52
        },
        "outputId": "9380fdd0-9712-46c5-e19c-6151907fa128"
      },
      "cell_type": "code",
      "source": [
        "val_loss, val_acc = model.evaluate_generator(validation_generator, steps=50)\n",
        "print(\"Validation loss:\", val_loss)\n",
        "print(\"Validation accuracy:\", val_acc)"
      ],
      "execution_count": 8,
      "outputs": [
        {
          "output_type": "stream",
          "text": [
            "Validation loss: 0.2971610951330513\n",
            "Validation accuracy: 0.890999995470047\n"
          ],
          "name": "stdout"
        }
      ]
    }
  ]
}