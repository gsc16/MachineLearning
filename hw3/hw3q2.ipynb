{
  "nbformat": 4,
  "nbformat_minor": 0,
  "metadata": {
    "colab": {
      "name": "hw3q2.ipynb",
      "version": "0.3.2",
      "provenance": [],
      "collapsed_sections": [],
      "include_colab_link": true
    },
    "kernelspec": {
      "name": "python3",
      "display_name": "Python 3"
    },
    "accelerator": "GPU"
  },
  "cells": [
    {
      "cell_type": "markdown",
      "metadata": {
        "id": "view-in-github",
        "colab_type": "text"
      },
      "source": [
        "<a href=\"https://colab.research.google.com/github/gsc16/MachineLearning/blob/master/hw3/hw3q2.ipynb\" target=\"_parent\"><img src=\"https://colab.research.google.com/assets/colab-badge.svg\" alt=\"Open In Colab\"/></a>"
      ]
    },
    {
      "metadata": {
        "id": "AAbFgg4aV4h1",
        "colab_type": "text"
      },
      "cell_type": "markdown",
      "source": [
        "I have run the model with learning rate 0.00005 and I could achieve a maximum validation accuracy of 90.70%, after running for 100 epochs. After fine tuning the model, and running with a learning rate of 0.00002, I could achieve a maximum accuracy of 94.20%. With learning rate of 0.00001 after fine tuning, I could achieve a maximum accuracy fo 95.40%. \n",
        "\n",
        "After adding drop out of 0.25, I could achieve a maximum validation accuracy of 91.10% after running for 100 epochs. It reduced the overfitting a bit. But, that is not too significant. Combining fine tuning with drop out and data augmentation, I could get a maximum validation accuracy of 95.20%, which is almost same as without dropout."
      ]
    },
    {
      "metadata": {
        "id": "JQLrjOzvQCf6",
        "colab_type": "text"
      },
      "cell_type": "markdown",
      "source": [
        "### Downloading data"
      ]
    },
    {
      "metadata": {
        "id": "reU7PX7NP7vu",
        "colab_type": "code",
        "outputId": "d81d9f38-4b80-491e-acde-96dd5e6fe8c8",
        "colab": {
          "base_uri": "https://localhost:8080/",
          "height": 210
        }
      },
      "cell_type": "code",
      "source": [
        "!wget --no-check-certificate \\\n",
        "    https://storage.googleapis.com/mledu-datasets/cats_and_dogs_filtered.zip \\\n",
        "    -O /tmp/cats_and_dogs_filtered.zip"
      ],
      "execution_count": 1,
      "outputs": [
        {
          "output_type": "stream",
          "text": [
            "--2019-04-17 00:55:31--  https://storage.googleapis.com/mledu-datasets/cats_and_dogs_filtered.zip\n",
            "Resolving storage.googleapis.com (storage.googleapis.com)... 74.125.202.128, 2607:f8b0:4001:c15::80\n",
            "Connecting to storage.googleapis.com (storage.googleapis.com)|74.125.202.128|:443... connected.\n",
            "HTTP request sent, awaiting response... 200 OK\n",
            "Length: 68606236 (65M) [application/zip]\n",
            "Saving to: ‘/tmp/cats_and_dogs_filtered.zip’\n",
            "\n",
            "/tmp/cats_and_dogs_ 100%[===================>]  65.43M  22.1MB/s    in 3.0s    \n",
            "\n",
            "2019-04-17 00:55:34 (22.1 MB/s) - ‘/tmp/cats_and_dogs_filtered.zip’ saved [68606236/68606236]\n",
            "\n"
          ],
          "name": "stdout"
        }
      ]
    },
    {
      "metadata": {
        "id": "xrYTtxQRQP5j",
        "colab_type": "text"
      },
      "cell_type": "markdown",
      "source": [
        "### Extracting images and splitting data into training and test data sets"
      ]
    },
    {
      "metadata": {
        "id": "UdzOmrVLQLP4",
        "colab_type": "code",
        "colab": {}
      },
      "cell_type": "code",
      "source": [
        "import os\n",
        "import zipfile\n",
        "\n",
        "local_zip = '/tmp/cats_and_dogs_filtered.zip'\n",
        "zip_ref = zipfile.ZipFile(local_zip, 'r')\n",
        "zip_ref.extractall('/tmp')\n",
        "zip_ref.close()"
      ],
      "execution_count": 0,
      "outputs": []
    },
    {
      "metadata": {
        "id": "lvF7gPGyQL1v",
        "colab_type": "code",
        "colab": {}
      },
      "cell_type": "code",
      "source": [
        "base_dir = '/tmp/cats_and_dogs_filtered'\n",
        "train_dir = os.path.join(base_dir, 'train')\n",
        "validation_dir = os.path.join(base_dir, 'validation')\n",
        "\n",
        "# Directory with our training cat pictures\n",
        "train_cats_dir = os.path.join(train_dir, 'cats')\n",
        "\n",
        "# Directory with our training dog pictures\n",
        "train_dogs_dir = os.path.join(train_dir, 'dogs')\n",
        "\n",
        "# Directory with our validation cat pictures\n",
        "validation_cats_dir = os.path.join(validation_dir, 'cats')\n",
        "\n",
        "# Directory with our validation dog pictures\n",
        "validation_dogs_dir = os.path.join(validation_dir, 'dogs')"
      ],
      "execution_count": 0,
      "outputs": []
    },
    {
      "metadata": {
        "id": "E-BHtPj_QXLQ",
        "colab_type": "text"
      },
      "cell_type": "markdown",
      "source": [
        "### Building the model with VGG19 convolutional base"
      ]
    },
    {
      "metadata": {
        "id": "u5jWEC7jQoY5",
        "colab_type": "text"
      },
      "cell_type": "markdown",
      "source": [
        "#### Loading VGG19 convolutional base and freezing it"
      ]
    },
    {
      "metadata": {
        "id": "-IjygBCdQgZL",
        "colab_type": "code",
        "outputId": "51b13760-8505-4346-fd08-699432b09d7b",
        "colab": {
          "base_uri": "https://localhost:8080/",
          "height": 142
        }
      },
      "cell_type": "code",
      "source": [
        "from keras.applications import VGG19\n",
        "\n",
        "conv_base = VGG19(\n",
        "    weights='imagenet', \n",
        "    include_top=False, \n",
        "    input_shape=(150, 150, 3))\n",
        "\n",
        "conv_base.trainable = False"
      ],
      "execution_count": 4,
      "outputs": [
        {
          "output_type": "stream",
          "text": [
            "Using TensorFlow backend.\n"
          ],
          "name": "stderr"
        },
        {
          "output_type": "stream",
          "text": [
            "WARNING:tensorflow:From /usr/local/lib/python3.6/dist-packages/tensorflow/python/framework/op_def_library.py:263: colocate_with (from tensorflow.python.framework.ops) is deprecated and will be removed in a future version.\n",
            "Instructions for updating:\n",
            "Colocations handled automatically by placer.\n",
            "Downloading data from https://github.com/fchollet/deep-learning-models/releases/download/v0.1/vgg19_weights_tf_dim_ordering_tf_kernels_notop.h5\n",
            "80142336/80134624 [==============================] - 1s 0us/step\n"
          ],
          "name": "stdout"
        }
      ]
    },
    {
      "metadata": {
        "id": "oJSRqWlZQ07R",
        "colab_type": "text"
      },
      "cell_type": "markdown",
      "source": [
        "#### Adding densely connected layers to the convolutional base"
      ]
    },
    {
      "metadata": {
        "id": "MJUOPzauQ8Tw",
        "colab_type": "code",
        "outputId": "99a53de2-f32a-4e96-9713-e07e28b90a6e",
        "colab": {
          "base_uri": "https://localhost:8080/",
          "height": 389
        }
      },
      "cell_type": "code",
      "source": [
        "from keras import layers\n",
        "from keras import models\n",
        "from keras import optimizers\n",
        "\n",
        "model = models.Sequential()\n",
        "model.add(conv_base)\n",
        "model.add(layers.Flatten())\n",
        "model.add(layers.Dense(256, activation='relu'))\n",
        "model.add(layers.Dropout(0.25))\n",
        "model.add(layers.Dense(1, activation='sigmoid'))\n",
        "\n",
        "model.summary()"
      ],
      "execution_count": 5,
      "outputs": [
        {
          "output_type": "stream",
          "text": [
            "WARNING:tensorflow:From /usr/local/lib/python3.6/dist-packages/keras/backend/tensorflow_backend.py:3445: calling dropout (from tensorflow.python.ops.nn_ops) with keep_prob is deprecated and will be removed in a future version.\n",
            "Instructions for updating:\n",
            "Please use `rate` instead of `keep_prob`. Rate should be set to `rate = 1 - keep_prob`.\n",
            "_________________________________________________________________\n",
            "Layer (type)                 Output Shape              Param #   \n",
            "=================================================================\n",
            "vgg19 (Model)                (None, 4, 4, 512)         20024384  \n",
            "_________________________________________________________________\n",
            "flatten_1 (Flatten)          (None, 8192)              0         \n",
            "_________________________________________________________________\n",
            "dense_1 (Dense)              (None, 256)               2097408   \n",
            "_________________________________________________________________\n",
            "dropout_1 (Dropout)          (None, 256)               0         \n",
            "_________________________________________________________________\n",
            "dense_2 (Dense)              (None, 1)                 257       \n",
            "=================================================================\n",
            "Total params: 22,122,049\n",
            "Trainable params: 2,097,665\n",
            "Non-trainable params: 20,024,384\n",
            "_________________________________________________________________\n"
          ],
          "name": "stdout"
        }
      ]
    },
    {
      "metadata": {
        "id": "UXA7hL6MRB9s",
        "colab_type": "text"
      },
      "cell_type": "markdown",
      "source": [
        "### Training the model"
      ]
    },
    {
      "metadata": {
        "id": "-TvQPmupRIBj",
        "colab_type": "code",
        "outputId": "f45496a8-cb75-4de5-ed49-eb667c997655",
        "colab": {
          "base_uri": "https://localhost:8080/",
          "height": 3645
        }
      },
      "cell_type": "code",
      "source": [
        "from keras.preprocessing.image import ImageDataGenerator\n",
        "from keras import optimizers\n",
        "\n",
        "# data augmentation\n",
        "\n",
        "train_datagen = ImageDataGenerator(\n",
        "    rescale=1./255, \n",
        "    zca_epsilon=1e-06,\n",
        "    rotation_range=0,\n",
        "    width_shift_range=0.1,\n",
        "    height_shift_range=0.1,\n",
        "    shear_range=0.2,\n",
        "    zoom_range=0.2,\n",
        "    horizontal_flip=True,\n",
        "    fill_mode='nearest'\n",
        ")\n",
        "\n",
        "train_generator = train_datagen.flow_from_directory(\n",
        "    train_dir,\n",
        "    target_size=(150, 150),\n",
        "    batch_size=20,\n",
        "    class_mode='binary')\n",
        "\n",
        "validation_datagen = ImageDataGenerator(rescale=1./255)\n",
        "\n",
        "validation_generator = validation_datagen.flow_from_directory(\n",
        "    validation_dir,\n",
        "    target_size=(150, 150),\n",
        "    batch_size=20,\n",
        "    class_mode='binary')\n",
        "\n",
        "# compile model\n",
        "\n",
        "model.compile(\n",
        "    loss='binary_crossentropy', \n",
        "    optimizer=optimizers.RMSprop(lr=0.00005), \n",
        "    metrics=['acc'])\n",
        "\n",
        "# train\n",
        "\n",
        "history = model.fit_generator(\n",
        "    train_generator,\n",
        "    steps_per_epoch=100,\n",
        "    epochs=100,\n",
        "    validation_data=validation_generator,\n",
        "    validation_steps=50,\n",
        ")"
      ],
      "execution_count": 6,
      "outputs": [
        {
          "output_type": "stream",
          "text": [
            "Found 2000 images belonging to 2 classes.\n",
            "Found 1000 images belonging to 2 classes.\n",
            "WARNING:tensorflow:From /usr/local/lib/python3.6/dist-packages/tensorflow/python/ops/math_ops.py:3066: to_int32 (from tensorflow.python.ops.math_ops) is deprecated and will be removed in a future version.\n",
            "Instructions for updating:\n",
            "Use tf.cast instead.\n",
            "Epoch 1/100\n",
            "100/100 [==============================] - 23s 234ms/step - loss: 0.5395 - acc: 0.7235 - val_loss: 0.4083 - val_acc: 0.8220\n",
            "Epoch 2/100\n",
            "100/100 [==============================] - 18s 179ms/step - loss: 0.4052 - acc: 0.8105 - val_loss: 0.3113 - val_acc: 0.8820\n",
            "Epoch 3/100\n",
            "100/100 [==============================] - 19s 193ms/step - loss: 0.3583 - acc: 0.8520 - val_loss: 0.2905 - val_acc: 0.8810\n",
            "Epoch 4/100\n",
            "100/100 [==============================] - 19s 192ms/step - loss: 0.3392 - acc: 0.8485 - val_loss: 0.2879 - val_acc: 0.8840\n",
            "Epoch 5/100\n",
            "100/100 [==============================] - 18s 177ms/step - loss: 0.3286 - acc: 0.8575 - val_loss: 0.2740 - val_acc: 0.8880\n",
            "Epoch 6/100\n",
            "100/100 [==============================] - 18s 177ms/step - loss: 0.3146 - acc: 0.8690 - val_loss: 0.2733 - val_acc: 0.8820\n",
            "Epoch 7/100\n",
            "100/100 [==============================] - 18s 183ms/step - loss: 0.3070 - acc: 0.8625 - val_loss: 0.2659 - val_acc: 0.8850\n",
            "Epoch 8/100\n",
            "100/100 [==============================] - 18s 180ms/step - loss: 0.2848 - acc: 0.8765 - val_loss: 0.2653 - val_acc: 0.8820\n",
            "Epoch 9/100\n",
            "100/100 [==============================] - 18s 184ms/step - loss: 0.2749 - acc: 0.8795 - val_loss: 0.2576 - val_acc: 0.8840\n",
            "Epoch 10/100\n",
            "100/100 [==============================] - 18s 178ms/step - loss: 0.2894 - acc: 0.8780 - val_loss: 0.2605 - val_acc: 0.8910\n",
            "Epoch 11/100\n",
            "100/100 [==============================] - 18s 177ms/step - loss: 0.2736 - acc: 0.8795 - val_loss: 0.3294 - val_acc: 0.8550\n",
            "Epoch 12/100\n",
            "100/100 [==============================] - 18s 178ms/step - loss: 0.2601 - acc: 0.8945 - val_loss: 0.3075 - val_acc: 0.8700\n",
            "Epoch 13/100\n",
            "100/100 [==============================] - 19s 192ms/step - loss: 0.2655 - acc: 0.8875 - val_loss: 0.2833 - val_acc: 0.8700\n",
            "Epoch 14/100\n",
            "100/100 [==============================] - 18s 178ms/step - loss: 0.2507 - acc: 0.8950 - val_loss: 0.2888 - val_acc: 0.8780\n",
            "Epoch 15/100\n",
            "100/100 [==============================] - 18s 179ms/step - loss: 0.2631 - acc: 0.8850 - val_loss: 0.2655 - val_acc: 0.8770\n",
            "Epoch 16/100\n",
            "100/100 [==============================] - 18s 179ms/step - loss: 0.2483 - acc: 0.8995 - val_loss: 0.2435 - val_acc: 0.9000\n",
            "Epoch 17/100\n",
            "100/100 [==============================] - 18s 184ms/step - loss: 0.2442 - acc: 0.8950 - val_loss: 0.2427 - val_acc: 0.9000\n",
            "Epoch 18/100\n",
            "100/100 [==============================] - 18s 181ms/step - loss: 0.2383 - acc: 0.8965 - val_loss: 0.2512 - val_acc: 0.8950\n",
            "Epoch 19/100\n",
            "100/100 [==============================] - 18s 178ms/step - loss: 0.2451 - acc: 0.8945 - val_loss: 0.2538 - val_acc: 0.8920\n",
            "Epoch 20/100\n",
            "100/100 [==============================] - 19s 189ms/step - loss: 0.2254 - acc: 0.9035 - val_loss: 0.2456 - val_acc: 0.9010\n",
            "Epoch 21/100\n",
            "100/100 [==============================] - 18s 179ms/step - loss: 0.2230 - acc: 0.9130 - val_loss: 0.2826 - val_acc: 0.8740\n",
            "Epoch 22/100\n",
            "100/100 [==============================] - 19s 191ms/step - loss: 0.2115 - acc: 0.9185 - val_loss: 0.2506 - val_acc: 0.8920\n",
            "Epoch 23/100\n",
            "100/100 [==============================] - 18s 178ms/step - loss: 0.2213 - acc: 0.9140 - val_loss: 0.2444 - val_acc: 0.9010\n",
            "Epoch 24/100\n",
            "100/100 [==============================] - 19s 185ms/step - loss: 0.2047 - acc: 0.9165 - val_loss: 0.2464 - val_acc: 0.9060\n",
            "Epoch 25/100\n",
            "100/100 [==============================] - 18s 179ms/step - loss: 0.2079 - acc: 0.9080 - val_loss: 0.2593 - val_acc: 0.8840\n",
            "Epoch 26/100\n",
            "100/100 [==============================] - 19s 189ms/step - loss: 0.1984 - acc: 0.9195 - val_loss: 0.2574 - val_acc: 0.8860\n",
            "Epoch 27/100\n",
            "100/100 [==============================] - 18s 177ms/step - loss: 0.2009 - acc: 0.9130 - val_loss: 0.2425 - val_acc: 0.9020\n",
            "Epoch 28/100\n",
            "100/100 [==============================] - 18s 177ms/step - loss: 0.1996 - acc: 0.9140 - val_loss: 0.2456 - val_acc: 0.9030\n",
            "Epoch 29/100\n",
            "100/100 [==============================] - 18s 178ms/step - loss: 0.2042 - acc: 0.9235 - val_loss: 0.2522 - val_acc: 0.8920\n",
            "Epoch 30/100\n",
            "100/100 [==============================] - 18s 177ms/step - loss: 0.1966 - acc: 0.9205 - val_loss: 0.2487 - val_acc: 0.9000\n",
            "Epoch 31/100\n",
            "100/100 [==============================] - 19s 187ms/step - loss: 0.2037 - acc: 0.9230 - val_loss: 0.2455 - val_acc: 0.9020\n",
            "Epoch 32/100\n",
            "100/100 [==============================] - 18s 178ms/step - loss: 0.2055 - acc: 0.9125 - val_loss: 0.2463 - val_acc: 0.9030\n",
            "Epoch 33/100\n",
            "100/100 [==============================] - 18s 178ms/step - loss: 0.2012 - acc: 0.9145 - val_loss: 0.2395 - val_acc: 0.9010\n",
            "Epoch 34/100\n",
            "100/100 [==============================] - 18s 178ms/step - loss: 0.1984 - acc: 0.9205 - val_loss: 0.2500 - val_acc: 0.8910\n",
            "Epoch 35/100\n",
            "100/100 [==============================] - 19s 191ms/step - loss: 0.1769 - acc: 0.9280 - val_loss: 0.2486 - val_acc: 0.9060\n",
            "Epoch 36/100\n",
            "100/100 [==============================] - 18s 178ms/step - loss: 0.1889 - acc: 0.9200 - val_loss: 0.2608 - val_acc: 0.8880\n",
            "Epoch 37/100\n",
            "100/100 [==============================] - 18s 185ms/step - loss: 0.1877 - acc: 0.9235 - val_loss: 0.2389 - val_acc: 0.9040\n",
            "Epoch 38/100\n",
            "100/100 [==============================] - 18s 181ms/step - loss: 0.1845 - acc: 0.9305 - val_loss: 0.2427 - val_acc: 0.9060\n",
            "Epoch 39/100\n",
            "100/100 [==============================] - 18s 180ms/step - loss: 0.1779 - acc: 0.9265 - val_loss: 0.2546 - val_acc: 0.8910\n",
            "Epoch 40/100\n",
            "100/100 [==============================] - 18s 184ms/step - loss: 0.1717 - acc: 0.9345 - val_loss: 0.2501 - val_acc: 0.9020\n",
            "Epoch 41/100\n",
            "100/100 [==============================] - 19s 185ms/step - loss: 0.1836 - acc: 0.9275 - val_loss: 0.2440 - val_acc: 0.9020\n",
            "Epoch 42/100\n",
            "100/100 [==============================] - 18s 178ms/step - loss: 0.1715 - acc: 0.9285 - val_loss: 0.2778 - val_acc: 0.8870\n",
            "Epoch 43/100\n",
            "100/100 [==============================] - 18s 178ms/step - loss: 0.1702 - acc: 0.9330 - val_loss: 0.2597 - val_acc: 0.8960\n",
            "Epoch 44/100\n",
            "100/100 [==============================] - 19s 192ms/step - loss: 0.1693 - acc: 0.9300 - val_loss: 0.2797 - val_acc: 0.8880\n",
            "Epoch 45/100\n",
            "100/100 [==============================] - 18s 178ms/step - loss: 0.1667 - acc: 0.9310 - val_loss: 0.2524 - val_acc: 0.9050\n",
            "Epoch 46/100\n",
            "100/100 [==============================] - 18s 178ms/step - loss: 0.1600 - acc: 0.9400 - val_loss: 0.2947 - val_acc: 0.8760\n",
            "Epoch 47/100\n",
            "100/100 [==============================] - 18s 178ms/step - loss: 0.1630 - acc: 0.9410 - val_loss: 0.2595 - val_acc: 0.8990\n",
            "Epoch 48/100\n",
            "100/100 [==============================] - 18s 183ms/step - loss: 0.1648 - acc: 0.9315 - val_loss: 0.2604 - val_acc: 0.8970\n",
            "Epoch 49/100\n",
            "100/100 [==============================] - 18s 181ms/step - loss: 0.1666 - acc: 0.9345 - val_loss: 0.2743 - val_acc: 0.8790\n",
            "Epoch 50/100\n",
            "100/100 [==============================] - 18s 178ms/step - loss: 0.1644 - acc: 0.9375 - val_loss: 0.2680 - val_acc: 0.8910\n",
            "Epoch 51/100\n",
            "100/100 [==============================] - 18s 178ms/step - loss: 0.1599 - acc: 0.9340 - val_loss: 0.3306 - val_acc: 0.8620\n",
            "Epoch 52/100\n",
            "100/100 [==============================] - 18s 178ms/step - loss: 0.1557 - acc: 0.9415 - val_loss: 0.2475 - val_acc: 0.9040\n",
            "Epoch 53/100\n",
            "100/100 [==============================] - 19s 192ms/step - loss: 0.1696 - acc: 0.9335 - val_loss: 0.2870 - val_acc: 0.8810\n",
            "Epoch 54/100\n",
            "100/100 [==============================] - 18s 181ms/step - loss: 0.1525 - acc: 0.9430 - val_loss: 0.3513 - val_acc: 0.8600\n",
            "Epoch 55/100\n",
            "100/100 [==============================] - 18s 184ms/step - loss: 0.1540 - acc: 0.9405 - val_loss: 0.2546 - val_acc: 0.8930\n",
            "Epoch 56/100\n",
            "100/100 [==============================] - 18s 178ms/step - loss: 0.1513 - acc: 0.9400 - val_loss: 0.2492 - val_acc: 0.8990\n",
            "Epoch 57/100\n",
            "100/100 [==============================] - 19s 187ms/step - loss: 0.1482 - acc: 0.9445 - val_loss: 0.2540 - val_acc: 0.9030\n",
            "Epoch 58/100\n",
            "100/100 [==============================] - 19s 186ms/step - loss: 0.1483 - acc: 0.9390 - val_loss: 0.2556 - val_acc: 0.8930\n",
            "Epoch 59/100\n",
            "100/100 [==============================] - 18s 178ms/step - loss: 0.1475 - acc: 0.9395 - val_loss: 0.2638 - val_acc: 0.8890\n",
            "Epoch 60/100\n",
            "100/100 [==============================] - 18s 178ms/step - loss: 0.1394 - acc: 0.9465 - val_loss: 0.2783 - val_acc: 0.8840\n",
            "Epoch 61/100\n",
            "100/100 [==============================] - 18s 178ms/step - loss: 0.1507 - acc: 0.9340 - val_loss: 0.2555 - val_acc: 0.8970\n",
            "Epoch 62/100\n",
            "100/100 [==============================] - 19s 188ms/step - loss: 0.1429 - acc: 0.9405 - val_loss: 0.2782 - val_acc: 0.8900\n",
            "Epoch 63/100\n",
            "100/100 [==============================] - 18s 178ms/step - loss: 0.1419 - acc: 0.9480 - val_loss: 0.2798 - val_acc: 0.8890\n",
            "Epoch 64/100\n",
            "100/100 [==============================] - 18s 178ms/step - loss: 0.1445 - acc: 0.9420 - val_loss: 0.2541 - val_acc: 0.8980\n",
            "Epoch 65/100\n",
            "100/100 [==============================] - 18s 177ms/step - loss: 0.1392 - acc: 0.9445 - val_loss: 0.2577 - val_acc: 0.9020\n",
            "Epoch 66/100\n",
            "100/100 [==============================] - 19s 190ms/step - loss: 0.1363 - acc: 0.9525 - val_loss: 0.2632 - val_acc: 0.9010\n",
            "Epoch 67/100\n",
            "100/100 [==============================] - 18s 178ms/step - loss: 0.1409 - acc: 0.9415 - val_loss: 0.2617 - val_acc: 0.9030\n",
            "Epoch 68/100\n",
            "100/100 [==============================] - 18s 177ms/step - loss: 0.1312 - acc: 0.9500 - val_loss: 0.2673 - val_acc: 0.8940\n",
            "Epoch 69/100\n",
            "100/100 [==============================] - 18s 177ms/step - loss: 0.1373 - acc: 0.9535 - val_loss: 0.2631 - val_acc: 0.8930\n",
            "Epoch 70/100\n",
            "100/100 [==============================] - 18s 177ms/step - loss: 0.1338 - acc: 0.9485 - val_loss: 0.2623 - val_acc: 0.8900\n",
            "Epoch 71/100\n",
            "100/100 [==============================] - 19s 186ms/step - loss: 0.1293 - acc: 0.9515 - val_loss: 0.2578 - val_acc: 0.8970\n",
            "Epoch 72/100\n",
            "100/100 [==============================] - 19s 189ms/step - loss: 0.1201 - acc: 0.9540 - val_loss: 0.2680 - val_acc: 0.8980\n",
            "Epoch 73/100\n",
            "100/100 [==============================] - 18s 178ms/step - loss: 0.1378 - acc: 0.9440 - val_loss: 0.2597 - val_acc: 0.8980\n",
            "Epoch 74/100\n",
            "100/100 [==============================] - 18s 178ms/step - loss: 0.1322 - acc: 0.9520 - val_loss: 0.2899 - val_acc: 0.8950\n",
            "Epoch 75/100\n",
            "100/100 [==============================] - 20s 197ms/step - loss: 0.1348 - acc: 0.9525 - val_loss: 0.2976 - val_acc: 0.8850\n",
            "Epoch 76/100\n",
            "100/100 [==============================] - 18s 179ms/step - loss: 0.1253 - acc: 0.9545 - val_loss: 0.2661 - val_acc: 0.8970\n",
            "Epoch 77/100\n",
            "100/100 [==============================] - 18s 179ms/step - loss: 0.1280 - acc: 0.9535 - val_loss: 0.2687 - val_acc: 0.8910\n",
            "Epoch 78/100\n",
            "100/100 [==============================] - 18s 178ms/step - loss: 0.1072 - acc: 0.9600 - val_loss: 0.2694 - val_acc: 0.8940\n",
            "Epoch 79/100\n",
            "100/100 [==============================] - 18s 183ms/step - loss: 0.1195 - acc: 0.9505 - val_loss: 0.2684 - val_acc: 0.9030\n",
            "Epoch 80/100\n",
            "100/100 [==============================] - 18s 182ms/step - loss: 0.1349 - acc: 0.9460 - val_loss: 0.2720 - val_acc: 0.8890\n",
            "Epoch 81/100\n",
            "100/100 [==============================] - 18s 178ms/step - loss: 0.1248 - acc: 0.9510 - val_loss: 0.2798 - val_acc: 0.8910\n",
            "Epoch 82/100\n",
            "100/100 [==============================] - 18s 178ms/step - loss: 0.1144 - acc: 0.9640 - val_loss: 0.2637 - val_acc: 0.9000\n",
            "Epoch 83/100\n",
            "100/100 [==============================] - 18s 178ms/step - loss: 0.1120 - acc: 0.9550 - val_loss: 0.2656 - val_acc: 0.8940\n",
            "Epoch 84/100\n",
            "100/100 [==============================] - 19s 192ms/step - loss: 0.1156 - acc: 0.9565 - val_loss: 0.2712 - val_acc: 0.9070\n",
            "Epoch 85/100\n",
            "100/100 [==============================] - 18s 177ms/step - loss: 0.1298 - acc: 0.9450 - val_loss: 0.2634 - val_acc: 0.8950\n",
            "Epoch 86/100\n",
            "100/100 [==============================] - 18s 178ms/step - loss: 0.1144 - acc: 0.9560 - val_loss: 0.2647 - val_acc: 0.9020\n",
            "Epoch 87/100\n",
            "100/100 [==============================] - 18s 177ms/step - loss: 0.1179 - acc: 0.9530 - val_loss: 0.2636 - val_acc: 0.8970\n",
            "Epoch 88/100\n",
            "100/100 [==============================] - 19s 186ms/step - loss: 0.1070 - acc: 0.9610 - val_loss: 0.2678 - val_acc: 0.9040\n",
            "Epoch 89/100\n",
            "100/100 [==============================] - 19s 193ms/step - loss: 0.1075 - acc: 0.9615 - val_loss: 0.2896 - val_acc: 0.8870\n",
            "Epoch 90/100\n",
            "100/100 [==============================] - 18s 178ms/step - loss: 0.1066 - acc: 0.9580 - val_loss: 0.2712 - val_acc: 0.9040\n",
            "Epoch 91/100\n",
            "100/100 [==============================] - 18s 179ms/step - loss: 0.1020 - acc: 0.9605 - val_loss: 0.2680 - val_acc: 0.8990\n",
            "Epoch 92/100\n",
            "100/100 [==============================] - 18s 179ms/step - loss: 0.1048 - acc: 0.9645 - val_loss: 0.2733 - val_acc: 0.9010\n",
            "Epoch 93/100\n",
            "100/100 [==============================] - 19s 189ms/step - loss: 0.1171 - acc: 0.9545 - val_loss: 0.2662 - val_acc: 0.9030\n",
            "Epoch 94/100\n",
            "100/100 [==============================] - 18s 178ms/step - loss: 0.1097 - acc: 0.9665 - val_loss: 0.2719 - val_acc: 0.9100\n",
            "Epoch 95/100\n",
            "100/100 [==============================] - 18s 178ms/step - loss: 0.0960 - acc: 0.9650 - val_loss: 0.2784 - val_acc: 0.9080\n",
            "Epoch 96/100\n",
            "100/100 [==============================] - 18s 178ms/step - loss: 0.0897 - acc: 0.9700 - val_loss: 0.3002 - val_acc: 0.8840\n",
            "Epoch 97/100\n",
            "100/100 [==============================] - 19s 190ms/step - loss: 0.1102 - acc: 0.9575 - val_loss: 0.2658 - val_acc: 0.9030\n",
            "Epoch 98/100\n",
            "100/100 [==============================] - 18s 178ms/step - loss: 0.1065 - acc: 0.9620 - val_loss: 0.2754 - val_acc: 0.9110\n",
            "Epoch 99/100\n",
            "100/100 [==============================] - 18s 179ms/step - loss: 0.1009 - acc: 0.9580 - val_loss: 0.2976 - val_acc: 0.8920\n",
            "Epoch 100/100\n",
            "100/100 [==============================] - 18s 178ms/step - loss: 0.1035 - acc: 0.9555 - val_loss: 0.2816 - val_acc: 0.8910\n"
          ],
          "name": "stdout"
        }
      ]
    },
    {
      "metadata": {
        "id": "gYmvhQnsRUar",
        "colab_type": "text"
      },
      "cell_type": "markdown",
      "source": [
        "### Displaying loss and accuracy during training"
      ]
    },
    {
      "metadata": {
        "id": "5_EkF9t3RZZ9",
        "colab_type": "code",
        "outputId": "36ad7a41-c3ef-4c84-8cf4-d24b2c1f0864",
        "colab": {
          "base_uri": "https://localhost:8080/",
          "height": 545
        }
      },
      "cell_type": "code",
      "source": [
        "%matplotlib inline\n",
        "\n",
        "import matplotlib.pyplot as plt\n",
        "\n",
        "acc = history.history['acc']\n",
        "val_acc = history.history['val_acc']\n",
        "\n",
        "loss = history.history['loss']\n",
        "val_loss = history.history['val_loss']\n",
        "\n",
        "epochs = range(1, len(acc) + 1)\n",
        "\n",
        "# training and validation accuracy\n",
        "\n",
        "plt.plot(epochs, acc, 'b', label='training acc')\n",
        "plt.plot(epochs, val_acc, 'r', label='validation acc')\n",
        "plt.title('training and validation accuracy')\n",
        "plt.legend()\n",
        "\n",
        "plt.figure()\n",
        "\n",
        "# training and validation loss\n",
        "\n",
        "plt.plot(epochs, loss, 'b', label='training loss')\n",
        "plt.plot(epochs, val_loss, 'r', label='validation loss')\n",
        "plt.title('training and validation loss')\n",
        "plt.legend()\n",
        "\n",
        "plt.show()"
      ],
      "execution_count": 7,
      "outputs": [
        {
          "output_type": "display_data",
          "data": {
            "image/png": "[encoded data removed]",
            "text/plain": [
              "<Figure size 432x288 with 1 Axes>"
            ]
          },
          "metadata": {
            "tags": []
          }
        },
        {
          "output_type": "display_data",
          "data": {
            "image/png": "[encoded data removed]",
            "text/plain": [
              "<Figure size 432x288 with 1 Axes>"
            ]
          },
          "metadata": {
            "tags": []
          }
        }
      ]
    },
    {
      "metadata": {
        "id": "ucwqbJvRDUO9",
        "colab_type": "text"
      },
      "cell_type": "markdown",
      "source": [
        "### Fine Tuning"
      ]
    },
    {
      "metadata": {
        "id": "ctofi5UZDW95",
        "colab_type": "code",
        "colab": {}
      },
      "cell_type": "code",
      "source": [
        "conv_base.trainable = True\n",
        "\n",
        "set_trainable = False\n",
        "for layer in conv_base.layers:\n",
        "  if layer.name == 'block5_conv1':\n",
        "    set_trainable = True\n",
        "  if set_trainable:\n",
        "    layer.trainable = True\n",
        "  else:\n",
        "    layer.trainable = False"
      ],
      "execution_count": 0,
      "outputs": []
    },
    {
      "metadata": {
        "id": "Zkj5a0iUDack",
        "colab_type": "text"
      },
      "cell_type": "markdown",
      "source": [
        "### Training model with fine tuning"
      ]
    },
    {
      "metadata": {
        "id": "eyXmt1RHDd8b",
        "colab_type": "code",
        "outputId": "1accf351-229f-4f9f-a4e7-dc63303b9789",
        "colab": {
          "base_uri": "https://localhost:8080/",
          "height": 3537
        }
      },
      "cell_type": "code",
      "source": [
        "# compile model\n",
        "\n",
        "model.compile(\n",
        "    loss='binary_crossentropy',\n",
        "    optimizer=optimizers.RMSprop(lr=1e-5), \n",
        "    metrics=['acc'])\n",
        "\n",
        "# train\n",
        "\n",
        "history = model.fit_generator(\n",
        "    train_generator,\n",
        "    steps_per_epoch=100,\n",
        "    epochs=100,\n",
        "    validation_data=validation_generator,\n",
        "    validation_steps=50)"
      ],
      "execution_count": 9,
      "outputs": [
        {
          "output_type": "stream",
          "text": [
            "Epoch 1/100\n",
            "100/100 [==============================] - 21s 215ms/step - loss: 0.1364 - acc: 0.9485 - val_loss: 0.3940 - val_acc: 0.8950\n",
            "Epoch 2/100\n",
            "100/100 [==============================] - 19s 190ms/step - loss: 0.1072 - acc: 0.9555 - val_loss: 0.3386 - val_acc: 0.8850\n",
            "Epoch 3/100\n",
            "100/100 [==============================] - 19s 186ms/step - loss: 0.0883 - acc: 0.9735 - val_loss: 0.2668 - val_acc: 0.9350\n",
            "Epoch 4/100\n",
            "100/100 [==============================] - 19s 187ms/step - loss: 0.0714 - acc: 0.9715 - val_loss: 0.3170 - val_acc: 0.9060\n",
            "Epoch 5/100\n",
            "100/100 [==============================] - 19s 190ms/step - loss: 0.0635 - acc: 0.9760 - val_loss: 0.2871 - val_acc: 0.9160\n",
            "Epoch 6/100\n",
            "100/100 [==============================] - 20s 197ms/step - loss: 0.0591 - acc: 0.9780 - val_loss: 0.3160 - val_acc: 0.9150\n",
            "Epoch 7/100\n",
            "100/100 [==============================] - 19s 187ms/step - loss: 0.0508 - acc: 0.9830 - val_loss: 0.2857 - val_acc: 0.9280\n",
            "Epoch 8/100\n",
            "100/100 [==============================] - 19s 192ms/step - loss: 0.0485 - acc: 0.9830 - val_loss: 0.2457 - val_acc: 0.9340\n",
            "Epoch 9/100\n",
            "100/100 [==============================] - 19s 187ms/step - loss: 0.0398 - acc: 0.9845 - val_loss: 0.3007 - val_acc: 0.9210\n",
            "Epoch 10/100\n",
            "100/100 [==============================] - 20s 200ms/step - loss: 0.0450 - acc: 0.9850 - val_loss: 0.2868 - val_acc: 0.9220\n",
            "Epoch 11/100\n",
            "100/100 [==============================] - 19s 187ms/step - loss: 0.0366 - acc: 0.9860 - val_loss: 0.3142 - val_acc: 0.9340\n",
            "Epoch 12/100\n",
            "100/100 [==============================] - 19s 187ms/step - loss: 0.0331 - acc: 0.9900 - val_loss: 0.3620 - val_acc: 0.9150\n",
            "Epoch 13/100\n",
            "100/100 [==============================] - 19s 186ms/step - loss: 0.0268 - acc: 0.9925 - val_loss: 0.3417 - val_acc: 0.9250\n",
            "Epoch 14/100\n",
            "100/100 [==============================] - 20s 200ms/step - loss: 0.0399 - acc: 0.9845 - val_loss: 0.2981 - val_acc: 0.9260\n",
            "Epoch 15/100\n",
            "100/100 [==============================] - 19s 188ms/step - loss: 0.0343 - acc: 0.9915 - val_loss: 0.3042 - val_acc: 0.9200\n",
            "Epoch 16/100\n",
            "100/100 [==============================] - 19s 186ms/step - loss: 0.0283 - acc: 0.9890 - val_loss: 0.3363 - val_acc: 0.9300\n",
            "Epoch 17/100\n",
            "100/100 [==============================] - 19s 187ms/step - loss: 0.0148 - acc: 0.9965 - val_loss: 0.3678 - val_acc: 0.9400\n",
            "Epoch 18/100\n",
            "100/100 [==============================] - 19s 193ms/step - loss: 0.0237 - acc: 0.9935 - val_loss: 0.3393 - val_acc: 0.9230\n",
            "Epoch 19/100\n",
            "100/100 [==============================] - 19s 189ms/step - loss: 0.0231 - acc: 0.9935 - val_loss: 0.3615 - val_acc: 0.9280\n",
            "Epoch 20/100\n",
            "100/100 [==============================] - 19s 186ms/step - loss: 0.0171 - acc: 0.9935 - val_loss: 0.4169 - val_acc: 0.9270\n",
            "Epoch 21/100\n",
            "100/100 [==============================] - 19s 186ms/step - loss: 0.0178 - acc: 0.9950 - val_loss: 0.2989 - val_acc: 0.9400\n",
            "Epoch 22/100\n",
            "100/100 [==============================] - 20s 202ms/step - loss: 0.0167 - acc: 0.9955 - val_loss: 0.3147 - val_acc: 0.9440\n",
            "Epoch 23/100\n",
            "100/100 [==============================] - 19s 194ms/step - loss: 0.0189 - acc: 0.9935 - val_loss: 0.4180 - val_acc: 0.9280\n",
            "Epoch 24/100\n",
            "100/100 [==============================] - 19s 194ms/step - loss: 0.0124 - acc: 0.9960 - val_loss: 0.3114 - val_acc: 0.9370\n",
            "Epoch 25/100\n",
            "100/100 [==============================] - 19s 187ms/step - loss: 0.0161 - acc: 0.9950 - val_loss: 0.3687 - val_acc: 0.9270\n",
            "Epoch 26/100\n",
            "100/100 [==============================] - 19s 187ms/step - loss: 0.0086 - acc: 0.9980 - val_loss: 0.3596 - val_acc: 0.9330\n",
            "Epoch 27/100\n",
            "100/100 [==============================] - 20s 198ms/step - loss: 0.0110 - acc: 0.9955 - val_loss: 0.4049 - val_acc: 0.9350\n",
            "Epoch 28/100\n",
            "100/100 [==============================] - 19s 187ms/step - loss: 0.0109 - acc: 0.9970 - val_loss: 0.4321 - val_acc: 0.9180\n",
            "Epoch 29/100\n",
            "100/100 [==============================] - 19s 187ms/step - loss: 0.0064 - acc: 0.9975 - val_loss: 0.3714 - val_acc: 0.9420\n",
            "Epoch 30/100\n",
            "100/100 [==============================] - 19s 186ms/step - loss: 0.0116 - acc: 0.9965 - val_loss: 0.4131 - val_acc: 0.9300\n",
            "Epoch 31/100\n",
            "100/100 [==============================] - 20s 200ms/step - loss: 0.0160 - acc: 0.9945 - val_loss: 0.3952 - val_acc: 0.9440\n",
            "Epoch 32/100\n",
            "100/100 [==============================] - 19s 187ms/step - loss: 0.0160 - acc: 0.9935 - val_loss: 0.3197 - val_acc: 0.9440\n",
            "Epoch 33/100\n",
            "100/100 [==============================] - 19s 187ms/step - loss: 0.0145 - acc: 0.9955 - val_loss: 0.4154 - val_acc: 0.9310\n",
            "Epoch 34/100\n",
            "100/100 [==============================] - 19s 186ms/step - loss: 0.0098 - acc: 0.9960 - val_loss: 0.3214 - val_acc: 0.9360\n",
            "Epoch 35/100\n",
            "100/100 [==============================] - 20s 196ms/step - loss: 0.0164 - acc: 0.9940 - val_loss: 0.4116 - val_acc: 0.9270\n",
            "Epoch 36/100\n",
            "100/100 [==============================] - 19s 188ms/step - loss: 0.0168 - acc: 0.9935 - val_loss: 0.4268 - val_acc: 0.9330\n",
            "Epoch 37/100\n",
            "100/100 [==============================] - 19s 186ms/step - loss: 0.0116 - acc: 0.9965 - val_loss: 0.3872 - val_acc: 0.9370\n",
            "Epoch 38/100\n",
            "100/100 [==============================] - 20s 201ms/step - loss: 0.0082 - acc: 0.9985 - val_loss: 0.4155 - val_acc: 0.9390\n",
            "Epoch 39/100\n",
            "100/100 [==============================] - 19s 190ms/step - loss: 0.0088 - acc: 0.9965 - val_loss: 0.3926 - val_acc: 0.9390\n",
            "Epoch 40/100\n",
            "100/100 [==============================] - 20s 198ms/step - loss: 0.0068 - acc: 0.9965 - val_loss: 0.4279 - val_acc: 0.9270\n",
            "Epoch 41/100\n",
            "100/100 [==============================] - 19s 187ms/step - loss: 0.0057 - acc: 0.9985 - val_loss: 0.4193 - val_acc: 0.9450\n",
            "Epoch 42/100\n",
            "100/100 [==============================] - 19s 186ms/step - loss: 0.0088 - acc: 0.9975 - val_loss: 0.3749 - val_acc: 0.9390\n",
            "Epoch 43/100\n",
            "100/100 [==============================] - 19s 188ms/step - loss: 0.0257 - acc: 0.9925 - val_loss: 0.4649 - val_acc: 0.9190\n",
            "Epoch 44/100\n",
            "100/100 [==============================] - 20s 197ms/step - loss: 0.0092 - acc: 0.9965 - val_loss: 0.3765 - val_acc: 0.9320\n",
            "Epoch 45/100\n",
            "100/100 [==============================] - 19s 186ms/step - loss: 0.0067 - acc: 0.9985 - val_loss: 0.4432 - val_acc: 0.9380\n",
            "Epoch 46/100\n",
            "100/100 [==============================] - 19s 187ms/step - loss: 0.0099 - acc: 0.9970 - val_loss: 0.4597 - val_acc: 0.9340\n",
            "Epoch 47/100\n",
            "100/100 [==============================] - 19s 186ms/step - loss: 0.0069 - acc: 0.9975 - val_loss: 0.3755 - val_acc: 0.9460\n",
            "Epoch 48/100\n",
            "100/100 [==============================] - 20s 201ms/step - loss: 0.0096 - acc: 0.9965 - val_loss: 0.6075 - val_acc: 0.9240\n",
            "Epoch 49/100\n",
            "100/100 [==============================] - 19s 187ms/step - loss: 0.0209 - acc: 0.9950 - val_loss: 0.4232 - val_acc: 0.9360\n",
            "Epoch 50/100\n",
            "100/100 [==============================] - 19s 187ms/step - loss: 0.0104 - acc: 0.9975 - val_loss: 0.4254 - val_acc: 0.9440\n",
            "Epoch 51/100\n",
            "100/100 [==============================] - 19s 187ms/step - loss: 0.0182 - acc: 0.9950 - val_loss: 0.5104 - val_acc: 0.9380\n",
            "Epoch 52/100\n",
            "100/100 [==============================] - 20s 199ms/step - loss: 0.0060 - acc: 0.9980 - val_loss: 0.4358 - val_acc: 0.9390\n",
            "Epoch 53/100\n",
            "100/100 [==============================] - 19s 187ms/step - loss: 0.0098 - acc: 0.9975 - val_loss: 0.4206 - val_acc: 0.9490\n",
            "Epoch 54/100\n",
            "100/100 [==============================] - 19s 194ms/step - loss: 0.0181 - acc: 0.9945 - val_loss: 0.4410 - val_acc: 0.9430\n",
            "Epoch 55/100\n",
            "100/100 [==============================] - 19s 189ms/step - loss: 0.0059 - acc: 0.9985 - val_loss: 0.4091 - val_acc: 0.9480\n",
            "Epoch 56/100\n",
            "100/100 [==============================] - 20s 202ms/step - loss: 0.0109 - acc: 0.9980 - val_loss: 0.3903 - val_acc: 0.9460\n",
            "Epoch 57/100\n",
            "100/100 [==============================] - 19s 188ms/step - loss: 0.0039 - acc: 0.9990 - val_loss: 0.4072 - val_acc: 0.9470\n",
            "Epoch 58/100\n",
            "100/100 [==============================] - 19s 187ms/step - loss: 0.0100 - acc: 0.9970 - val_loss: 0.4029 - val_acc: 0.9360\n",
            "Epoch 59/100\n",
            "100/100 [==============================] - 19s 189ms/step - loss: 0.0058 - acc: 0.9985 - val_loss: 0.7275 - val_acc: 0.8980\n",
            "Epoch 60/100\n",
            "100/100 [==============================] - 19s 189ms/step - loss: 0.0026 - acc: 0.9990 - val_loss: 0.4328 - val_acc: 0.9360\n",
            "Epoch 61/100\n",
            "100/100 [==============================] - 19s 193ms/step - loss: 0.0038 - acc: 0.9980 - val_loss: 0.4019 - val_acc: 0.9470\n",
            "Epoch 62/100\n",
            "100/100 [==============================] - 19s 187ms/step - loss: 0.0039 - acc: 0.9990 - val_loss: 0.4933 - val_acc: 0.9310\n",
            "Epoch 63/100\n",
            "100/100 [==============================] - 19s 187ms/step - loss: 0.0072 - acc: 0.9980 - val_loss: 0.3608 - val_acc: 0.9500\n",
            "Epoch 64/100\n",
            "100/100 [==============================] - 19s 188ms/step - loss: 0.0026 - acc: 0.9990 - val_loss: 0.3863 - val_acc: 0.9480\n",
            "Epoch 65/100\n",
            "100/100 [==============================] - 20s 199ms/step - loss: 0.0076 - acc: 0.9970 - val_loss: 0.5201 - val_acc: 0.9330\n",
            "Epoch 66/100\n",
            "100/100 [==============================] - 19s 187ms/step - loss: 0.0068 - acc: 0.9975 - val_loss: 0.4999 - val_acc: 0.9250\n",
            "Epoch 67/100\n",
            "100/100 [==============================] - 19s 186ms/step - loss: 0.0054 - acc: 0.9970 - val_loss: 0.4143 - val_acc: 0.9350\n",
            "Epoch 68/100\n",
            "100/100 [==============================] - 19s 188ms/step - loss: 0.0153 - acc: 0.9965 - val_loss: 0.4144 - val_acc: 0.9330\n",
            "Epoch 69/100\n",
            "100/100 [==============================] - 20s 199ms/step - loss: 0.0057 - acc: 0.9980 - val_loss: 0.3956 - val_acc: 0.9400\n",
            "Epoch 70/100\n",
            "100/100 [==============================] - 19s 187ms/step - loss: 0.0058 - acc: 0.9990 - val_loss: 0.4464 - val_acc: 0.9410\n",
            "Epoch 71/100\n",
            "100/100 [==============================] - 20s 197ms/step - loss: 0.0057 - acc: 0.9990 - val_loss: 0.5733 - val_acc: 0.9180\n",
            "Epoch 72/100\n",
            "100/100 [==============================] - 19s 193ms/step - loss: 0.0029 - acc: 0.9985 - val_loss: 0.4790 - val_acc: 0.9240\n",
            "Epoch 73/100\n",
            "100/100 [==============================] - 20s 199ms/step - loss: 0.0015 - acc: 0.9995 - val_loss: 0.4832 - val_acc: 0.9420\n",
            "Epoch 74/100\n",
            "100/100 [==============================] - 19s 187ms/step - loss: 0.0073 - acc: 0.9975 - val_loss: 0.7892 - val_acc: 0.9100\n",
            "Epoch 75/100\n",
            "100/100 [==============================] - 19s 188ms/step - loss: 0.0011 - acc: 0.9995 - val_loss: 0.4847 - val_acc: 0.9520\n",
            "Epoch 76/100\n",
            "100/100 [==============================] - 19s 187ms/step - loss: 0.0165 - acc: 0.9980 - val_loss: 0.5219 - val_acc: 0.9340\n",
            "Epoch 77/100\n",
            "100/100 [==============================] - 19s 192ms/step - loss: 0.0086 - acc: 0.9965 - val_loss: 0.6431 - val_acc: 0.9220\n",
            "Epoch 78/100\n",
            "100/100 [==============================] - 19s 190ms/step - loss: 0.0049 - acc: 0.9985 - val_loss: 0.6488 - val_acc: 0.9190\n",
            "Epoch 79/100\n",
            "100/100 [==============================] - 19s 187ms/step - loss: 5.3881e-04 - acc: 1.0000 - val_loss: 1.0428 - val_acc: 0.8940\n",
            "Epoch 80/100\n",
            "100/100 [==============================] - 19s 188ms/step - loss: 0.0056 - acc: 0.9990 - val_loss: 0.4805 - val_acc: 0.9260\n",
            "Epoch 81/100\n",
            "100/100 [==============================] - 19s 187ms/step - loss: 0.0106 - acc: 0.9985 - val_loss: 0.4662 - val_acc: 0.9390\n",
            "Epoch 82/100\n",
            "100/100 [==============================] - 20s 196ms/step - loss: 0.0051 - acc: 0.9990 - val_loss: 0.5124 - val_acc: 0.9360\n",
            "Epoch 83/100\n",
            "100/100 [==============================] - 19s 187ms/step - loss: 0.0064 - acc: 0.9985 - val_loss: 0.4664 - val_acc: 0.9400\n",
            "Epoch 84/100\n",
            "100/100 [==============================] - 19s 187ms/step - loss: 0.0112 - acc: 0.9980 - val_loss: 0.5179 - val_acc: 0.9330\n",
            "Epoch 85/100\n",
            "100/100 [==============================] - 19s 187ms/step - loss: 0.0027 - acc: 0.9990 - val_loss: 0.5631 - val_acc: 0.9340\n",
            "Epoch 86/100\n",
            "100/100 [==============================] - 20s 200ms/step - loss: 0.0092 - acc: 0.9980 - val_loss: 0.3415 - val_acc: 0.9520\n",
            "Epoch 87/100\n",
            "100/100 [==============================] - 20s 203ms/step - loss: 0.0071 - acc: 0.9985 - val_loss: 0.4695 - val_acc: 0.9360\n",
            "Epoch 88/100\n",
            "100/100 [==============================] - 19s 194ms/step - loss: 0.0234 - acc: 0.9970 - val_loss: 0.4026 - val_acc: 0.9500\n",
            "Epoch 89/100\n",
            "100/100 [==============================] - 19s 187ms/step - loss: 0.0039 - acc: 0.9985 - val_loss: 0.4922 - val_acc: 0.9390\n",
            "Epoch 90/100\n",
            "100/100 [==============================] - 20s 199ms/step - loss: 0.0091 - acc: 0.9990 - val_loss: 0.4872 - val_acc: 0.9390\n",
            "Epoch 91/100\n",
            "100/100 [==============================] - 19s 187ms/step - loss: 0.0029 - acc: 0.9985 - val_loss: 0.5075 - val_acc: 0.9370\n",
            "Epoch 92/100\n",
            "100/100 [==============================] - 19s 187ms/step - loss: 0.0066 - acc: 0.9980 - val_loss: 0.4680 - val_acc: 0.9460\n",
            "Epoch 93/100\n",
            "100/100 [==============================] - 19s 187ms/step - loss: 0.0054 - acc: 0.9990 - val_loss: 0.4567 - val_acc: 0.9480\n",
            "Epoch 94/100\n",
            "100/100 [==============================] - 20s 196ms/step - loss: 0.0102 - acc: 0.9975 - val_loss: 0.4554 - val_acc: 0.9380\n",
            "Epoch 95/100\n",
            "100/100 [==============================] - 19s 188ms/step - loss: 0.0018 - acc: 0.9995 - val_loss: 0.6133 - val_acc: 0.9350\n",
            "Epoch 96/100\n",
            "100/100 [==============================] - 19s 187ms/step - loss: 0.0056 - acc: 0.9980 - val_loss: 0.3695 - val_acc: 0.9450\n",
            "Epoch 97/100\n",
            "100/100 [==============================] - 19s 189ms/step - loss: 0.0054 - acc: 0.9985 - val_loss: 0.5415 - val_acc: 0.9410\n",
            "Epoch 98/100\n",
            "100/100 [==============================] - 19s 190ms/step - loss: 0.0019 - acc: 0.9995 - val_loss: 0.4985 - val_acc: 0.9330\n",
            "Epoch 99/100\n",
            "100/100 [==============================] - 19s 193ms/step - loss: 0.0039 - acc: 0.9980 - val_loss: 0.4930 - val_acc: 0.9420\n",
            "Epoch 100/100\n",
            "100/100 [==============================] - 19s 189ms/step - loss: 0.0034 - acc: 0.9990 - val_loss: 0.5253 - val_acc: 0.9370\n"
          ],
          "name": "stdout"
        }
      ]
    },
    {
      "metadata": {
        "id": "ELAQM9DnDksT",
        "colab_type": "text"
      },
      "cell_type": "markdown",
      "source": [
        "### Displaying training and validation curves with fine tuning"
      ]
    },
    {
      "metadata": {
        "id": "hkdJwGMjDsXE",
        "colab_type": "code",
        "outputId": "fb27cb1a-97b0-496f-ec59-4e5b7d35af6b",
        "colab": {
          "base_uri": "https://localhost:8080/",
          "height": 545
        }
      },
      "cell_type": "code",
      "source": [
        "%matplotlib inline\n",
        "\n",
        "import matplotlib.pyplot as plt\n",
        "\n",
        "acc = history.history['acc']\n",
        "val_acc = history.history['val_acc']\n",
        "\n",
        "loss = history.history['loss']\n",
        "val_loss = history.history['val_loss']\n",
        "\n",
        "epochs = range(1, len(acc) + 1)\n",
        "\n",
        "# training and validation accuracy\n",
        "\n",
        "plt.plot(epochs, acc, 'b', label='training acc')\n",
        "plt.plot(epochs, val_acc, 'r', label='validation acc')\n",
        "plt.title('training and validation accuracy')\n",
        "plt.legend()\n",
        "\n",
        "plt.figure()\n",
        "\n",
        "# training and validation loss\n",
        "\n",
        "plt.plot(epochs, loss, 'b', label='training loss')\n",
        "plt.plot(epochs, val_loss, 'r', label='validation loss')\n",
        "plt.title('training and validation loss')\n",
        "plt.legend()\n",
        "\n",
        "plt.show()"
      ],
      "execution_count": 10,
      "outputs": [
        {
          "output_type": "display_data",
          "data": {
            "image/png": "[encoded data removed]",
            "text/plain": [
              "<Figure size 432x288 with 1 Axes>"
            ]
          },
          "metadata": {
            "tags": []
          }
        },
        {
          "output_type": "display_data",
          "data": {
            "image/png": "[encoded data removed]",
            "text/plain": [
              "<Figure size 432x288 with 1 Axes>"
            ]
          },
          "metadata": {
            "tags": []
          }
        }
      ]
    },
    {
      "metadata": {
        "id": "FIogJFaOR0FD",
        "colab_type": "text"
      },
      "cell_type": "markdown",
      "source": [
        "### Evaluating on the Validation dataset"
      ]
    },
    {
      "metadata": {
        "id": "e3fvliojR4U8",
        "colab_type": "code",
        "outputId": "21c68a57-2dd6-4bf3-cf18-fd696f43aabc",
        "colab": {
          "base_uri": "https://localhost:8080/",
          "height": 52
        }
      },
      "cell_type": "code",
      "source": [
        "val_loss, val_acc = model.evaluate_generator(validation_generator, steps=50)\n",
        "print(\"Validation loss:\", val_loss)\n",
        "print(\"Validation accuracy:\", val_acc)"
      ],
      "execution_count": 11,
      "outputs": [
        {
          "output_type": "stream",
          "text": [
            "Validation loss: 0.4199028706917417\n",
            "Validation accuracy: 0.9399999964237213\n"
          ],
          "name": "stdout"
        }
      ]
    },
    {
      "metadata": {
        "id": "uL_2DeNFBgbw",
        "colab_type": "text"
      },
      "cell_type": "markdown",
      "source": [
        "### Saving the model"
      ]
    },
    {
      "metadata": {
        "id": "Ea7Ai3dWBjKC",
        "colab_type": "code",
        "colab": {}
      },
      "cell_type": "code",
      "source": [
        "model_fname = 'cats_and_dogs_small_4.h5' \n",
        "model.save(model_fname)"
      ],
      "execution_count": 0,
      "outputs": []
    }
  ]
}