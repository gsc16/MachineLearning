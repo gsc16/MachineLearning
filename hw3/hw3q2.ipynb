{
  "nbformat": 4,
  "nbformat_minor": 0,
  "metadata": {
    "colab": {
      "name": "hw3q2.ipynb",
      "version": "0.3.2",
      "provenance": [],
      "collapsed_sections": [],
      "include_colab_link": true
    },
    "kernelspec": {
      "name": "python3",
      "display_name": "Python 3"
    },
    "accelerator": "GPU"
  },
  "cells": [
    {
      "cell_type": "markdown",
      "metadata": {
        "id": "view-in-github",
        "colab_type": "text"
      },
      "source": [
        "<a href=\"https://colab.research.google.com/github/gsc16/MachineLearning/blob/master/hw3/hw3q2.ipynb\" target=\"_parent\"><img src=\"https://colab.research.google.com/assets/colab-badge.svg\" alt=\"Open In Colab\"/></a>"
      ]
    },
    {
      "metadata": {
        "id": "JQLrjOzvQCf6",
        "colab_type": "text"
      },
      "cell_type": "markdown",
      "source": [
        "### Downloading data"
      ]
    },
    {
      "metadata": {
        "id": "AAbFgg4aV4h1",
        "colab_type": "text"
      },
      "cell_type": "markdown",
      "source": [
        "I have run the model with learning rate 0.00005 and I could achieve a maximum validation accuracy of 90.70%, after running for 100 epochs. After fine tuning the model, and running with a learning rate of 0.00002, I could achieve a maximum accuracy of 94.20%. With learning rate of 0.00001 after fine tuning, I could achieve a maximum accuracy fo 95.40%."
      ]
    },
    {
      "metadata": {
        "id": "reU7PX7NP7vu",
        "colab_type": "code",
        "outputId": "3d3a6440-2483-4848-935f-1eacc3a4be2f",
        "colab": {
          "base_uri": "https://localhost:8080/",
          "height": 210
        }
      },
      "cell_type": "code",
      "source": [
        "!wget --no-check-certificate \\\n",
        "    https://storage.googleapis.com/mledu-datasets/cats_and_dogs_filtered.zip \\\n",
        "    -O /tmp/cats_and_dogs_filtered.zip"
      ],
      "execution_count": 1,
      "outputs": [
        {
          "output_type": "stream",
          "text": [
            "--2019-04-16 03:17:16--  https://storage.googleapis.com/mledu-datasets/cats_and_dogs_filtered.zip\n",
            "Resolving storage.googleapis.com (storage.googleapis.com)... 74.125.197.128, 2607:f8b0:400e:c07::80\n",
            "Connecting to storage.googleapis.com (storage.googleapis.com)|74.125.197.128|:443... connected.\n",
            "HTTP request sent, awaiting response... 200 OK\n",
            "Length: 68606236 (65M) [application/zip]\n",
            "Saving to: ‘/tmp/cats_and_dogs_filtered.zip’\n",
            "\n",
            "/tmp/cats_and_dogs_ 100%[===================>]  65.43M  79.0MB/s    in 0.8s    \n",
            "\n",
            "2019-04-16 03:17:17 (79.0 MB/s) - ‘/tmp/cats_and_dogs_filtered.zip’ saved [68606236/68606236]\n",
            "\n"
          ],
          "name": "stdout"
        }
      ]
    },
    {
      "metadata": {
        "id": "xrYTtxQRQP5j",
        "colab_type": "text"
      },
      "cell_type": "markdown",
      "source": [
        "### Extracting images and splitting data into training and test data sets"
      ]
    },
    {
      "metadata": {
        "id": "UdzOmrVLQLP4",
        "colab_type": "code",
        "colab": {}
      },
      "cell_type": "code",
      "source": [
        "import os\n",
        "import zipfile\n",
        "\n",
        "local_zip = '/tmp/cats_and_dogs_filtered.zip'\n",
        "zip_ref = zipfile.ZipFile(local_zip, 'r')\n",
        "zip_ref.extractall('/tmp')\n",
        "zip_ref.close()"
      ],
      "execution_count": 0,
      "outputs": []
    },
    {
      "metadata": {
        "id": "lvF7gPGyQL1v",
        "colab_type": "code",
        "colab": {}
      },
      "cell_type": "code",
      "source": [
        "base_dir = '/tmp/cats_and_dogs_filtered'\n",
        "train_dir = os.path.join(base_dir, 'train')\n",
        "validation_dir = os.path.join(base_dir, 'validation')\n",
        "\n",
        "# Directory with our training cat pictures\n",
        "train_cats_dir = os.path.join(train_dir, 'cats')\n",
        "\n",
        "# Directory with our training dog pictures\n",
        "train_dogs_dir = os.path.join(train_dir, 'dogs')\n",
        "\n",
        "# Directory with our validation cat pictures\n",
        "validation_cats_dir = os.path.join(validation_dir, 'cats')\n",
        "\n",
        "# Directory with our validation dog pictures\n",
        "validation_dogs_dir = os.path.join(validation_dir, 'dogs')"
      ],
      "execution_count": 0,
      "outputs": []
    },
    {
      "metadata": {
        "id": "E-BHtPj_QXLQ",
        "colab_type": "text"
      },
      "cell_type": "markdown",
      "source": [
        "### Building the model with VGG19 convolutional base"
      ]
    },
    {
      "metadata": {
        "id": "u5jWEC7jQoY5",
        "colab_type": "text"
      },
      "cell_type": "markdown",
      "source": [
        "#### Loading VGG19 convolutional base and freezing it"
      ]
    },
    {
      "metadata": {
        "id": "-IjygBCdQgZL",
        "colab_type": "code",
        "colab": {
          "base_uri": "https://localhost:8080/",
          "height": 142
        },
        "outputId": "db8bb8ad-3751-4fb5-9ac1-4620c23b4539"
      },
      "cell_type": "code",
      "source": [
        "from keras.applications import VGG19\n",
        "\n",
        "conv_base = VGG19(\n",
        "    weights='imagenet', \n",
        "    include_top=False, \n",
        "    input_shape=(150, 150, 3))\n",
        "\n",
        "conv_base.trainable = False"
      ],
      "execution_count": 4,
      "outputs": [
        {
          "output_type": "stream",
          "text": [
            "Using TensorFlow backend.\n"
          ],
          "name": "stderr"
        },
        {
          "output_type": "stream",
          "text": [
            "WARNING:tensorflow:From /usr/local/lib/python3.6/dist-packages/tensorflow/python/framework/op_def_library.py:263: colocate_with (from tensorflow.python.framework.ops) is deprecated and will be removed in a future version.\n",
            "Instructions for updating:\n",
            "Colocations handled automatically by placer.\n",
            "Downloading data from https://github.com/fchollet/deep-learning-models/releases/download/v0.1/vgg19_weights_tf_dim_ordering_tf_kernels_notop.h5\n",
            "80142336/80134624 [==============================] - 5s 0us/step\n"
          ],
          "name": "stdout"
        }
      ]
    },
    {
      "metadata": {
        "id": "oJSRqWlZQ07R",
        "colab_type": "text"
      },
      "cell_type": "markdown",
      "source": [
        "#### Adding densely connected layers to the convolutional base"
      ]
    },
    {
      "metadata": {
        "id": "MJUOPzauQ8Tw",
        "colab_type": "code",
        "colab": {
          "base_uri": "https://localhost:8080/",
          "height": 281
        },
        "outputId": "52971d91-d95e-46a0-d5ef-e2725d283b0b"
      },
      "cell_type": "code",
      "source": [
        "from keras import layers\n",
        "from keras import models\n",
        "from keras import optimizers\n",
        "\n",
        "model = models.Sequential()\n",
        "model.add(conv_base)\n",
        "model.add(layers.Flatten())\n",
        "model.add(layers.Dense(256, activation='relu'))\n",
        "# no dropout\n",
        "model.add(layers.Dense(1, activation='sigmoid'))\n",
        "\n",
        "model.summary()"
      ],
      "execution_count": 5,
      "outputs": [
        {
          "output_type": "stream",
          "text": [
            "_________________________________________________________________\n",
            "Layer (type)                 Output Shape              Param #   \n",
            "=================================================================\n",
            "vgg19 (Model)                (None, 4, 4, 512)         20024384  \n",
            "_________________________________________________________________\n",
            "flatten_1 (Flatten)          (None, 8192)              0         \n",
            "_________________________________________________________________\n",
            "dense_1 (Dense)              (None, 256)               2097408   \n",
            "_________________________________________________________________\n",
            "dense_2 (Dense)              (None, 1)                 257       \n",
            "=================================================================\n",
            "Total params: 22,122,049\n",
            "Trainable params: 2,097,665\n",
            "Non-trainable params: 20,024,384\n",
            "_________________________________________________________________\n"
          ],
          "name": "stdout"
        }
      ]
    },
    {
      "metadata": {
        "id": "UXA7hL6MRB9s",
        "colab_type": "text"
      },
      "cell_type": "markdown",
      "source": [
        "### Training the model"
      ]
    },
    {
      "metadata": {
        "id": "-TvQPmupRIBj",
        "colab_type": "code",
        "outputId": "8265e250-17f4-4887-c465-5e679d02cc97",
        "colab": {
          "base_uri": "https://localhost:8080/",
          "height": 3645
        }
      },
      "cell_type": "code",
      "source": [
        "from keras.preprocessing.image import ImageDataGenerator\n",
        "from keras import optimizers\n",
        "\n",
        "# data augmentation\n",
        "\n",
        "train_datagen = ImageDataGenerator(\n",
        "    rescale=1./255, \n",
        "    zca_epsilon=1e-06,\n",
        "    rotation_range=0,\n",
        "    width_shift_range=0.1,\n",
        "    height_shift_range=0.1,\n",
        "    shear_range=0.2,\n",
        "    zoom_range=0.2,\n",
        "    horizontal_flip=True,\n",
        "    fill_mode='nearest'\n",
        ")\n",
        "\n",
        "train_generator = train_datagen.flow_from_directory(\n",
        "    train_dir,\n",
        "    target_size=(150, 150),\n",
        "    batch_size=20,\n",
        "    class_mode='binary')\n",
        "\n",
        "validation_datagen = ImageDataGenerator(rescale=1./255)\n",
        "\n",
        "validation_generator = validation_datagen.flow_from_directory(\n",
        "    validation_dir,\n",
        "    target_size=(150, 150),\n",
        "    batch_size=20,\n",
        "    class_mode='binary')\n",
        "\n",
        "# compile model\n",
        "\n",
        "model.compile(\n",
        "    loss='binary_crossentropy', \n",
        "    optimizer=optimizers.RMSprop(lr=0.00005), \n",
        "    metrics=['acc'])\n",
        "\n",
        "# train\n",
        "\n",
        "history = model.fit_generator(\n",
        "    train_generator,\n",
        "    steps_per_epoch=100,\n",
        "    epochs=100,\n",
        "    validation_data=validation_generator,\n",
        "    validation_steps=50,\n",
        ")"
      ],
      "execution_count": 6,
      "outputs": [
        {
          "output_type": "stream",
          "text": [
            "Found 2000 images belonging to 2 classes.\n",
            "Found 1000 images belonging to 2 classes.\n",
            "WARNING:tensorflow:From /usr/local/lib/python3.6/dist-packages/tensorflow/python/ops/math_ops.py:3066: to_int32 (from tensorflow.python.ops.math_ops) is deprecated and will be removed in a future version.\n",
            "Instructions for updating:\n",
            "Use tf.cast instead.\n",
            "Epoch 1/100\n",
            "100/100 [==============================] - 23s 230ms/step - loss: 0.5003 - acc: 0.7575 - val_loss: 0.3935 - val_acc: 0.8130\n",
            "Epoch 2/100\n",
            "100/100 [==============================] - 18s 177ms/step - loss: 0.3867 - acc: 0.8220 - val_loss: 0.3868 - val_acc: 0.8130\n",
            "Epoch 3/100\n",
            "100/100 [==============================] - 18s 178ms/step - loss: 0.3491 - acc: 0.8495 - val_loss: 0.3701 - val_acc: 0.8370\n",
            "Epoch 4/100\n",
            "100/100 [==============================] - 19s 186ms/step - loss: 0.3207 - acc: 0.8640 - val_loss: 0.2842 - val_acc: 0.8850\n",
            "Epoch 5/100\n",
            "100/100 [==============================] - 18s 179ms/step - loss: 0.2963 - acc: 0.8785 - val_loss: 0.2717 - val_acc: 0.8790\n",
            "Epoch 6/100\n",
            "100/100 [==============================] - 19s 192ms/step - loss: 0.2971 - acc: 0.8710 - val_loss: 0.2877 - val_acc: 0.8770\n",
            "Epoch 7/100\n",
            "100/100 [==============================] - 18s 180ms/step - loss: 0.2807 - acc: 0.8750 - val_loss: 0.2568 - val_acc: 0.8860\n",
            "Epoch 8/100\n",
            "100/100 [==============================] - 18s 179ms/step - loss: 0.2623 - acc: 0.8850 - val_loss: 0.2558 - val_acc: 0.8880\n",
            "Epoch 9/100\n",
            "100/100 [==============================] - 19s 187ms/step - loss: 0.2777 - acc: 0.8815 - val_loss: 0.3854 - val_acc: 0.8360\n",
            "Epoch 10/100\n",
            "100/100 [==============================] - 18s 178ms/step - loss: 0.2555 - acc: 0.8870 - val_loss: 0.2829 - val_acc: 0.8870\n",
            "Epoch 11/100\n",
            "100/100 [==============================] - 18s 178ms/step - loss: 0.2487 - acc: 0.9055 - val_loss: 0.2492 - val_acc: 0.8940\n",
            "Epoch 12/100\n",
            "100/100 [==============================] - 19s 185ms/step - loss: 0.2358 - acc: 0.8985 - val_loss: 0.2581 - val_acc: 0.8890\n",
            "Epoch 13/100\n",
            "100/100 [==============================] - 19s 191ms/step - loss: 0.2409 - acc: 0.8980 - val_loss: 0.2483 - val_acc: 0.8900\n",
            "Epoch 14/100\n",
            "100/100 [==============================] - 18s 178ms/step - loss: 0.2250 - acc: 0.9030 - val_loss: 0.2518 - val_acc: 0.8940\n",
            "Epoch 15/100\n",
            "100/100 [==============================] - 18s 179ms/step - loss: 0.2469 - acc: 0.8985 - val_loss: 0.2748 - val_acc: 0.8780\n",
            "Epoch 16/100\n",
            "100/100 [==============================] - 18s 178ms/step - loss: 0.2326 - acc: 0.8995 - val_loss: 0.2606 - val_acc: 0.8820\n",
            "Epoch 17/100\n",
            "100/100 [==============================] - 18s 181ms/step - loss: 0.2236 - acc: 0.9055 - val_loss: 0.2700 - val_acc: 0.8840\n",
            "Epoch 18/100\n",
            "100/100 [==============================] - 18s 184ms/step - loss: 0.2188 - acc: 0.9080 - val_loss: 0.2516 - val_acc: 0.8920\n",
            "Epoch 19/100\n",
            "100/100 [==============================] - 18s 178ms/step - loss: 0.2135 - acc: 0.9020 - val_loss: 0.2509 - val_acc: 0.8910\n",
            "Epoch 20/100\n",
            "100/100 [==============================] - 18s 179ms/step - loss: 0.2061 - acc: 0.9110 - val_loss: 0.2527 - val_acc: 0.8920\n",
            "Epoch 21/100\n",
            "100/100 [==============================] - 18s 176ms/step - loss: 0.2075 - acc: 0.9125 - val_loss: 0.2495 - val_acc: 0.8880\n",
            "Epoch 22/100\n",
            "100/100 [==============================] - 19s 189ms/step - loss: 0.2131 - acc: 0.9060 - val_loss: 0.2644 - val_acc: 0.8860\n",
            "Epoch 23/100\n",
            "100/100 [==============================] - 19s 188ms/step - loss: 0.2008 - acc: 0.9215 - val_loss: 0.2491 - val_acc: 0.8960\n",
            "Epoch 24/100\n",
            "100/100 [==============================] - 18s 177ms/step - loss: 0.2113 - acc: 0.9150 - val_loss: 0.2936 - val_acc: 0.8780\n",
            "Epoch 25/100\n",
            "100/100 [==============================] - 18s 177ms/step - loss: 0.1922 - acc: 0.9190 - val_loss: 0.2761 - val_acc: 0.8760\n",
            "Epoch 26/100\n",
            "100/100 [==============================] - 18s 181ms/step - loss: 0.1881 - acc: 0.9240 - val_loss: 0.2608 - val_acc: 0.8870\n",
            "Epoch 27/100\n",
            "100/100 [==============================] - 18s 180ms/step - loss: 0.2001 - acc: 0.9195 - val_loss: 0.2529 - val_acc: 0.8960\n",
            "Epoch 28/100\n",
            "100/100 [==============================] - 18s 176ms/step - loss: 0.1842 - acc: 0.9265 - val_loss: 0.2621 - val_acc: 0.8880\n",
            "Epoch 29/100\n",
            "100/100 [==============================] - 18s 181ms/step - loss: 0.1982 - acc: 0.9160 - val_loss: 0.3126 - val_acc: 0.8660\n",
            "Epoch 30/100\n",
            "100/100 [==============================] - 18s 175ms/step - loss: 0.1841 - acc: 0.9160 - val_loss: 0.2531 - val_acc: 0.8940\n",
            "Epoch 31/100\n",
            "100/100 [==============================] - 19s 187ms/step - loss: 0.1776 - acc: 0.9295 - val_loss: 0.2568 - val_acc: 0.8880\n",
            "Epoch 32/100\n",
            "100/100 [==============================] - 18s 176ms/step - loss: 0.1863 - acc: 0.9260 - val_loss: 0.2720 - val_acc: 0.8880\n",
            "Epoch 33/100\n",
            "100/100 [==============================] - 17s 175ms/step - loss: 0.1640 - acc: 0.9365 - val_loss: 0.3053 - val_acc: 0.8740\n",
            "Epoch 34/100\n",
            "100/100 [==============================] - 17s 175ms/step - loss: 0.1730 - acc: 0.9320 - val_loss: 0.3211 - val_acc: 0.8740\n",
            "Epoch 35/100\n",
            "100/100 [==============================] - 18s 180ms/step - loss: 0.1764 - acc: 0.9310 - val_loss: 0.2678 - val_acc: 0.8910\n",
            "Epoch 36/100\n",
            "100/100 [==============================] - 18s 179ms/step - loss: 0.1721 - acc: 0.9325 - val_loss: 0.2558 - val_acc: 0.9010\n",
            "Epoch 37/100\n",
            "100/100 [==============================] - 17s 174ms/step - loss: 0.1651 - acc: 0.9350 - val_loss: 0.2610 - val_acc: 0.8940\n",
            "Epoch 38/100\n",
            "100/100 [==============================] - 17s 174ms/step - loss: 0.1627 - acc: 0.9325 - val_loss: 0.2647 - val_acc: 0.8920\n",
            "Epoch 39/100\n",
            "100/100 [==============================] - 17s 175ms/step - loss: 0.1629 - acc: 0.9315 - val_loss: 0.2506 - val_acc: 0.9010\n",
            "Epoch 40/100\n",
            "100/100 [==============================] - 19s 191ms/step - loss: 0.1585 - acc: 0.9380 - val_loss: 0.3345 - val_acc: 0.8630\n",
            "Epoch 41/100\n",
            "100/100 [==============================] - 18s 181ms/step - loss: 0.1699 - acc: 0.9265 - val_loss: 0.2585 - val_acc: 0.8920\n",
            "Epoch 42/100\n",
            "100/100 [==============================] - 17s 174ms/step - loss: 0.1583 - acc: 0.9380 - val_loss: 0.2526 - val_acc: 0.9000\n",
            "Epoch 43/100\n",
            "100/100 [==============================] - 17s 173ms/step - loss: 0.1549 - acc: 0.9380 - val_loss: 0.2519 - val_acc: 0.9010\n",
            "Epoch 44/100\n",
            "100/100 [==============================] - 18s 178ms/step - loss: 0.1516 - acc: 0.9455 - val_loss: 0.2760 - val_acc: 0.8910\n",
            "Epoch 45/100\n",
            "100/100 [==============================] - 18s 179ms/step - loss: 0.1618 - acc: 0.9370 - val_loss: 0.2496 - val_acc: 0.8960\n",
            "Epoch 46/100\n",
            "100/100 [==============================] - 18s 182ms/step - loss: 0.1459 - acc: 0.9460 - val_loss: 0.2494 - val_acc: 0.8960\n",
            "Epoch 47/100\n",
            "100/100 [==============================] - 17s 174ms/step - loss: 0.1537 - acc: 0.9390 - val_loss: 0.2537 - val_acc: 0.9000\n",
            "Epoch 48/100\n",
            "100/100 [==============================] - 17s 174ms/step - loss: 0.1462 - acc: 0.9460 - val_loss: 0.2526 - val_acc: 0.8920\n",
            "Epoch 49/100\n",
            "100/100 [==============================] - 19s 186ms/step - loss: 0.1550 - acc: 0.9395 - val_loss: 0.2534 - val_acc: 0.8970\n",
            "Epoch 50/100\n",
            "100/100 [==============================] - 17s 174ms/step - loss: 0.1461 - acc: 0.9455 - val_loss: 0.2714 - val_acc: 0.8840\n",
            "Epoch 51/100\n",
            "100/100 [==============================] - 17s 174ms/step - loss: 0.1448 - acc: 0.9430 - val_loss: 0.2469 - val_acc: 0.9000\n",
            "Epoch 52/100\n",
            "100/100 [==============================] - 17s 174ms/step - loss: 0.1527 - acc: 0.9390 - val_loss: 0.2564 - val_acc: 0.9010\n",
            "Epoch 53/100\n",
            "100/100 [==============================] - 18s 177ms/step - loss: 0.1377 - acc: 0.9495 - val_loss: 0.2630 - val_acc: 0.8920\n",
            "Epoch 54/100\n",
            "100/100 [==============================] - 18s 181ms/step - loss: 0.1441 - acc: 0.9445 - val_loss: 0.2597 - val_acc: 0.9020\n",
            "Epoch 55/100\n",
            "100/100 [==============================] - 17s 173ms/step - loss: 0.1369 - acc: 0.9475 - val_loss: 0.2489 - val_acc: 0.8980\n",
            "Epoch 56/100\n",
            "100/100 [==============================] - 17s 175ms/step - loss: 0.1283 - acc: 0.9525 - val_loss: 0.3107 - val_acc: 0.8720\n",
            "Epoch 57/100\n",
            "100/100 [==============================] - 17s 174ms/step - loss: 0.1394 - acc: 0.9390 - val_loss: 0.2705 - val_acc: 0.8950\n",
            "Epoch 58/100\n",
            "100/100 [==============================] - 19s 190ms/step - loss: 0.1292 - acc: 0.9475 - val_loss: 0.2579 - val_acc: 0.8990\n",
            "Epoch 59/100\n",
            "100/100 [==============================] - 17s 174ms/step - loss: 0.1388 - acc: 0.9490 - val_loss: 0.2921 - val_acc: 0.8830\n",
            "Epoch 60/100\n",
            "100/100 [==============================] - 17s 173ms/step - loss: 0.1304 - acc: 0.9490 - val_loss: 0.2707 - val_acc: 0.8960\n",
            "Epoch 61/100\n",
            "100/100 [==============================] - 17s 174ms/step - loss: 0.1253 - acc: 0.9545 - val_loss: 0.2626 - val_acc: 0.8990\n",
            "Epoch 62/100\n",
            "100/100 [==============================] - 17s 174ms/step - loss: 0.1139 - acc: 0.9600 - val_loss: 0.2678 - val_acc: 0.8970\n",
            "Epoch 63/100\n",
            "100/100 [==============================] - 19s 189ms/step - loss: 0.1332 - acc: 0.9490 - val_loss: 0.2720 - val_acc: 0.8930\n",
            "Epoch 64/100\n",
            "100/100 [==============================] - 17s 174ms/step - loss: 0.1163 - acc: 0.9600 - val_loss: 0.2923 - val_acc: 0.8890\n",
            "Epoch 65/100\n",
            "100/100 [==============================] - 17s 174ms/step - loss: 0.1233 - acc: 0.9550 - val_loss: 0.2693 - val_acc: 0.8960\n",
            "Epoch 66/100\n",
            "100/100 [==============================] - 17s 174ms/step - loss: 0.1195 - acc: 0.9525 - val_loss: 0.2654 - val_acc: 0.8990\n",
            "Epoch 67/100\n",
            "100/100 [==============================] - 18s 185ms/step - loss: 0.1205 - acc: 0.9545 - val_loss: 0.2717 - val_acc: 0.8970\n",
            "Epoch 68/100\n",
            "100/100 [==============================] - 18s 175ms/step - loss: 0.1299 - acc: 0.9505 - val_loss: 0.2886 - val_acc: 0.8890\n",
            "Epoch 69/100\n",
            "100/100 [==============================] - 17s 174ms/step - loss: 0.1279 - acc: 0.9510 - val_loss: 0.2699 - val_acc: 0.9020\n",
            "Epoch 70/100\n",
            "100/100 [==============================] - 17s 174ms/step - loss: 0.1252 - acc: 0.9505 - val_loss: 0.2757 - val_acc: 0.8940\n",
            "Epoch 71/100\n",
            "100/100 [==============================] - 17s 174ms/step - loss: 0.1219 - acc: 0.9530 - val_loss: 0.2745 - val_acc: 0.8960\n",
            "Epoch 72/100\n",
            "100/100 [==============================] - 19s 186ms/step - loss: 0.1215 - acc: 0.9470 - val_loss: 0.2692 - val_acc: 0.8980\n",
            "Epoch 73/100\n",
            "100/100 [==============================] - 17s 174ms/step - loss: 0.1094 - acc: 0.9625 - val_loss: 0.3433 - val_acc: 0.8670\n",
            "Epoch 74/100\n",
            "100/100 [==============================] - 17s 173ms/step - loss: 0.1004 - acc: 0.9630 - val_loss: 0.2806 - val_acc: 0.8950\n",
            "Epoch 75/100\n",
            "100/100 [==============================] - 18s 175ms/step - loss: 0.1082 - acc: 0.9630 - val_loss: 0.2749 - val_acc: 0.8990\n",
            "Epoch 76/100\n",
            "100/100 [==============================] - 19s 194ms/step - loss: 0.1151 - acc: 0.9580 - val_loss: 0.2769 - val_acc: 0.9000\n",
            "Epoch 77/100\n",
            "100/100 [==============================] - 17s 175ms/step - loss: 0.1157 - acc: 0.9565 - val_loss: 0.2852 - val_acc: 0.8980\n",
            "Epoch 78/100\n",
            "100/100 [==============================] - 17s 174ms/step - loss: 0.1234 - acc: 0.9545 - val_loss: 0.2725 - val_acc: 0.8960\n",
            "Epoch 79/100\n",
            "100/100 [==============================] - 17s 174ms/step - loss: 0.1074 - acc: 0.9630 - val_loss: 0.2741 - val_acc: 0.8990\n",
            "Epoch 80/100\n",
            "100/100 [==============================] - 18s 180ms/step - loss: 0.1109 - acc: 0.9535 - val_loss: 0.2720 - val_acc: 0.9010\n",
            "Epoch 81/100\n",
            "100/100 [==============================] - 19s 186ms/step - loss: 0.1093 - acc: 0.9590 - val_loss: 0.2861 - val_acc: 0.8880\n",
            "Epoch 82/100\n",
            "100/100 [==============================] - 17s 174ms/step - loss: 0.1107 - acc: 0.9600 - val_loss: 0.3135 - val_acc: 0.8770\n",
            "Epoch 83/100\n",
            "100/100 [==============================] - 17s 174ms/step - loss: 0.1025 - acc: 0.9620 - val_loss: 0.2728 - val_acc: 0.8980\n",
            "Epoch 84/100\n",
            "100/100 [==============================] - 17s 174ms/step - loss: 0.1082 - acc: 0.9580 - val_loss: 0.2696 - val_acc: 0.8960\n",
            "Epoch 85/100\n",
            "100/100 [==============================] - 18s 182ms/step - loss: 0.1095 - acc: 0.9610 - val_loss: 0.2778 - val_acc: 0.9000\n",
            "Epoch 86/100\n",
            "100/100 [==============================] - 18s 176ms/step - loss: 0.1016 - acc: 0.9655 - val_loss: 0.2660 - val_acc: 0.8960\n",
            "Epoch 87/100\n",
            "100/100 [==============================] - 17s 174ms/step - loss: 0.1054 - acc: 0.9645 - val_loss: 0.3734 - val_acc: 0.8610\n",
            "Epoch 88/100\n",
            "100/100 [==============================] - 17s 174ms/step - loss: 0.0954 - acc: 0.9670 - val_loss: 0.2771 - val_acc: 0.8960\n",
            "Epoch 89/100\n",
            "100/100 [==============================] - 17s 174ms/step - loss: 0.0991 - acc: 0.9610 - val_loss: 0.2841 - val_acc: 0.8950\n",
            "Epoch 90/100\n",
            "100/100 [==============================] - 19s 188ms/step - loss: 0.0971 - acc: 0.9655 - val_loss: 0.2720 - val_acc: 0.8990\n",
            "Epoch 91/100\n",
            "100/100 [==============================] - 17s 174ms/step - loss: 0.0939 - acc: 0.9625 - val_loss: 0.2767 - val_acc: 0.8970\n",
            "Epoch 92/100\n",
            "100/100 [==============================] - 17s 173ms/step - loss: 0.0877 - acc: 0.9675 - val_loss: 0.2767 - val_acc: 0.8980\n",
            "Epoch 93/100\n",
            "100/100 [==============================] - 19s 188ms/step - loss: 0.0967 - acc: 0.9630 - val_loss: 0.2855 - val_acc: 0.9000\n",
            "Epoch 94/100\n",
            "100/100 [==============================] - 18s 181ms/step - loss: 0.0943 - acc: 0.9680 - val_loss: 0.2845 - val_acc: 0.8930\n",
            "Epoch 95/100\n",
            "100/100 [==============================] - 18s 176ms/step - loss: 0.0892 - acc: 0.9670 - val_loss: 0.2786 - val_acc: 0.8990\n",
            "Epoch 96/100\n",
            "100/100 [==============================] - 17s 174ms/step - loss: 0.1004 - acc: 0.9655 - val_loss: 0.2932 - val_acc: 0.8890\n",
            "Epoch 97/100\n",
            "100/100 [==============================] - 18s 176ms/step - loss: 0.0973 - acc: 0.9635 - val_loss: 0.2746 - val_acc: 0.8940\n",
            "Epoch 98/100\n",
            "100/100 [==============================] - 18s 176ms/step - loss: 0.0920 - acc: 0.9655 - val_loss: 0.2774 - val_acc: 0.8990\n",
            "Epoch 99/100\n",
            "100/100 [==============================] - 19s 186ms/step - loss: 0.0912 - acc: 0.9665 - val_loss: 0.2780 - val_acc: 0.8960\n",
            "Epoch 100/100\n",
            "100/100 [==============================] - 17s 175ms/step - loss: 0.0888 - acc: 0.9665 - val_loss: 0.2923 - val_acc: 0.8910\n"
          ],
          "name": "stdout"
        }
      ]
    },
    {
      "metadata": {
        "id": "gYmvhQnsRUar",
        "colab_type": "text"
      },
      "cell_type": "markdown",
      "source": [
        "### Displaying loss and accuracy during training"
      ]
    },
    {
      "metadata": {
        "id": "5_EkF9t3RZZ9",
        "colab_type": "code",
        "outputId": "e90e00a2-fb04-4d86-e91f-e84f40f138cb",
        "colab": {
          "base_uri": "https://localhost:8080/",
          "height": 545
        }
      },
      "cell_type": "code",
      "source": [
        "%matplotlib inline\n",
        "\n",
        "import matplotlib.pyplot as plt\n",
        "\n",
        "acc = history.history['acc']\n",
        "val_acc = history.history['val_acc']\n",
        "\n",
        "loss = history.history['loss']\n",
        "val_loss = history.history['val_loss']\n",
        "\n",
        "epochs = range(1, len(acc) + 1)\n",
        "\n",
        "# training and validation accuracy\n",
        "\n",
        "plt.plot(epochs, acc, 'b', label='training acc')\n",
        "plt.plot(epochs, val_acc, 'r', label='validation acc')\n",
        "plt.title('training and validation accuracy')\n",
        "plt.legend()\n",
        "\n",
        "plt.figure()\n",
        "\n",
        "# training and validation loss\n",
        "\n",
        "plt.plot(epochs, loss, 'b', label='training loss')\n",
        "plt.plot(epochs, val_loss, 'r', label='validation loss')\n",
        "plt.title('training and validation loss')\n",
        "plt.legend()\n",
        "\n",
        "plt.show()"
      ],
      "execution_count": 7,
      "outputs": [
        {
          "output_type": "display_data",
          "data": {
            "image/png": "[encoded data removed]",
            "text/plain": [
              "<Figure size 432x288 with 1 Axes>"
            ]
          },
          "metadata": {
            "tags": []
          }
        },
        {
          "output_type": "display_data",
          "data": {
            "image/png": "[encoded data removed]",
            "text/plain": [
              "<Figure size 432x288 with 1 Axes>"
            ]
          },
          "metadata": {
            "tags": []
          }
        }
      ]
    },
    {
      "metadata": {
        "id": "ucwqbJvRDUO9",
        "colab_type": "text"
      },
      "cell_type": "markdown",
      "source": [
        "### Fine Tuning"
      ]
    },
    {
      "metadata": {
        "id": "ctofi5UZDW95",
        "colab_type": "code",
        "colab": {}
      },
      "cell_type": "code",
      "source": [
        "conv_base.trainable = True\n",
        "\n",
        "set_trainable = False\n",
        "for layer in conv_base.layers:\n",
        "  if layer.name == 'block5_conv1':\n",
        "    set_trainable = True\n",
        "  if set_trainable:\n",
        "    layer.trainable = True\n",
        "  else:\n",
        "    layer.trainable = False"
      ],
      "execution_count": 0,
      "outputs": []
    },
    {
      "metadata": {
        "id": "Zkj5a0iUDack",
        "colab_type": "text"
      },
      "cell_type": "markdown",
      "source": [
        "### Training model with fine tuning"
      ]
    },
    {
      "metadata": {
        "id": "eyXmt1RHDd8b",
        "colab_type": "code",
        "colab": {
          "base_uri": "https://localhost:8080/",
          "height": 3537
        },
        "outputId": "e6c0823b-1949-4c2a-f0ea-abe21925c9f3"
      },
      "cell_type": "code",
      "source": [
        "# compile model\n",
        "\n",
        "model.compile(\n",
        "    loss='binary_crossentropy',\n",
        "    optimizer=optimizers.RMSprop(lr=1e-5), \n",
        "    metrics=['acc'])\n",
        "\n",
        "# train\n",
        "\n",
        "history = model.fit_generator(\n",
        "    train_generator,\n",
        "    steps_per_epoch=100,\n",
        "    epochs=100,\n",
        "    validation_data=validation_generator,\n",
        "    validation_steps=50)"
      ],
      "execution_count": 9,
      "outputs": [
        {
          "output_type": "stream",
          "text": [
            "Epoch 1/100\n",
            "100/100 [==============================] - 20s 204ms/step - loss: 0.1193 - acc: 0.9555 - val_loss: 0.3418 - val_acc: 0.8880\n",
            "Epoch 2/100\n",
            "100/100 [==============================] - 18s 182ms/step - loss: 0.0962 - acc: 0.9635 - val_loss: 0.3187 - val_acc: 0.8990\n",
            "Epoch 3/100\n",
            "100/100 [==============================] - 19s 194ms/step - loss: 0.0781 - acc: 0.9720 - val_loss: 0.2486 - val_acc: 0.9190\n",
            "Epoch 4/100\n",
            "100/100 [==============================] - 18s 182ms/step - loss: 0.0729 - acc: 0.9705 - val_loss: 0.2691 - val_acc: 0.9140\n",
            "Epoch 5/100\n",
            "100/100 [==============================] - 18s 182ms/step - loss: 0.0562 - acc: 0.9780 - val_loss: 0.2701 - val_acc: 0.9150\n",
            "Epoch 6/100\n",
            "100/100 [==============================] - 18s 182ms/step - loss: 0.0535 - acc: 0.9810 - val_loss: 0.3597 - val_acc: 0.8980\n",
            "Epoch 7/100\n",
            "100/100 [==============================] - 18s 185ms/step - loss: 0.0408 - acc: 0.9865 - val_loss: 0.2722 - val_acc: 0.9140\n",
            "Epoch 8/100\n",
            "100/100 [==============================] - 19s 188ms/step - loss: 0.0427 - acc: 0.9865 - val_loss: 0.2262 - val_acc: 0.9390\n",
            "Epoch 9/100\n",
            "100/100 [==============================] - 18s 181ms/step - loss: 0.0317 - acc: 0.9905 - val_loss: 0.3943 - val_acc: 0.9060\n",
            "Epoch 10/100\n",
            "100/100 [==============================] - 20s 195ms/step - loss: 0.0442 - acc: 0.9845 - val_loss: 0.3761 - val_acc: 0.8940\n",
            "Epoch 11/100\n",
            "100/100 [==============================] - 18s 182ms/step - loss: 0.0450 - acc: 0.9865 - val_loss: 0.2713 - val_acc: 0.9270\n",
            "Epoch 12/100\n",
            "100/100 [==============================] - 19s 194ms/step - loss: 0.0307 - acc: 0.9905 - val_loss: 0.2737 - val_acc: 0.9210\n",
            "Epoch 13/100\n",
            "100/100 [==============================] - 18s 182ms/step - loss: 0.0296 - acc: 0.9895 - val_loss: 0.2513 - val_acc: 0.9350\n",
            "Epoch 14/100\n",
            "100/100 [==============================] - 19s 188ms/step - loss: 0.0212 - acc: 0.9935 - val_loss: 0.4028 - val_acc: 0.9050\n",
            "Epoch 15/100\n",
            "100/100 [==============================] - 18s 182ms/step - loss: 0.0234 - acc: 0.9935 - val_loss: 0.3391 - val_acc: 0.9220\n",
            "Epoch 16/100\n",
            "100/100 [==============================] - 19s 194ms/step - loss: 0.0211 - acc: 0.9915 - val_loss: 0.4351 - val_acc: 0.9030\n",
            "Epoch 17/100\n",
            "100/100 [==============================] - 18s 182ms/step - loss: 0.0175 - acc: 0.9935 - val_loss: 0.3070 - val_acc: 0.9320\n",
            "Epoch 18/100\n",
            "100/100 [==============================] - 18s 182ms/step - loss: 0.0204 - acc: 0.9920 - val_loss: 0.3250 - val_acc: 0.9300\n",
            "Epoch 19/100\n",
            "100/100 [==============================] - 18s 181ms/step - loss: 0.0255 - acc: 0.9915 - val_loss: 0.3228 - val_acc: 0.9240\n",
            "Epoch 20/100\n",
            "100/100 [==============================] - 19s 186ms/step - loss: 0.0150 - acc: 0.9960 - val_loss: 0.3064 - val_acc: 0.9440\n",
            "Epoch 21/100\n",
            "100/100 [==============================] - 19s 188ms/step - loss: 0.0251 - acc: 0.9910 - val_loss: 0.3393 - val_acc: 0.9200\n",
            "Epoch 22/100\n",
            "100/100 [==============================] - 18s 181ms/step - loss: 0.0172 - acc: 0.9970 - val_loss: 0.3167 - val_acc: 0.9310\n",
            "Epoch 23/100\n",
            "100/100 [==============================] - 18s 181ms/step - loss: 0.0136 - acc: 0.9950 - val_loss: 0.3261 - val_acc: 0.9360\n",
            "Epoch 24/100\n",
            "100/100 [==============================] - 18s 181ms/step - loss: 0.0101 - acc: 0.9960 - val_loss: 0.3122 - val_acc: 0.9420\n",
            "Epoch 25/100\n",
            "100/100 [==============================] - 19s 194ms/step - loss: 0.0123 - acc: 0.9970 - val_loss: 0.3672 - val_acc: 0.9370\n",
            "Epoch 26/100\n",
            "100/100 [==============================] - 18s 181ms/step - loss: 0.0144 - acc: 0.9930 - val_loss: 0.3523 - val_acc: 0.9250\n",
            "Epoch 27/100\n",
            "100/100 [==============================] - 19s 193ms/step - loss: 0.0148 - acc: 0.9970 - val_loss: 0.4261 - val_acc: 0.9160\n",
            "Epoch 28/100\n",
            "100/100 [==============================] - 18s 181ms/step - loss: 0.0157 - acc: 0.9945 - val_loss: 0.4814 - val_acc: 0.9260\n",
            "Epoch 29/100\n",
            "100/100 [==============================] - 19s 193ms/step - loss: 0.0210 - acc: 0.9955 - val_loss: 0.3587 - val_acc: 0.9330\n",
            "Epoch 30/100\n",
            "100/100 [==============================] - 19s 186ms/step - loss: 0.0109 - acc: 0.9950 - val_loss: 0.2815 - val_acc: 0.9470\n",
            "Epoch 31/100\n",
            "100/100 [==============================] - 18s 182ms/step - loss: 0.0066 - acc: 0.9965 - val_loss: 0.3083 - val_acc: 0.9360\n",
            "Epoch 32/100\n",
            "100/100 [==============================] - 18s 182ms/step - loss: 0.0097 - acc: 0.9970 - val_loss: 0.4949 - val_acc: 0.9200\n",
            "Epoch 33/100\n",
            "100/100 [==============================] - 18s 185ms/step - loss: 0.0084 - acc: 0.9980 - val_loss: 0.3426 - val_acc: 0.9400\n",
            "Epoch 34/100\n",
            "100/100 [==============================] - 19s 188ms/step - loss: 0.0051 - acc: 0.9980 - val_loss: 0.6257 - val_acc: 0.8910\n",
            "Epoch 35/100\n",
            "100/100 [==============================] - 18s 182ms/step - loss: 0.0084 - acc: 0.9960 - val_loss: 0.4515 - val_acc: 0.9170\n",
            "Epoch 36/100\n",
            "100/100 [==============================] - 18s 181ms/step - loss: 0.0077 - acc: 0.9975 - val_loss: 0.3863 - val_acc: 0.9330\n",
            "Epoch 37/100\n",
            "100/100 [==============================] - 18s 181ms/step - loss: 0.0098 - acc: 0.9980 - val_loss: 0.3953 - val_acc: 0.9260\n",
            "Epoch 38/100\n",
            "100/100 [==============================] - 19s 194ms/step - loss: 0.0126 - acc: 0.9965 - val_loss: 0.3544 - val_acc: 0.9400\n",
            "Epoch 39/100\n",
            "100/100 [==============================] - 18s 182ms/step - loss: 0.0108 - acc: 0.9970 - val_loss: 0.3555 - val_acc: 0.9400\n",
            "Epoch 40/100\n",
            "100/100 [==============================] - 18s 182ms/step - loss: 0.0031 - acc: 0.9990 - val_loss: 0.4670 - val_acc: 0.9290\n",
            "Epoch 41/100\n",
            "100/100 [==============================] - 18s 181ms/step - loss: 0.0108 - acc: 0.9975 - val_loss: 0.3750 - val_acc: 0.9380\n",
            "Epoch 42/100\n",
            "100/100 [==============================] - 19s 192ms/step - loss: 0.0067 - acc: 0.9970 - val_loss: 0.3909 - val_acc: 0.9340\n",
            "Epoch 43/100\n",
            "100/100 [==============================] - 19s 188ms/step - loss: 0.0099 - acc: 0.9970 - val_loss: 0.4086 - val_acc: 0.9300\n",
            "Epoch 44/100\n",
            "100/100 [==============================] - 19s 188ms/step - loss: 0.0101 - acc: 0.9970 - val_loss: 0.3818 - val_acc: 0.9290\n",
            "Epoch 45/100\n",
            "100/100 [==============================] - 18s 182ms/step - loss: 0.0038 - acc: 0.9985 - val_loss: 0.4759 - val_acc: 0.9280\n",
            "Epoch 46/100\n",
            "100/100 [==============================] - 18s 184ms/step - loss: 0.0078 - acc: 0.9985 - val_loss: 0.3733 - val_acc: 0.9360\n",
            "Epoch 47/100\n",
            "100/100 [==============================] - 19s 193ms/step - loss: 0.0104 - acc: 0.9965 - val_loss: 0.4169 - val_acc: 0.9380\n",
            "Epoch 48/100\n",
            "100/100 [==============================] - 18s 181ms/step - loss: 0.0138 - acc: 0.9950 - val_loss: 0.2938 - val_acc: 0.9480\n",
            "Epoch 49/100\n",
            "100/100 [==============================] - 18s 181ms/step - loss: 0.0037 - acc: 0.9995 - val_loss: 0.4150 - val_acc: 0.9350\n",
            "Epoch 50/100\n",
            "100/100 [==============================] - 18s 183ms/step - loss: 0.0099 - acc: 0.9970 - val_loss: 0.4136 - val_acc: 0.9360\n",
            "Epoch 51/100\n",
            "100/100 [==============================] - 19s 194ms/step - loss: 0.0036 - acc: 0.9990 - val_loss: 0.4040 - val_acc: 0.9390\n",
            "Epoch 52/100\n",
            "100/100 [==============================] - 18s 182ms/step - loss: 0.0047 - acc: 0.9980 - val_loss: 0.3081 - val_acc: 0.9410\n",
            "Epoch 53/100\n",
            "100/100 [==============================] - 18s 182ms/step - loss: 0.0052 - acc: 0.9975 - val_loss: 0.4943 - val_acc: 0.9260\n",
            "Epoch 54/100\n",
            "100/100 [==============================] - 18s 182ms/step - loss: 0.0044 - acc: 0.9985 - val_loss: 0.3738 - val_acc: 0.9300\n",
            "Epoch 55/100\n",
            "100/100 [==============================] - 19s 190ms/step - loss: 0.0082 - acc: 0.9960 - val_loss: 0.4678 - val_acc: 0.9170\n",
            "Epoch 56/100\n",
            "100/100 [==============================] - 18s 183ms/step - loss: 0.0042 - acc: 0.9985 - val_loss: 0.3893 - val_acc: 0.9350\n",
            "Epoch 57/100\n",
            "100/100 [==============================] - 18s 182ms/step - loss: 0.0033 - acc: 0.9980 - val_loss: 0.3879 - val_acc: 0.9490\n",
            "Epoch 58/100\n",
            "100/100 [==============================] - 18s 182ms/step - loss: 0.0105 - acc: 0.9975 - val_loss: 0.3153 - val_acc: 0.9540\n",
            "Epoch 59/100\n",
            "100/100 [==============================] - 18s 183ms/step - loss: 0.0046 - acc: 0.9985 - val_loss: 0.4870 - val_acc: 0.9310\n",
            "Epoch 60/100\n",
            "100/100 [==============================] - 20s 202ms/step - loss: 0.0052 - acc: 0.9980 - val_loss: 0.3751 - val_acc: 0.9410\n",
            "Epoch 61/100\n",
            "100/100 [==============================] - 18s 182ms/step - loss: 0.0048 - acc: 0.9980 - val_loss: 0.5161 - val_acc: 0.9320\n",
            "Epoch 62/100\n",
            "100/100 [==============================] - 18s 181ms/step - loss: 0.0064 - acc: 0.9970 - val_loss: 0.4448 - val_acc: 0.9300\n",
            "Epoch 63/100\n",
            "100/100 [==============================] - 19s 185ms/step - loss: 0.0019 - acc: 0.9995 - val_loss: 0.4271 - val_acc: 0.9420\n",
            "Epoch 64/100\n",
            "100/100 [==============================] - 19s 195ms/step - loss: 0.0026 - acc: 0.9985 - val_loss: 0.4258 - val_acc: 0.9510\n",
            "Epoch 65/100\n",
            "100/100 [==============================] - 18s 181ms/step - loss: 0.0172 - acc: 0.9960 - val_loss: 0.4225 - val_acc: 0.9450\n",
            "Epoch 66/100\n",
            "100/100 [==============================] - 18s 181ms/step - loss: 0.0041 - acc: 0.9990 - val_loss: 0.5053 - val_acc: 0.9270\n",
            "Epoch 67/100\n",
            "100/100 [==============================] - 18s 181ms/step - loss: 0.0082 - acc: 0.9980 - val_loss: 0.3802 - val_acc: 0.9470\n",
            "Epoch 68/100\n",
            "100/100 [==============================] - 19s 191ms/step - loss: 0.0065 - acc: 0.9990 - val_loss: 0.4893 - val_acc: 0.9220\n",
            "Epoch 69/100\n",
            "100/100 [==============================] - 18s 181ms/step - loss: 0.0027 - acc: 0.9985 - val_loss: 0.4874 - val_acc: 0.9340\n",
            "Epoch 70/100\n",
            "100/100 [==============================] - 18s 181ms/step - loss: 0.0103 - acc: 0.9980 - val_loss: 0.4193 - val_acc: 0.9420\n",
            "Epoch 71/100\n",
            "100/100 [==============================] - 18s 180ms/step - loss: 0.0027 - acc: 0.9990 - val_loss: 0.3776 - val_acc: 0.9460\n",
            "Epoch 72/100\n",
            "100/100 [==============================] - 18s 181ms/step - loss: 0.0112 - acc: 0.9970 - val_loss: 0.3581 - val_acc: 0.9470\n",
            "Epoch 73/100\n",
            "100/100 [==============================] - 19s 193ms/step - loss: 0.0011 - acc: 1.0000 - val_loss: 0.6074 - val_acc: 0.9260\n",
            "Epoch 74/100\n",
            "100/100 [==============================] - 18s 181ms/step - loss: 3.6517e-04 - acc: 1.0000 - val_loss: 0.5706 - val_acc: 0.9270\n",
            "Epoch 75/100\n",
            "100/100 [==============================] - 18s 181ms/step - loss: 0.0083 - acc: 0.9970 - val_loss: 0.4354 - val_acc: 0.9300\n",
            "Epoch 76/100\n",
            "100/100 [==============================] - 18s 180ms/step - loss: 0.0028 - acc: 0.9990 - val_loss: 0.4585 - val_acc: 0.9380\n",
            "Epoch 77/100\n",
            "100/100 [==============================] - 20s 197ms/step - loss: 6.5315e-04 - acc: 0.9995 - val_loss: 0.5208 - val_acc: 0.9420\n",
            "Epoch 78/100\n",
            "100/100 [==============================] - 18s 180ms/step - loss: 0.0056 - acc: 0.9985 - val_loss: 0.4964 - val_acc: 0.9420\n",
            "Epoch 79/100\n",
            "100/100 [==============================] - 18s 180ms/step - loss: 0.0031 - acc: 0.9990 - val_loss: 0.4864 - val_acc: 0.9380\n",
            "Epoch 80/100\n",
            "100/100 [==============================] - 19s 187ms/step - loss: 0.0050 - acc: 0.9995 - val_loss: 0.4111 - val_acc: 0.9440\n",
            "Epoch 81/100\n",
            "100/100 [==============================] - 19s 188ms/step - loss: 0.0032 - acc: 0.9990 - val_loss: 0.7079 - val_acc: 0.9100\n",
            "Epoch 82/100\n",
            "100/100 [==============================] - 18s 184ms/step - loss: 0.0070 - acc: 0.9990 - val_loss: 0.4784 - val_acc: 0.9360\n",
            "Epoch 83/100\n",
            "100/100 [==============================] - 18s 181ms/step - loss: 0.0019 - acc: 0.9990 - val_loss: 0.5503 - val_acc: 0.9280\n",
            "Epoch 84/100\n",
            "100/100 [==============================] - 18s 180ms/step - loss: 0.0161 - acc: 0.9985 - val_loss: 0.4230 - val_acc: 0.9450\n",
            "Epoch 85/100\n",
            "100/100 [==============================] - 18s 181ms/step - loss: 0.0102 - acc: 0.9985 - val_loss: 0.4630 - val_acc: 0.9490\n",
            "Epoch 86/100\n",
            "100/100 [==============================] - 19s 193ms/step - loss: 0.0019 - acc: 0.9995 - val_loss: 0.4522 - val_acc: 0.9360\n",
            "Epoch 87/100\n",
            "100/100 [==============================] - 18s 180ms/step - loss: 0.0086 - acc: 0.9990 - val_loss: 0.5352 - val_acc: 0.9450\n",
            "Epoch 88/100\n",
            "100/100 [==============================] - 18s 180ms/step - loss: 0.0015 - acc: 0.9990 - val_loss: 0.4609 - val_acc: 0.9460\n",
            "Epoch 89/100\n",
            "100/100 [==============================] - 18s 180ms/step - loss: 0.0033 - acc: 0.9995 - val_loss: 0.5655 - val_acc: 0.9310\n",
            "Epoch 90/100\n",
            "100/100 [==============================] - 19s 193ms/step - loss: 0.0043 - acc: 0.9990 - val_loss: 0.4225 - val_acc: 0.9490\n",
            "Epoch 91/100\n",
            "100/100 [==============================] - 18s 181ms/step - loss: 2.2050e-04 - acc: 1.0000 - val_loss: 0.4586 - val_acc: 0.9430\n",
            "Epoch 92/100\n",
            "100/100 [==============================] - 18s 180ms/step - loss: 0.0058 - acc: 0.9980 - val_loss: 0.5040 - val_acc: 0.9390\n",
            "Epoch 93/100\n",
            "100/100 [==============================] - 18s 180ms/step - loss: 3.1958e-04 - acc: 1.0000 - val_loss: 0.4380 - val_acc: 0.9370\n",
            "Epoch 94/100\n",
            "100/100 [==============================] - 20s 200ms/step - loss: 0.0020 - acc: 0.9990 - val_loss: 0.3933 - val_acc: 0.9490\n",
            "Epoch 95/100\n",
            "100/100 [==============================] - 19s 186ms/step - loss: 0.0037 - acc: 0.9990 - val_loss: 0.4627 - val_acc: 0.9450\n",
            "Epoch 96/100\n",
            "100/100 [==============================] - 18s 184ms/step - loss: 0.0071 - acc: 0.9975 - val_loss: 0.4389 - val_acc: 0.9460\n",
            "Epoch 97/100\n",
            "100/100 [==============================] - 18s 184ms/step - loss: 0.0077 - acc: 0.9980 - val_loss: 0.4467 - val_acc: 0.9410\n",
            "Epoch 98/100\n",
            "100/100 [==============================] - 18s 182ms/step - loss: 0.0019 - acc: 0.9990 - val_loss: 0.5871 - val_acc: 0.9250\n",
            "Epoch 99/100\n",
            "100/100 [==============================] - 19s 193ms/step - loss: 0.0039 - acc: 0.9995 - val_loss: 0.6829 - val_acc: 0.9310\n",
            "Epoch 100/100\n",
            "100/100 [==============================] - 18s 182ms/step - loss: 0.0065 - acc: 0.9980 - val_loss: 0.4193 - val_acc: 0.9480\n"
          ],
          "name": "stdout"
        }
      ]
    },
    {
      "metadata": {
        "id": "ELAQM9DnDksT",
        "colab_type": "text"
      },
      "cell_type": "markdown",
      "source": [
        "### Displaying training and validation curves with fine tuning"
      ]
    },
    {
      "metadata": {
        "id": "hkdJwGMjDsXE",
        "colab_type": "code",
        "colab": {
          "base_uri": "https://localhost:8080/",
          "height": 545
        },
        "outputId": "91228890-6070-4a21-de86-0455b32fa881"
      },
      "cell_type": "code",
      "source": [
        "%matplotlib inline\n",
        "\n",
        "import matplotlib.pyplot as plt\n",
        "\n",
        "acc = history.history['acc']\n",
        "val_acc = history.history['val_acc']\n",
        "\n",
        "loss = history.history['loss']\n",
        "val_loss = history.history['val_loss']\n",
        "\n",
        "epochs = range(1, len(acc) + 1)\n",
        "\n",
        "# training and validation accuracy\n",
        "\n",
        "plt.plot(epochs, acc, 'b', label='training acc')\n",
        "plt.plot(epochs, val_acc, 'r', label='validation acc')\n",
        "plt.title('training and validation accuracy')\n",
        "plt.legend()\n",
        "\n",
        "plt.figure()\n",
        "\n",
        "# training and validation loss\n",
        "\n",
        "plt.plot(epochs, loss, 'b', label='training loss')\n",
        "plt.plot(epochs, val_loss, 'r', label='validation loss')\n",
        "plt.title('training and validation loss')\n",
        "plt.legend()\n",
        "\n",
        "plt.show()"
      ],
      "execution_count": 10,
      "outputs": [
        {
          "output_type": "display_data",
          "data": {
            "image/png": "[encoded data removed]",
            "text/plain": [
              "<Figure size 432x288 with 1 Axes>"
            ]
          },
          "metadata": {
            "tags": []
          }
        },
        {
          "output_type": "display_data",
          "data": {
            "image/png": "[encoded data removed]",
            "text/plain": [
              "<Figure size 432x288 with 1 Axes>"
            ]
          },
          "metadata": {
            "tags": []
          }
        }
      ]
    },
    {
      "metadata": {
        "id": "FIogJFaOR0FD",
        "colab_type": "text"
      },
      "cell_type": "markdown",
      "source": [
        "### Evaluating on the Validation dataset"
      ]
    },
    {
      "metadata": {
        "id": "e3fvliojR4U8",
        "colab_type": "code",
        "outputId": "523207d8-8b61-4568-a5f8-af6ae3daa477",
        "colab": {
          "base_uri": "https://localhost:8080/",
          "height": 52
        }
      },
      "cell_type": "code",
      "source": [
        "val_loss, val_acc = model.evaluate_generator(validation_generator, steps=50)\n",
        "print(\"Validation loss:\", val_loss)\n",
        "print(\"Validation accuracy:\", val_acc)"
      ],
      "execution_count": 11,
      "outputs": [
        {
          "output_type": "stream",
          "text": [
            "Validation loss: 0.5511307896525386\n",
            "Validation accuracy: 0.941999990940094\n"
          ],
          "name": "stdout"
        }
      ]
    },
    {
      "metadata": {
        "id": "uL_2DeNFBgbw",
        "colab_type": "text"
      },
      "cell_type": "markdown",
      "source": [
        "### Saving the model"
      ]
    },
    {
      "metadata": {
        "id": "Ea7Ai3dWBjKC",
        "colab_type": "code",
        "colab": {}
      },
      "cell_type": "code",
      "source": [
        "model_fname = 'cats_and_dogs_small_4.h5' \n",
        "model.save(model_fname)"
      ],
      "execution_count": 0,
      "outputs": []
    }
  ]
}