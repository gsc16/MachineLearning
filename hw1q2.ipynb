{
  "nbformat": 4,
  "nbformat_minor": 0,
  "metadata": {
    "colab": {
      "name": "hw1q2.ipynb",
      "version": "0.3.2",
      "provenance": [],
      "collapsed_sections": [],
      "include_colab_link": true
    },
    "kernelspec": {
      "name": "python3",
      "display_name": "Python 3"
    }
  },
  "cells": [
    {
      "cell_type": "markdown",
      "metadata": {
        "id": "view-in-github",
        "colab_type": "text"
      },
      "source": [
        "<a href=\"https://colab.research.google.com/github/gsc16/MachineLearning/blob/master/hw1q2.ipynb\" target=\"_parent\"><img src=\"https://colab.research.google.com/assets/colab-badge.svg\" alt=\"Open In Colab\"/></a>"
      ]
    },
    {
      "metadata": {
        "id": "nmhTVRGsVBh_",
        "colab_type": "text"
      },
      "cell_type": "markdown",
      "source": [
        "Imports"
      ]
    },
    {
      "metadata": {
        "id": "3UFi5pw44gHF",
        "colab_type": "code",
        "outputId": "b168970d-f1cc-48b8-8302-ce12327d7f91",
        "colab": {
          "base_uri": "https://localhost:8080/",
          "height": 34
        }
      },
      "cell_type": "code",
      "source": [
        "import keras\n",
        "import numpy as np\n",
        "from keras.datasets import mnist\n",
        "from keras.utils import to_categorical\n",
        "import math"
      ],
      "execution_count": 1,
      "outputs": [
        {
          "output_type": "stream",
          "text": [
            "Using TensorFlow backend.\n"
          ],
          "name": "stderr"
        }
      ]
    },
    {
      "metadata": {
        "id": "k1dze9kK4fSc",
        "colab_type": "text"
      },
      "cell_type": "markdown",
      "source": [
        "Loading images from MNIST dataset"
      ]
    },
    {
      "metadata": {
        "id": "u67qvbgpU7cm",
        "colab_type": "code",
        "colab": {}
      },
      "cell_type": "code",
      "source": [
        "(train_images_original, train_labels_original), (test_images_original, test_labels_original) = mnist.load_data()"
      ],
      "execution_count": 0,
      "outputs": []
    },
    {
      "metadata": {
        "id": "Kt9zW_28WeIw",
        "colab_type": "text"
      },
      "cell_type": "markdown",
      "source": [
        "Displaying the original values"
      ]
    },
    {
      "metadata": {
        "id": "jXW4rjttWjmh",
        "colab_type": "code",
        "outputId": "535c62b9-813d-482c-87c3-885e9778fffa",
        "colab": {
          "base_uri": "https://localhost:8080/",
          "height": 87
        }
      },
      "cell_type": "code",
      "source": [
        "train_images_original.shape, train_labels_original, test_images_original.shape, test_labels_original.shape"
      ],
      "execution_count": 3,
      "outputs": [
        {
          "output_type": "execute_result",
          "data": {
            "text/plain": [
              "((60000, 28, 28),\n",
              " array([5, 0, 4, ..., 5, 6, 8], dtype=uint8),\n",
              " (10000, 28, 28),\n",
              " (10000,))"
            ]
          },
          "metadata": {
            "tags": []
          },
          "execution_count": 3
        }
      ]
    },
    {
      "metadata": {
        "id": "gxGF4kP5WTSq",
        "colab_type": "text"
      },
      "cell_type": "markdown",
      "source": [
        "Extracting images - Reshaping and flattening"
      ]
    },
    {
      "metadata": {
        "id": "Vy8UC4a4WS22",
        "colab_type": "code",
        "colab": {}
      },
      "cell_type": "code",
      "source": [
        "train_images_new = train_images_original.reshape(60000, 28*28)\n",
        "train_images_new = train_images_new.astype('float32') / 255;\n",
        "train_images_new = train_images_new.T\n",
        "\n",
        "test_images_new = test_images_original.reshape(10000, 28 *28)   \n",
        "test_images_new = test_images_new.astype('float32') / 255;\n",
        "test_images_new = test_images_new.T\n",
        "\n",
        "train_labels_original = train_labels_original.T\n",
        "test_labels_original = test_labels_original.T"
      ],
      "execution_count": 0,
      "outputs": []
    },
    {
      "metadata": {
        "id": "xjVXxQ7l43rO",
        "colab_type": "text"
      },
      "cell_type": "markdown",
      "source": [
        "Converting integer vectors of labels to binary"
      ]
    },
    {
      "metadata": {
        "id": "ftLmk4m649nN",
        "colab_type": "code",
        "colab": {}
      },
      "cell_type": "code",
      "source": [
        "train_labels_new = keras.utils.to_categorical(train_labels_original, 10)\n",
        "test_labels_new = keras.utils.to_categorical(test_labels_original, 10)"
      ],
      "execution_count": 0,
      "outputs": []
    },
    {
      "metadata": {
        "id": "Qc2MNy5SWrW-",
        "colab_type": "text"
      },
      "cell_type": "markdown",
      "source": [
        "Displaying new values"
      ]
    },
    {
      "metadata": {
        "id": "UM7GoBRgWtR9",
        "colab_type": "code",
        "outputId": "95a0b3c9-11ac-491a-b874-c86bc75ae411",
        "colab": {
          "base_uri": "https://localhost:8080/",
          "height": 34
        }
      },
      "cell_type": "code",
      "source": [
        "train_images_new.shape, train_labels_new.shape, test_images_new.shape, test_labels_new.shape"
      ],
      "execution_count": 6,
      "outputs": [
        {
          "output_type": "execute_result",
          "data": {
            "text/plain": [
              "((784, 60000), (60000, 10), (784, 10000), (10000, 10))"
            ]
          },
          "metadata": {
            "tags": []
          },
          "execution_count": 6
        }
      ]
    },
    {
      "metadata": {
        "id": "GPx2Gsm-ipUc",
        "colab_type": "text"
      },
      "cell_type": "markdown",
      "source": [
        "Initializing the learning rate, batch size and number of epochs"
      ]
    },
    {
      "metadata": {
        "id": "Pk6ULRdiiuHg",
        "colab_type": "code",
        "colab": {}
      },
      "cell_type": "code",
      "source": [
        "learning_rate = 0.001\n",
        "batch_size = 32\n",
        "epochs = 12\n",
        "num_classes =1"
      ],
      "execution_count": 0,
      "outputs": []
    },
    {
      "metadata": {
        "id": "Voy20j8Th4iU",
        "colab_type": "text"
      },
      "cell_type": "markdown",
      "source": [
        "Definitions"
      ]
    },
    {
      "metadata": {
        "id": "nIo1B1ZZh6Yc",
        "colab_type": "code",
        "colab": {}
      },
      "cell_type": "code",
      "source": [
        "#Function to calculate logistic regression\n",
        "def log_reg(w,b,X):\n",
        "  return np.dot(w.T, X) + b  \n",
        "\n",
        "# Function to calculate value of sigmoid function\n",
        "def sigmoid(z):\n",
        "  return 1.0/(1.0+np.exp(-z))\n",
        "\n",
        "\n",
        "\n",
        "# Function to calculate the mini batches\n",
        "def cal_mini_batches(X, Y): \n",
        "    for index in range(0, X.shape[0] - batch_size + 1, batch_size):\n",
        "        new_batch = slice(index, index + batch_size)\n",
        "        yield X[new_batch], Y[new_batch]\n",
        "        \n",
        "# Function to calculate the minibatch stochastic gradient descent - Binary Cross Entropy Loss Function\n",
        "# This function updates the values of weight and bias based on the learning rate and gradient calculated from the loss function\n",
        "def minibatch(w, b, X, Y):\n",
        "  for i in range(epochs):\n",
        "    for batch in cal_mini_batches(X.T, Y.T):\n",
        "      x_batch, y_batch = batch\n",
        "      xt = x_batch.T\n",
        "      yt = y_batch.T\n",
        "      l_reg = log_reg(w,b,xt)\n",
        "      Z = sigmoid(l_reg)\n",
        "      #sig_prime = sigmoid_prime(Z)\n",
        "      loss = (Z-yt)\n",
        "  \n",
        "      # Calculate the gradients\n",
        "      gradient_w = np.dot(xt, loss.T)\n",
        "      gradient_b = np.sum(loss)\n",
        "      \n",
        "      w = w - learning_rate * gradient_w \n",
        "      b = b - learning_rate * gradient_b\n",
        "  return w,b\n",
        "\n",
        "\n",
        "#Function for calcukating the prediction accuracy of images: \n",
        "#This function returns 1 if the sigmoid value of images is greater than 0.5(i.e., the digit classified is same as the label), else it returns 0\n",
        "def cal_prediction(w, b, X):\n",
        "  pred = np.zeros((1, X.shape[1])) \n",
        "  w = w.reshape(X.shape[0], num_classes)\n",
        "  l_reg = log_reg(w,b,X)\n",
        "  Z = sigmoid(l_reg)\n",
        "  \n",
        "  for i in range(Z.shape[1]):\n",
        "    pred[0, i] = 1 if Z[0, i] > 0.5 else 0 # storing 0 or 1 based on the confidence value of the predicted output\n",
        "  \n",
        "  return pred\n",
        "        "
      ],
      "execution_count": 0,
      "outputs": []
    },
    {
      "metadata": {
        "id": "pKZwFPrf9bt_",
        "colab_type": "code",
        "colab": {}
      },
      "cell_type": "code",
      "source": [
        "# Function to run the binary classification model for each classifier(0 to 9)\n",
        "# This function calculates the test accuracies for each classifier and returns it\n",
        "\n",
        "def classifier_model(train_images_new, train_labels_original, test_images_new, test_labels_original,train_labels_new,test_labels_new):\n",
        " \n",
        "  training_accuracy = list()\n",
        "  test_accuracy = list()\n",
        "  for i in range(0,10):\n",
        "      # set the digit to classify\n",
        "      classifier_digit = i;\n",
        "      \n",
        "      #modifying training labels to create single class classification\n",
        "      train_labels_modified = np.array(train_labels_original);\n",
        "      train_labels_modified = np.where(train_labels_modified == classifier_digit, 1, 0)\n",
        "      \n",
        "      test_labels_modified = np.array(test_labels_original);\n",
        "      test_labels_modified = np.where(test_labels_modified == classifier_digit, 1, 0)\n",
        "      \n",
        "      #Initializing the weight vector and bias\n",
        "      w = np.zeros(shape=(train_images_new.shape[0], 1))\n",
        "      b = 0\n",
        "      w , b = minibatch(w, b, train_images_new, train_labels_modified)\n",
        "\n",
        "      # Predicting the values of the labels based on the given weight and bias\n",
        "      prediction_train = cal_prediction(w, b, train_images_new)\n",
        "      prediction_test = cal_prediction(w,b, test_images_new) \n",
        "      \n",
        "      # Create array similar to train_labels_new and test_labels_new to store the categorical values of labels\n",
        "      train_labels_new[:,[i]] = prediction_train.T\n",
        "      test_labels_new[:,[i]] = prediction_test.T\n",
        "      \n",
        "      # Calculate the training accuracy for each classifier\n",
        "      train_acc = 100 - np.mean(np.abs(prediction_train - train_labels_modified)) * 100\n",
        "      training_accuracy.append(train_acc)\n",
        "      print(\"Training accuracy of classifer \" + str(i) + \" is :  \"+str(train_acc))\n",
        "      \n",
        "      # Calculate the test accuracy for each classifier\n",
        "      test_acc = 100 - np.mean(np.abs(prediction_test - test_labels_modified)) * 100\n",
        "      test_accuracy.append(test_acc)\n",
        "      print(\"Test accuracy of classifer \" + str(i) +\" is : \" + str(test_acc))\n",
        "    \n",
        "  return test_accuracy; "
      ],
      "execution_count": 0,
      "outputs": []
    },
    {
      "metadata": {
        "id": "80JLL11590C9",
        "colab_type": "text"
      },
      "cell_type": "markdown",
      "source": [
        "Training the model for each classifier"
      ]
    },
    {
      "metadata": {
        "id": "PBLrmRhB9kBN",
        "colab_type": "code",
        "outputId": "277c8785-666d-4caa-c116-3ac4b21d15d3",
        "colab": {
          "base_uri": "https://localhost:8080/",
          "height": 369
        }
      },
      "cell_type": "code",
      "source": [
        "ta = classifier_model(train_images_new, train_labels_original, test_images_new, test_labels_original,train_labels_new,test_labels_new)"
      ],
      "execution_count": 10,
      "outputs": [
        {
          "output_type": "stream",
          "text": [
            "Training accuracy of classifer 0 is :  99.13\n",
            "Test accuracy of classifer 0 is : 99.19\n",
            "Training accuracy of classifer 1 is :  99.08666666666667\n",
            "Test accuracy of classifer 1 is : 99.33\n",
            "Training accuracy of classifer 2 is :  97.845\n",
            "Test accuracy of classifer 2 is : 97.89\n",
            "Training accuracy of classifer 3 is :  97.53166666666667\n",
            "Test accuracy of classifer 3 is : 97.81\n",
            "Training accuracy of classifer 4 is :  98.28833333333333\n",
            "Test accuracy of classifer 4 is : 98.17\n",
            "Training accuracy of classifer 5 is :  97.19333333333333\n",
            "Test accuracy of classifer 5 is : 97.44\n",
            "Training accuracy of classifer 6 is :  98.73333333333333\n",
            "Test accuracy of classifer 6 is : 98.68\n",
            "Training accuracy of classifer 7 is :  98.425\n",
            "Test accuracy of classifer 7 is : 98.52\n",
            "Training accuracy of classifer 8 is :  95.92666666666666\n",
            "Test accuracy of classifer 8 is : 96.11\n",
            "Training accuracy of classifer 9 is :  96.41\n",
            "Test accuracy of classifer 9 is : 96.43\n"
          ],
          "name": "stdout"
        }
      ]
    },
    {
      "metadata": {
        "id": "GQP4qvbo8ANL",
        "colab_type": "text"
      },
      "cell_type": "markdown",
      "source": [
        "Determining the classifier with maximum accuracy"
      ]
    },
    {
      "metadata": {
        "id": "IaSda0dWnK-W",
        "colab_type": "code",
        "outputId": "63601077-ebf3-4d97-ac6c-df8be82f265e",
        "colab": {
          "base_uri": "https://localhost:8080/",
          "height": 52
        }
      },
      "cell_type": "code",
      "source": [
        "print(ta)\n",
        "strong_digit = 0\n",
        "strong_classified = ta[0]\n",
        "classified = np.argmax(ta)\n",
        "classified_value = np.argmax(ta)\n",
        "for i in range(0,len(ta)):\n",
        "  if ta[i] > strong_classified:\n",
        "    strong_classified = ta[i]\n",
        "    strong_digit = i\n",
        "print(\"The most strongly classified digit is \"+ str(classified) +\" with accuracy \"+str(strong_classified))"
      ],
      "execution_count": 11,
      "outputs": [
        {
          "output_type": "stream",
          "text": [
            "[99.19, 99.33, 97.89, 97.81, 98.17, 97.44, 98.68, 98.52, 96.11, 96.43]\n",
            "The most strongly classified digit is 1 with accuracy 99.33\n"
          ],
          "name": "stdout"
        }
      ]
    }
  ]
}